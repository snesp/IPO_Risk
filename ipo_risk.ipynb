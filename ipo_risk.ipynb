{
 "cells": [
  {
   "cell_type": "markdown",
   "id": "0d09599b",
   "metadata": {},
   "source": [
    "# Case Study: (HyIPO) Hyped Initial Product Offerings\n",
    "### Candidate Name: Sneha Santha Prabakar"
   ]
  },
  {
   "cell_type": "markdown",
   "id": "6da71b88",
   "metadata": {},
   "source": [
    "**Summary:**\n",
    "\n",
    "This notebook reports the analysis of past IPOs (from the year 2000 to 2020) in order to assess the risk of an IPO investment. Risk is a measure of uncertainity, and hence, in the context of an IPO investment there are 2 types of risks- Upside risk (which results in profits) and Downside risk (which results in losses). Any potential investor would want understand the factors that influence both these types of risks so that they can maximize their returns and refrain from making losses in this kind of an investment.\n",
    "\n",
    "Hence, in this analysis we would address the following points that would help a potential investor make data-driven decisions about choosing an IPO:\n",
    "1. Measure the risk of investment in an IPO\n",
    "2. Stratergies to minimize the downside risk in IPO investment\n",
    "3. Factors that influence the rewards (i.e. the upside risk) of an IPO\n",
    "4. Predict the returns of an IPO\n",
    "\n",
    "This notebook uses only the first day performance of the IPO to assess the risk as well as returns. The current market price has been conciously avoided as it is the heavily depended on the market cycle and multiple exogeneous factors which are over-riding and outside the scope of this study."
   ]
  },
  {
   "cell_type": "code",
   "execution_count": 791,
   "id": "0cbef6e9",
   "metadata": {},
   "outputs": [],
   "source": [
    "# <add pip installations>"
   ]
  },
  {
   "cell_type": "code",
   "execution_count": 792,
   "id": "cba5d1f7",
   "metadata": {},
   "outputs": [
    {
     "name": "stdout",
     "output_type": "stream",
     "text": [
      "Requirement already satisfied: fuzzywuzzy in /home/ec2-user/anaconda3/envs/python3/lib/python3.6/site-packages (0.18.0)\n",
      "Requirement already satisfied: pytrends in /home/ec2-user/anaconda3/envs/python3/lib/python3.6/site-packages (4.8.0)\n",
      "Requirement already satisfied: requests>=2.0 in /home/ec2-user/anaconda3/envs/python3/lib/python3.6/site-packages (from pytrends) (2.26.0)\n",
      "Requirement already satisfied: lxml in /home/ec2-user/anaconda3/envs/python3/lib/python3.6/site-packages (from pytrends) (4.6.4)\n",
      "Requirement already satisfied: pandas>=0.25 in /home/ec2-user/anaconda3/envs/python3/lib/python3.6/site-packages (from pytrends) (1.1.5)\n",
      "Requirement already satisfied: python-dateutil>=2.7.3 in /home/ec2-user/anaconda3/envs/python3/lib/python3.6/site-packages (from pandas>=0.25->pytrends) (2.8.1)\n",
      "Requirement already satisfied: pytz>=2017.2 in /home/ec2-user/anaconda3/envs/python3/lib/python3.6/site-packages (from pandas>=0.25->pytrends) (2021.1)\n",
      "Requirement already satisfied: numpy>=1.15.4 in /home/ec2-user/anaconda3/envs/python3/lib/python3.6/site-packages (from pandas>=0.25->pytrends) (1.19.5)\n",
      "Requirement already satisfied: charset-normalizer~=2.0.0 in /home/ec2-user/anaconda3/envs/python3/lib/python3.6/site-packages (from requests>=2.0->pytrends) (2.0.9)\n",
      "Requirement already satisfied: idna<4,>=2.5 in /home/ec2-user/anaconda3/envs/python3/lib/python3.6/site-packages (from requests>=2.0->pytrends) (3.1)\n",
      "Requirement already satisfied: certifi>=2017.4.17 in /home/ec2-user/anaconda3/envs/python3/lib/python3.6/site-packages (from requests>=2.0->pytrends) (2021.5.30)\n",
      "Requirement already satisfied: urllib3<1.27,>=1.21.1 in /home/ec2-user/anaconda3/envs/python3/lib/python3.6/site-packages (from requests>=2.0->pytrends) (1.26.8)\n",
      "Requirement already satisfied: six>=1.5 in /home/ec2-user/anaconda3/envs/python3/lib/python3.6/site-packages (from python-dateutil>=2.7.3->pandas>=0.25->pytrends) (1.15.0)\n"
     ]
    }
   ],
   "source": [
    "!pip install fuzzywuzzy\n",
    "!pip install pytrends"
   ]
  },
  {
   "cell_type": "code",
   "execution_count": 793,
   "id": "405d7f15",
   "metadata": {},
   "outputs": [],
   "source": [
    "import re\n",
    "import pandas as pd\n",
    "import numpy as np\n",
    "import datetime\n",
    "import math\n",
    "import statistics\n",
    "import scipy.stats as stats\n",
    "from scipy.stats import norm\n",
    "import itertools\n",
    "import statistics\n",
    "# from statistics import NormalDist\n",
    "from statistics import mean\n",
    "\n",
    "\n",
    "from string import punctuation\n",
    "from fuzzywuzzy import fuzz\n",
    "from fuzzywuzzy import process\n",
    "from py_stringmatching.similarity_measure.jaro import Jaro\n",
    "import difflib\n",
    "\n",
    "from sklearn.feature_extraction.text import CountVectorizer\n",
    "\n",
    "import matplotlib.pyplot as plt\n",
    "import seaborn as sns\n",
    "import plotly.express as px\n",
    "\n",
    "\n",
    "import requests\n",
    "from bs4 import BeautifulSoup\n",
    "\n",
    "import gtab\n",
    "\n",
    "import sklearn\n",
    "from sklearn.model_selection import train_test_split\n",
    "from sklearn.model_selection import KFold\n",
    "from sklearn.model_selection import cross_validate\n",
    "from sklearn.ensemble import RandomForestRegressor\n",
    "from sklearn.metrics import mean_squared_error\n",
    "from math import sqrt\n",
    "from sklearn.metrics import r2_score\n",
    "from sklearn.metrics import confusion_matrix\n"
   ]
  },
  {
   "cell_type": "code",
   "execution_count": 794,
   "id": "257fb1b0",
   "metadata": {},
   "outputs": [
    {
     "name": "stdout",
     "output_type": "stream",
     "text": [
      "Requirement already satisfied: statistics in /home/ec2-user/anaconda3/envs/python3/lib/python3.6/site-packages (1.0.3.5)\n",
      "Requirement already satisfied: docutils>=0.3 in /home/ec2-user/anaconda3/envs/python3/lib/python3.6/site-packages (from statistics) (0.15.2)\n"
     ]
    }
   ],
   "source": [
    "!pip install -U statistics"
   ]
  },
  {
   "cell_type": "markdown",
   "id": "544ad8a6",
   "metadata": {},
   "source": [
    "This notebook is divided into 6 sections. The first 3 sections deal with data cleaning and wrangling to extract useful information from different data sources. \n",
    "\n",
    "-  **Section 1: IPO Dataset**\n",
    "    - Source: Historic data of IPOs from 2000 to 2020 (https://www.iposcoop.com/scoop-track-record-from-2000-to-present/)\n",
    "    \n",
    "-  **Section 2: Company Dataset**\n",
    "    - Source: Company pages on the IPO Scoop website (multiple links). These webpages contain useful information such as age of the company, industry, market cap, stock volume, etc. at the time of the IPO. However, this information is available only for companies that have filed IPO in the past 12 months. Hence, we will do the company features analysis only for a limited dataset (IPOs in the past 12 months) to help us gain additional insight of the company information's influence on the IPO.\n",
    "    \n",
    "-  **Section 3: Data Exploration**\n",
    "    - To study the risk and rewards of the IPOs\n",
    "-  **Section 4: Model Training and Evaluation**\n",
    "    - To predict the returns of an IPO\n",
    "-  **Section 5: Results**\n",
    "    - Model performance and concluding remarks\n",
    "-  **Section 6: Possible Improvements**\n",
    "    - Enhancements that could be made to the analysis"
   ]
  },
  {
   "cell_type": "markdown",
   "id": "b57ded74",
   "metadata": {},
   "source": [
    "# Section 1: IPO Data \n",
    "Source: Historic data of IPOs from 2000 to 2020 (https://www.iposcoop.com/scoop-track-record-from-2000-to-present/)"
   ]
  },
  {
   "cell_type": "code",
   "execution_count": 795,
   "id": "f0f2609b",
   "metadata": {},
   "outputs": [
    {
     "data": {
      "text/html": [
       "<div>\n",
       "<style scoped>\n",
       "    .dataframe tbody tr th:only-of-type {\n",
       "        vertical-align: middle;\n",
       "    }\n",
       "\n",
       "    .dataframe tbody tr th {\n",
       "        vertical-align: top;\n",
       "    }\n",
       "\n",
       "    .dataframe thead th {\n",
       "        text-align: right;\n",
       "    }\n",
       "</style>\n",
       "<table border=\"1\" class=\"dataframe\">\n",
       "  <thead>\n",
       "    <tr style=\"text-align: right;\">\n",
       "      <th></th>\n",
       "      <th>Trade Date</th>\n",
       "      <th>Issuer</th>\n",
       "      <th>Symbol</th>\n",
       "      <th>Lead/Joint Lead Managers</th>\n",
       "      <th>Offer Price</th>\n",
       "      <th>Opening Price</th>\n",
       "      <th>1st Day Close</th>\n",
       "      <th>1st Day %change</th>\n",
       "      <th>$ Change Opening</th>\n",
       "      <th>$ Change Close</th>\n",
       "      <th>Star Ratings</th>\n",
       "    </tr>\n",
       "  </thead>\n",
       "  <tbody>\n",
       "    <tr>\n",
       "      <th>0</th>\n",
       "      <td>1/17/20</td>\n",
       "      <td>I-Mab</td>\n",
       "      <td>IMAB</td>\n",
       "      <td>Jefferies/ CICC</td>\n",
       "      <td>$14.00</td>\n",
       "      <td>$14.75</td>\n",
       "      <td>$12.75</td>\n",
       "      <td>-8.93%</td>\n",
       "      <td>$0.75</td>\n",
       "      <td>-$1.25</td>\n",
       "      <td>2</td>\n",
       "    </tr>\n",
       "    <tr>\n",
       "      <th>1</th>\n",
       "      <td>1/17/20</td>\n",
       "      <td>LIZHI</td>\n",
       "      <td>LIZI</td>\n",
       "      <td>Credit Suisse/ Citigroup</td>\n",
       "      <td>$11.00</td>\n",
       "      <td>$11.03</td>\n",
       "      <td>$11.63</td>\n",
       "      <td>5.73%</td>\n",
       "      <td>$0.03</td>\n",
       "      <td>$0.63</td>\n",
       "      <td>1</td>\n",
       "    </tr>\n",
       "  </tbody>\n",
       "</table>\n",
       "</div>"
      ],
      "text/plain": [
       "  Trade Date  Issuer Symbol  Lead/Joint Lead Managers Offer Price  \\\n",
       "0    1/17/20  I-Mab    IMAB           Jefferies/ CICC      $14.00   \n",
       "1    1/17/20  LIZHI    LIZI  Credit Suisse/ Citigroup      $11.00   \n",
       "\n",
       "  Opening Price 1st Day Close 1st Day %change $ Change Opening $ Change Close  \\\n",
       "0        $14.75        $12.75          -8.93%            $0.75         -$1.25   \n",
       "1        $11.03        $11.63           5.73%            $0.03          $0.63   \n",
       "\n",
       "  Star Ratings  \n",
       "0            2  \n",
       "1            1  "
      ]
     },
     "execution_count": 795,
     "metadata": {},
     "output_type": "execute_result"
    }
   ],
   "source": [
    "ipo_df = pd.read_csv('ipo_historic_data.csv')\n",
    "ipo_df.head(2)"
   ]
  },
  {
   "cell_type": "code",
   "execution_count": 796,
   "id": "5c94a28c",
   "metadata": {},
   "outputs": [
    {
     "data": {
      "text/plain": [
       "(3633, 11)"
      ]
     },
     "execution_count": 796,
     "metadata": {},
     "output_type": "execute_result"
    }
   ],
   "source": [
    "ipo_df.shape"
   ]
  },
  {
   "cell_type": "code",
   "execution_count": 797,
   "id": "d9211f8f",
   "metadata": {},
   "outputs": [
    {
     "name": "stdout",
     "output_type": "stream",
     "text": [
      "<class 'pandas.core.frame.DataFrame'>\n",
      "RangeIndex: 3633 entries, 0 to 3632\n",
      "Data columns (total 11 columns):\n",
      " #   Column                    Non-Null Count  Dtype \n",
      "---  ------                    --------------  ----- \n",
      " 0   Trade Date                3633 non-null   object\n",
      " 1   Issuer                    3633 non-null   object\n",
      " 2   Symbol                    3633 non-null   object\n",
      " 3   Lead/Joint Lead Managers  3633 non-null   object\n",
      " 4   Offer Price               3633 non-null   object\n",
      " 5   Opening Price             3633 non-null   object\n",
      " 6   1st Day Close             3633 non-null   object\n",
      " 7   1st Day %change           3632 non-null   object\n",
      " 8   $ Change Opening          3633 non-null   object\n",
      " 9   $ Change Close            3633 non-null   object\n",
      " 10  Star Ratings              3633 non-null   object\n",
      "dtypes: object(11)\n",
      "memory usage: 312.3+ KB\n"
     ]
    }
   ],
   "source": [
    "ipo_df.info()"
   ]
  },
  {
   "cell_type": "markdown",
   "id": "96544dad",
   "metadata": {},
   "source": [
    "**IPO data description:**\n",
    "    \n",
    "    1. Trade Date: Specifies the date when the IPO took place.\n",
    "        - Use: The time information is important in order to assess the market demand and company's viability before and at the time of IPO\n",
    "    2. Issuer: Name of the company whose IPO was issued\n",
    "        - Use: May be used as a unique identifier for each record/IPO\n",
    "    3. Symbol: Company symbol on stock index\n",
    "        - Use: -\n",
    "    4. Lead/Joint Lead Managers: Names of managers handling the IPO\n",
    "        - Use: It is one of the influencing factors of the IPO performance. Hence, useful in our analysis.\n",
    "    5. Offer Price: Initial pricing of the IPO (for 1 stock)\n",
    "        - Use: This information is crucial to us while calculating the returns. \n",
    "    6. Opening Price: Price of the stock at the start of the day of the IPO launch\n",
    "        - Use: Important factor in analyzing the performance of the IPO\n",
    "    7. 1st Day Close: Price of the stock at the end of the day of the IPO launch\n",
    "        - Use: Important factor in analyzing the performance of the IPO\n",
    "    8. 1st Day %change: %change in the price of each stock (closing price-offer price) at the end of the 1st day\n",
    "        - Use: It shows the %Returns of the stock\n",
    "    9. $ Change Opening: Opening Price - Offer Price\n",
    "        - Use: It is useful in understanding the popularity of the stock until the IPO vs. after the IPO\n",
    "    10. $ Change Close: Closing Price - Offer Price\n",
    "        - Use: It shows the Returns($) of the stock on day 1\n",
    "    11. Star Ratings: Predicted score (on a scale of 1 to 5) given by IPO Scoop for the performance of the stock\n",
    "        - Use: -"
   ]
  },
  {
   "cell_type": "markdown",
   "id": "c5597266",
   "metadata": {},
   "source": [
    "## Data cleaning\n",
    "\n",
    "- **Step 1: Identify and handle NULL values**\n",
    "- **Step 2: Defining the correct data type of the columns**\n",
    "- **Step 3: Modifying the 'Lead/Joint Lead Managers' column in order to:** \n",
    "    - (1) Get the count of managers handling the IPO, \n",
    "    - (2) Splitting the names of managers into multiple columns, so that we can use one-hot encoding to identify the specific managers involved in an IPO (currently all the manager names are written in the same cell)\n",
    "        - This process involves standardizing the names of the managers (correcting any inconsistencies in their naming) and using a CountVectorizer() to display the manager information in different columns\n",
    "- **Step 4: Extracting time information from the 'Trade Date' column** \n",
    "    - Year, month, quarter, day\n",
    "- **Step 5: Feature selection**\n",
    "    - Removing columns not useful for our analysis\n"
   ]
  },
  {
   "cell_type": "markdown",
   "id": "37bbc7aa",
   "metadata": {},
   "source": [
    "### Step 1: Identify and handle NULL values"
   ]
  },
  {
   "cell_type": "code",
   "execution_count": 798,
   "id": "b19a1d11",
   "metadata": {},
   "outputs": [
    {
     "data": {
      "text/plain": [
       "Trade Date                  0\n",
       "Issuer                      0\n",
       "Symbol                      0\n",
       "Lead/Joint Lead Managers    0\n",
       "Offer Price                 0\n",
       "Opening Price               0\n",
       "1st Day Close               0\n",
       "1st Day %change             1\n",
       "$ Change Opening            0\n",
       "$ Change Close              0\n",
       "Star Ratings                0\n",
       "dtype: int64"
      ]
     },
     "execution_count": 798,
     "metadata": {},
     "output_type": "execute_result"
    }
   ],
   "source": [
    "ipo_df.isnull().sum()"
   ]
  },
  {
   "cell_type": "markdown",
   "id": "e8a44f90",
   "metadata": {},
   "source": [
    "We can see that there is only 1 row with null value for '1st Day %change'. We can simply remove this row (it won't affect our analysis much as we have 3.6K records)."
   ]
  },
  {
   "cell_type": "code",
   "execution_count": 799,
   "id": "99cf95ce",
   "metadata": {},
   "outputs": [],
   "source": [
    "ipo_df = ipo_df[ipo_df['1st Day %change'].isnull()==False]"
   ]
  },
  {
   "cell_type": "markdown",
   "id": "d87e77b7",
   "metadata": {},
   "source": [
    "### Step 2: Define the correct data type of the columns"
   ]
  },
  {
   "cell_type": "code",
   "execution_count": 800,
   "id": "d7d36e1b",
   "metadata": {},
   "outputs": [],
   "source": [
    "ipo_df['Offer Price'] = ipo_df['Offer Price'].str[1:].astype('float') # always positive value\n",
    "ipo_df['Opening Price'] = ipo_df['Opening Price'].str[1:].astype('float') # always positive value\n",
    "ipo_df['1st Day Close'] = ipo_df['1st Day Close'].str[1:].astype('float') \n",
    "ipo_df['1st Day %change'] = ipo_df['1st Day %change'].str[:-1].astype('float')"
   ]
  },
  {
   "cell_type": "code",
   "execution_count": 801,
   "id": "47fc3b2f",
   "metadata": {},
   "outputs": [],
   "source": [
    "# These 2 columns may have negative values like '-$10.1'\n",
    "ipo_df['$ Change Opening'] = ipo_df['$ Change Opening'].apply(lambda x:float('-'+x[2:]) if (x[0]=='-') else float(x[1:]))\n",
    "ipo_df['$ Change Close'] = ipo_df['$ Change Close'].apply(lambda x:float('-'+x[2:]) if (x[0]=='-') else float(x[1:]))"
   ]
  },
  {
   "cell_type": "code",
   "execution_count": 802,
   "id": "882a0deb",
   "metadata": {},
   "outputs": [
    {
     "name": "stdout",
     "output_type": "stream",
     "text": [
      "<class 'pandas.core.frame.DataFrame'>\n",
      "Int64Index: 3632 entries, 0 to 3632\n",
      "Data columns (total 11 columns):\n",
      " #   Column                    Non-Null Count  Dtype  \n",
      "---  ------                    --------------  -----  \n",
      " 0   Trade Date                3632 non-null   object \n",
      " 1   Issuer                    3632 non-null   object \n",
      " 2   Symbol                    3632 non-null   object \n",
      " 3   Lead/Joint Lead Managers  3632 non-null   object \n",
      " 4   Offer Price($)            3632 non-null   float64\n",
      " 5   Opening Price($)          3632 non-null   float64\n",
      " 6   1st Day Close($)          3632 non-null   float64\n",
      " 7   1st Day %change           3632 non-null   float64\n",
      " 8   $ Change Opening          3632 non-null   float64\n",
      " 9   $ Change Close            3632 non-null   float64\n",
      " 10  Star Ratings              3632 non-null   object \n",
      "dtypes: float64(6), object(5)\n",
      "memory usage: 340.5+ KB\n"
     ]
    }
   ],
   "source": [
    "ipo_df.rename(columns={'Offer Price':'Offer Price($)', 'Opening Price':'Opening Price($)', \n",
    "                       '1st Day Close':'1st Day Close($)'}, inplace=True)\n",
    "ipo_df.info()"
   ]
  },
  {
   "cell_type": "markdown",
   "id": "949b17b1",
   "metadata": {},
   "source": [
    "We will change the data type of the 'Trade Date' to datetime later, in step 3, when we handle the 'Trade Date' column."
   ]
  },
  {
   "cell_type": "markdown",
   "id": "b656ca36",
   "metadata": {},
   "source": [
    "### Step 3: Modifying the 'Lead/Joint Lead Managers' column"
   ]
  },
  {
   "cell_type": "markdown",
   "id": "c97bbe65",
   "metadata": {},
   "source": [
    "Get list of all 'Lead/Joint Lead Managers' in order to identify the pattern in which the column needs to be split, and also spot any common inconsistencies/erros in naming"
   ]
  },
  {
   "cell_type": "code",
   "execution_count": 803,
   "id": "af1d5f59",
   "metadata": {},
   "outputs": [
    {
     "name": "stdout",
     "output_type": "stream",
     "text": [
      "Number of unique managers: 682\n"
     ]
    }
   ],
   "source": [
    "ipo_df['Lead/Joint Lead Managers'] = ipo_df['Lead/Joint Lead Managers'].str.split('/')\n",
    "managers_list = list(itertools.chain.from_iterable(list(ipo_df['Lead/Joint Lead Managers'])))\n",
    "managers_list = set(managers_list)\n",
    "print(\"Number of unique managers: \" + str(len(managers_list)))\n",
    "# managers_list"
   ]
  },
  {
   "cell_type": "markdown",
   "id": "857a6fde",
   "metadata": {},
   "source": [
    "We can see that there are inconsistencies in the way the manager names are written, due to which the same manager is identified differently many times (for e.g. ' UBS', ' UBS Investment Ban', ' UBS Investment Bank', ' UBS Investment Bank (In alphabetical order)', ' UBS Investment Bank_'). \n",
    "\n",
    "Hence, we need to clean these manager names before using them for any kind of analysis:\n",
    "1. Remove leading and trailing whitespace characters\n",
    "2. Remove special characters (e.g. '_') appearing in the beginning or end of the manager name\n",
    "3. Use fuzzy string matching to group the names together (so that the same name written in different ways is grouped together as one)"
   ]
  },
  {
   "cell_type": "code",
   "execution_count": 804,
   "id": "edaa0a5b",
   "metadata": {},
   "outputs": [],
   "source": [
    "def clean_names(managers_list):\n",
    "    # Remove leading and trailing whitespace characters\n",
    "    managers_list = [x.strip() for x in managers_list]\n",
    "\n",
    "    # Remove leading and trailing special characters\n",
    "    special_characters = str(set(punctuation))\n",
    "    managers_list = [x.strip(special_characters) for x in managers_list]\n",
    "\n",
    "    # Remove words within brackets in the manager name\n",
    "    managers_list = [re.sub(r'\\([^)]*\\)', '', x) for x in managers_list]\n",
    "    managers_list = [re.sub(r'\\([^)]*', '', x) for x in managers_list]\n",
    "    managers_list = [x.strip() for x in managers_list] \n",
    "    \n",
    "    return managers_list\n",
    "\n",
    "\n",
    "def replace_synonyms(word):\n",
    "    synonyms = {\"bofa\":\"bank of america\", 'wm':'william'} \n",
    "    synonyms_detected = set(synonyms).intersection(word.split())\n",
    "    \n",
    "    for i in synonyms_detected:\n",
    "        pattern = '\\\\b'+i+'\\\\b'\n",
    "        replace_to = synonyms[i]\n",
    "        word = re.sub(pattern, replace_to, word)\n",
    "        \n",
    "    return word\n",
    "\n",
    "def basic_cleaning(word):\n",
    "    word = word.lower()\n",
    "    \n",
    "    stop_words = ['&', 'and', '+', 'co', 'inc', 'corp', 'l.l.c', 'llc', 'ltd', 'capital', 'market',\n",
    "                 'management', 'securities', 'investment', 'company', 'partners', 'corp',\n",
    "                 'corporation']\n",
    "    word = ' '.join(x for x in word.split() if x not in stop_words)\n",
    "    for x in word.split():\n",
    "        if(len(difflib.get_close_matches(x, stop_words))>0): # also remove words that closely match with the stop words (e.g. different spellings of 'securities')\n",
    "            \n",
    "            word = word.replace(x, \"\")   \n",
    "    \n",
    "    word = replace_synonyms(word)\n",
    "    \n",
    "    return word"
   ]
  },
  {
   "cell_type": "code",
   "execution_count": 805,
   "id": "e1584f05",
   "metadata": {},
   "outputs": [],
   "source": [
    "# Fuzzy string matching to group similar names\n",
    "\n",
    "managers_list = list(set(clean_names(list(managers_list))))\n",
    "\n",
    "#split cases like where 2 managers are combined in one string\n",
    "managers_list = [re.split(r'\\s{2,}', x) for x in managers_list] # to split names combined together\n",
    "managers_list = list(itertools.chain.from_iterable(list(managers_list)))\n",
    "managers_list.remove(\"\")\n",
    "\n",
    "similar_words = {}\n",
    "\n",
    "for (index, word) in enumerate(managers_list):\n",
    "        \n",
    "    jaro = Jaro()\n",
    "\n",
    "    org_word = word\n",
    "    word = basic_cleaning(word)\n",
    "    \n",
    "    similar_words[org_word] = []\n",
    "\n",
    "    candidates = managers_list[index+1:]\n",
    "    \n",
    "    for cmp_word in candidates:\n",
    "        org_cmp_word = cmp_word\n",
    "        cmp_word = basic_cleaning(cmp_word)       \n",
    "\n",
    "        if((fuzz.token_sort_ratio(word, cmp_word)>=80) or (jaro.get_sim_score(word, cmp_word)>=0.8)):\n",
    "            similar_words[org_word].append(org_cmp_word)\n",
    "            managers_list.remove(org_cmp_word)"
   ]
  },
  {
   "cell_type": "code",
   "execution_count": 806,
   "id": "62f0b065",
   "metadata": {},
   "outputs": [],
   "source": [
    "# for key in sorted(similar_words):\n",
    "#     print(\"%s: %s\" % (key, similar_words[key]))"
   ]
  },
  {
   "cell_type": "markdown",
   "id": "2f33fb85",
   "metadata": {},
   "source": [
    "Update the 'Lead/Joint Lead Managers' column with the cleansed manager names:"
   ]
  },
  {
   "cell_type": "code",
   "execution_count": 807,
   "id": "8f797c77",
   "metadata": {},
   "outputs": [],
   "source": [
    "def get_key(my_dict, val):\n",
    "    \n",
    "    for key, value in my_dict.items():\n",
    "        for x in value:\n",
    "            if(val==x):\n",
    "                return key\n",
    "\n",
    "    return val\n",
    "\n",
    "def clean_map_mgr_names(managers_list, similar_words):\n",
    "    \n",
    "    # Clean the manager names\n",
    "    managers_list = clean_names(managers_list)\n",
    "    \n",
    "    # Split combined names\n",
    "    managers_list = [re.split(r'\\s{2,}', x) for x in managers_list]\n",
    "    managers_list = list(itertools.chain.from_iterable(list(managers_list)))\n",
    "    \n",
    "    # Map similar manager names to the same group\n",
    "    managers_list = [get_key(similar_words, x) for x in managers_list]\n",
    "    \n",
    "    # Remove empty manager names\n",
    "    managers_list = [x for x in managers_list if x!=\"\"]\n",
    "    \n",
    "    return managers_list\n",
    "\n",
    "ipo_df['Lead/Joint Lead Managers'] = ipo_df.apply(lambda row:clean_map_mgr_names(row['Lead/Joint Lead Managers'], similar_words), axis=1)"
   ]
  },
  {
   "cell_type": "markdown",
   "id": "86a8bff8",
   "metadata": {},
   "source": [
    "Add a column accounting for the number of managers handling the IPO"
   ]
  },
  {
   "cell_type": "code",
   "execution_count": 808,
   "id": "6aa549d3",
   "metadata": {},
   "outputs": [],
   "source": [
    "ipo_df['Num Managers'] = ipo_df.apply(lambda row:len(row['Lead/Joint Lead Managers']), axis=1)"
   ]
  },
  {
   "cell_type": "markdown",
   "id": "8f44f6cb",
   "metadata": {},
   "source": [
    "Apply CountVectorizer to better visualize the managers involved in an IPO. It is also useful to vectorize our string column (Lead/Joint Lead Managers) when we want to use it for ML models."
   ]
  },
  {
   "cell_type": "code",
   "execution_count": 809,
   "id": "cbf6b9de",
   "metadata": {},
   "outputs": [],
   "source": [
    "vectorizer = CountVectorizer(analyzer=lambda x:x)\n",
    "X = vectorizer.fit_transform(ipo_df['Lead/Joint Lead Managers']).toarray()\n",
    "manager_col_names = vectorizer.get_feature_names()"
   ]
  },
  {
   "cell_type": "code",
   "execution_count": 810,
   "id": "618f18d0",
   "metadata": {},
   "outputs": [],
   "source": [
    "manager_df = pd.DataFrame(X, columns=manager_col_names)"
   ]
  },
  {
   "cell_type": "markdown",
   "id": "2ed8e0c8",
   "metadata": {},
   "source": [
    "Create a dataframe to store the vectorized information about the identity of manager/s in each IPO. We will use this dataframe later."
   ]
  },
  {
   "cell_type": "code",
   "execution_count": 811,
   "id": "fc24c356",
   "metadata": {},
   "outputs": [],
   "source": [
    "manager_exp_df = pd.concat([ipo_df, manager_df], axis=1)"
   ]
  },
  {
   "cell_type": "code",
   "execution_count": 812,
   "id": "811c9690",
   "metadata": {},
   "outputs": [],
   "source": [
    "manager_num_ipos = dict.fromkeys(manager_col_names) # Dictionary which shows the number of IPOs each manager was involved in\n",
    "for i in manager_col_names:\n",
    "    num_ipos = manager_exp_df[i].sum()\n",
    "    manager_num_ipos[i] = num_ipos"
   ]
  },
  {
   "cell_type": "markdown",
   "id": "49e3ab95",
   "metadata": {},
   "source": [
    "### Step 4: Extract information from the date column"
   ]
  },
  {
   "cell_type": "markdown",
   "id": "cae444d2",
   "metadata": {},
   "source": [
    "Checking for null values in the date column"
   ]
  },
  {
   "cell_type": "code",
   "execution_count": 813,
   "id": "2cfe9916",
   "metadata": {},
   "outputs": [
    {
     "data": {
      "text/plain": [
       "0"
      ]
     },
     "execution_count": 813,
     "metadata": {},
     "output_type": "execute_result"
    }
   ],
   "source": [
    "ipo_df['Trade Date'].isnull().sum()"
   ]
  },
  {
   "cell_type": "code",
   "execution_count": 814,
   "id": "749e87ca",
   "metadata": {},
   "outputs": [],
   "source": [
    "def validate_date(x):\n",
    "    try:\n",
    "        return x[:-2] + '20' + x.split('/')[2]\n",
    "    except:\n",
    "        return '' #rows with ambiguous date\n",
    "    \n",
    "ipo_df['Trade Date'] = ipo_df['Trade Date'].apply(lambda x:validate_date(x)) \n",
    "ipo_df = ipo_df[ipo_df['Trade Date']!=''] # remove rows with ambiguous date value"
   ]
  },
  {
   "cell_type": "code",
   "execution_count": 815,
   "id": "3ed42736",
   "metadata": {},
   "outputs": [],
   "source": [
    "ipo_df['Trade Date'] = pd.to_datetime(ipo_df['Trade Date'])\n",
    "ipo_df['Year'] = ipo_df['Trade Date'].dt.strftime(\"%Y\").astype('int')\n",
    "ipo_df['Month'] = ipo_df['Trade Date'].dt.strftime(\"%b\")\n",
    "ipo_df['Quarter'] = ipo_df['Trade Date'].dt.quarter.astype('int')\n",
    "ipo_df['Day'] = ipo_df['Trade Date'].dt.strftime(\"%A\")\n",
    "ipo_df['Date'] = ipo_df['Trade Date'].dt.strftime(\"%-d\").astype('int')"
   ]
  },
  {
   "cell_type": "markdown",
   "id": "515d1068",
   "metadata": {},
   "source": [
    "### Step 5: Feature Selection"
   ]
  },
  {
   "cell_type": "markdown",
   "id": "e4460da9",
   "metadata": {},
   "source": [
    "The name of the company maybe useful as a unique identifier for each record (and also later in generating website links to fetch company data. Presence of multiple IPO fillings of the same company may indicate rights issue, which is beyond the scope of our analysis. Hence, we will remove the records of companies with multiple records."
   ]
  },
  {
   "cell_type": "code",
   "execution_count": 816,
   "id": "87e1a38b",
   "metadata": {},
   "outputs": [
    {
     "name": "stdout",
     "output_type": "stream",
     "text": [
      "Number of companies with duplicate records (multiple IPOs): 14\n"
     ]
    }
   ],
   "source": [
    "print(\"Number of companies with duplicate records (multiple IPOs): \" + str(ipo_df['Issuer'].duplicated().sum()))"
   ]
  },
  {
   "cell_type": "code",
   "execution_count": 817,
   "id": "74e9f336",
   "metadata": {},
   "outputs": [],
   "source": [
    "ipo_df.drop_duplicates(subset=['Issuer'], keep=False, inplace=True) # Remove all records of such companies"
   ]
  },
  {
   "cell_type": "markdown",
   "id": "f6a6d94b",
   "metadata": {},
   "source": [
    "The following columns are not very useful to us and can be removed from the dataset:\n",
    "- 'Symbol': It does not provide any information regarding the IPO itself\n",
    "- 'Star ratings': This shows the ratings predicted by an external company named IPO Scoop, for the performance of an IPO, before its launch. This is not very useful to us as (1) It is not 100% accurate, and (2) We already have the performance data of the IPO on the 1st day, hence this rating does not provide any additional information to us"
   ]
  },
  {
   "cell_type": "code",
   "execution_count": 818,
   "id": "fd2af218",
   "metadata": {},
   "outputs": [],
   "source": [
    "ipo_df.drop(columns=['Symbol', 'Star Ratings'], inplace=True)"
   ]
  },
  {
   "cell_type": "markdown",
   "id": "73219bc9",
   "metadata": {},
   "source": [
    "For the remaining numeric columns, we can plot a (Pearson's) correlation matrix to identify the presence of any multi-collinearity in the variables."
   ]
  },
  {
   "cell_type": "code",
   "execution_count": 819,
   "id": "b3995f9f",
   "metadata": {},
   "outputs": [
    {
     "data": {
      "text/plain": [
       "<AxesSubplot:>"
      ]
     },
     "execution_count": 819,
     "metadata": {},
     "output_type": "execute_result"
    },
    {
     "data": {
      "image/png": "[encoded data removed]",
      "text/plain": [
       "<Figure size 792x648 with 2 Axes>"
      ]
     },
     "metadata": {
      "needs_background": "light"
     },
     "output_type": "display_data"
    }
   ],
   "source": [
    "corr = ipo_df.corr()\n",
    "mask = np.triu(np.ones_like(corr, dtype=bool))\n",
    "f, ax = plt.subplots(figsize=(11, 9))\n",
    "cmap = sns.diverging_palette(230, 20, as_cmap=True)\n",
    "sns.heatmap(corr, mask=mask, cmap=cmap, vmax=.3, center=0,\n",
    "            square=True, linewidths=.5, cbar_kws={\"shrink\": .5})"
   ]
  },
  {
   "cell_type": "markdown",
   "id": "7adb7428",
   "metadata": {},
   "source": [
    "In general, high correlation is defined by a value of greater than or equal to 0.9. Here, we can see he maxiumum correlation index is only 0.3, hence, none of the variables are highly correlated. \n",
    "\n",
    "Though not a high correlation index, we still see a good level of correlation between the pricing variables and number of managers."
   ]
  },
  {
   "cell_type": "markdown",
   "id": "0a554fd7",
   "metadata": {},
   "source": [
    "# Section 2: Company Data"
   ]
  },
  {
   "cell_type": "markdown",
   "id": "688aeb2a",
   "metadata": {},
   "source": [
    "The IPO scoop has information about the company only for recent IPOs (that were filed in the past 12 months). Hence, we will investigate the influence of company's features only for the recent IPOs. "
   ]
  },
  {
   "cell_type": "code",
   "execution_count": 820,
   "id": "520db6a6",
   "metadata": {},
   "outputs": [
    {
     "data": {
      "text/html": [
       "<div>\n",
       "<style scoped>\n",
       "    .dataframe tbody tr th:only-of-type {\n",
       "        vertical-align: middle;\n",
       "    }\n",
       "\n",
       "    .dataframe tbody tr th {\n",
       "        vertical-align: top;\n",
       "    }\n",
       "\n",
       "    .dataframe thead th {\n",
       "        text-align: right;\n",
       "    }\n",
       "</style>\n",
       "<table border=\"1\" class=\"dataframe\">\n",
       "  <thead>\n",
       "    <tr style=\"text-align: right;\">\n",
       "      <th></th>\n",
       "      <th>Company</th>\n",
       "      <th>Symbol</th>\n",
       "      <th>Industry</th>\n",
       "      <th>Offer Date</th>\n",
       "      <th>Shares (millions)</th>\n",
       "      <th>Offer Price</th>\n",
       "      <th>1st Day Close</th>\n",
       "      <th>Current Price</th>\n",
       "      <th>Return</th>\n",
       "      <th>SCOOP Rating</th>\n",
       "    </tr>\n",
       "  </thead>\n",
       "  <tbody>\n",
       "    <tr>\n",
       "      <th>0</th>\n",
       "      <td>Expion360 Inc.</td>\n",
       "      <td>XPON</td>\n",
       "      <td>Industrials</td>\n",
       "      <td>4/1/2022</td>\n",
       "      <td>2.2</td>\n",
       "      <td>$7.00</td>\n",
       "      <td>$0.00</td>\n",
       "      <td>$0.00</td>\n",
       "      <td>0.00%</td>\n",
       "      <td>S/O</td>\n",
       "    </tr>\n",
       "    <tr>\n",
       "      <th>1</th>\n",
       "      <td>AN2 Therapeutics, Inc.</td>\n",
       "      <td>ANTX</td>\n",
       "      <td>Health Care</td>\n",
       "      <td>3/25/2022</td>\n",
       "      <td>4.6</td>\n",
       "      <td>$15.00</td>\n",
       "      <td>$15.40</td>\n",
       "      <td>$15.07</td>\n",
       "      <td>0.47%</td>\n",
       "      <td>S/O</td>\n",
       "    </tr>\n",
       "  </tbody>\n",
       "</table>\n",
       "</div>"
      ],
      "text/plain": [
       "                  Company Symbol     Industry Offer Date  Shares (millions)  \\\n",
       "0          Expion360 Inc.   XPON  Industrials   4/1/2022                2.2   \n",
       "1  AN2 Therapeutics, Inc.   ANTX  Health Care  3/25/2022                4.6   \n",
       "\n",
       "  Offer Price 1st Day Close Current Price Return SCOOP Rating  \n",
       "0       $7.00         $0.00         $0.00  0.00%          S/O  \n",
       "1      $15.00        $15.40        $15.07  0.47%          S/O  "
      ]
     },
     "execution_count": 820,
     "metadata": {},
     "output_type": "execute_result"
    }
   ],
   "source": [
    "ipo_ls_url = 'https://www.iposcoop.com/last-12-months/'\n",
    "\n",
    "html = requests.get(ipo_ls_url).content\n",
    "\n",
    "ipo_ls = pd.read_html(html)\n",
    "company_df = ipo_ls[-1]\n",
    "company_df.head(2)"
   ]
  },
  {
   "cell_type": "markdown",
   "id": "ee2299fe",
   "metadata": {},
   "source": [
    "Each company name in the above table has a hyperlink associated with it. This hyperlink redirects to the company information website on IPO Scoop. Hence, we will fetch a list of these hyperlinks and append it as a column to this table, and then query this link to extract the company information (such as age, market cap, etc.)"
   ]
  },
  {
   "cell_type": "code",
   "execution_count": 821,
   "id": "5632112d",
   "metadata": {},
   "outputs": [
    {
     "data": {
      "text/html": [
       "<div>\n",
       "<style scoped>\n",
       "    .dataframe tbody tr th:only-of-type {\n",
       "        vertical-align: middle;\n",
       "    }\n",
       "\n",
       "    .dataframe tbody tr th {\n",
       "        vertical-align: top;\n",
       "    }\n",
       "\n",
       "    .dataframe thead th {\n",
       "        text-align: right;\n",
       "    }\n",
       "</style>\n",
       "<table border=\"1\" class=\"dataframe\">\n",
       "  <thead>\n",
       "    <tr style=\"text-align: right;\">\n",
       "      <th></th>\n",
       "      <th>Company</th>\n",
       "      <th>Symbol</th>\n",
       "      <th>Industry</th>\n",
       "      <th>Offer Date</th>\n",
       "      <th>Shares (millions)</th>\n",
       "      <th>Offer Price</th>\n",
       "      <th>1st Day Close</th>\n",
       "      <th>Current Price</th>\n",
       "      <th>Return</th>\n",
       "      <th>SCOOP Rating</th>\n",
       "      <th>Company_info_link</th>\n",
       "    </tr>\n",
       "  </thead>\n",
       "  <tbody>\n",
       "    <tr>\n",
       "      <th>0</th>\n",
       "      <td>Expion360 Inc.</td>\n",
       "      <td>XPON</td>\n",
       "      <td>Industrials</td>\n",
       "      <td>4/1/2022</td>\n",
       "      <td>2.2</td>\n",
       "      <td>$7.00</td>\n",
       "      <td>$0.00</td>\n",
       "      <td>$0.00</td>\n",
       "      <td>0.00%</td>\n",
       "      <td>S/O</td>\n",
       "      <td>https://www.iposcoop.com/ipo/expion360-inc/</td>\n",
       "    </tr>\n",
       "    <tr>\n",
       "      <th>1</th>\n",
       "      <td>AN2 Therapeutics, Inc.</td>\n",
       "      <td>ANTX</td>\n",
       "      <td>Health Care</td>\n",
       "      <td>3/25/2022</td>\n",
       "      <td>4.6</td>\n",
       "      <td>$15.00</td>\n",
       "      <td>$15.40</td>\n",
       "      <td>$15.07</td>\n",
       "      <td>0.47%</td>\n",
       "      <td>S/O</td>\n",
       "      <td>https://www.iposcoop.com/ipo/an2-therapeutics-...</td>\n",
       "    </tr>\n",
       "  </tbody>\n",
       "</table>\n",
       "</div>"
      ],
      "text/plain": [
       "                  Company Symbol     Industry Offer Date  Shares (millions)  \\\n",
       "0          Expion360 Inc.   XPON  Industrials   4/1/2022                2.2   \n",
       "1  AN2 Therapeutics, Inc.   ANTX  Health Care  3/25/2022                4.6   \n",
       "\n",
       "  Offer Price 1st Day Close Current Price Return SCOOP Rating  \\\n",
       "0       $7.00         $0.00         $0.00  0.00%          S/O   \n",
       "1      $15.00        $15.40        $15.07  0.47%          S/O   \n",
       "\n",
       "                                   Company_info_link  \n",
       "0        https://www.iposcoop.com/ipo/expion360-inc/  \n",
       "1  https://www.iposcoop.com/ipo/an2-therapeutics-...  "
      ]
     },
     "execution_count": 821,
     "metadata": {},
     "output_type": "execute_result"
    }
   ],
   "source": [
    "page = requests.get(ipo_ls_url).content\n",
    "html = BeautifulSoup(page, 'html.parser')\n",
    "table = html.find('table')\n",
    "links = table.findAll('a')\n",
    "company_info_links = links[0::4]\n",
    "\n",
    "company_info_links = [re.findall('\"([^\"]*)\"', str(x))[0] for x in company_info_links]\n",
    "company_info_links = pd.DataFrame(company_info_links, columns=['Company_info_link'])\n",
    "company_df = pd.concat([company_df, company_info_links], axis=1)\n",
    "company_df.head(2)"
   ]
  },
  {
   "cell_type": "code",
   "execution_count": 822,
   "id": "fd7f7b01",
   "metadata": {},
   "outputs": [],
   "source": [
    "def get_company_info(company_info_link, similar_words):\n",
    "    \n",
    "    \n",
    "    result = dict.fromkeys(['Num_Employees', 'Age', 'Profit_Margin(million$)', 'Exchange', \n",
    "                  'Price_Range', 'Est_Volume(million$)'])\n",
    "    \n",
    "    html = requests.get(company_info_link).content\n",
    "    try:\n",
    "        company_info_ls = pd.read_html(html)\n",
    "    except:\n",
    "        for i in result.keys():\n",
    "            result[i] = np.nan\n",
    "        return result\n",
    "    \n",
    "    company_info = company_info_ls[-1]\n",
    "    company_info.rename(columns={company_info.columns[0]:'title', company_info.columns[1]:'value'}, inplace=True)\n",
    "    company_info = company_info.T\n",
    "    company_info.columns = company_info.iloc[0]\n",
    "    company_info = company_info[1:]\n",
    "    \n",
    "    \n",
    "    company_founded_year = company_info['Founded:'][0]\n",
    "    if(pd.isnull(company_founded_year)==False):\n",
    "        founded_year = int(company_founded_year)\n",
    "        curr_year = int(datetime.date.today().strftime(\"%Y\"))\n",
    "        company_age = curr_year-founded_year\n",
    "    else:\n",
    "        company_age = np.nan\n",
    "    \n",
    "    price_range = company_info['Price range'][0]\n",
    "    price_range = price_range.split('-')\n",
    "    min_price = price_range[0].strip()[1:]\n",
    "    max_price = price_range[1].strip()[1:]\n",
    "    price_range = float(max_price)-float(min_price)\n",
    "    \n",
    "    market_cap = company_info['Market Cap'][0]\n",
    "    if(pd.isnull(market_cap)==False):\n",
    "        market_cap = market_cap[1:len(market_cap)-3] # to change it from '$100.0mil' to '100.0'\n",
    "        market_cap = np.nan if market_cap=='' else float(market_cap)\n",
    "        \n",
    "    net_income = company_info['Net Income'][0]\n",
    "    if(pd.isnull(net_income)==False):\n",
    "        net_income = net_income.split()[0][1:] # to change it from '$39.9 mil (last 12 months)' to '39.9' \n",
    "        net_income = np.nan if net_income=='' else float(net_income)\n",
    "\n",
    "    est_vol = company_info['Est. $ Volume'][0]\n",
    "    if(pd.isnull(est_vol)==False):\n",
    "        est_vol = float(est_vol.split()[0][1:]) # to change it from '$16.0 mil' to '16.0'\n",
    "            \n",
    "    revenue = company_info['Revenues'][0]\n",
    "    if(pd.isnull(revenue)==False):\n",
    "        revenue = revenue.split()[0][1:] # to change it from '$39.9 mil (last 12 months)' to '39.9' \n",
    "        revenue = np.nan if revenue=='' else float(revenue)\n",
    "    \n",
    "    manager1 = str(company_info['Manager / Joint Managers'][0]).split('/')\n",
    "    manager2 = str(company_info['CO-Managers'][0]).split('/')\n",
    "    temp_ls = manager1 + manager2\n",
    "    \n",
    "    temp_ls = ' '.join(x for x in temp_ls)\n",
    "    manager_ls = temp_ls.split()\n",
    "    manager = clean_map_mgr_names(manager_ls, similar_words)\n",
    "\n",
    "    profit_margin = np.nan\n",
    "    if((pd.isna(revenue)==False) and (pd.isna(net_income)==False) and (revenue!=0)):\n",
    "        profit_margin = net_income/revenue\n",
    "    \n",
    "    result['Num_Employees'] = company_info['Employees:'][0] # Number of employees\n",
    "    result['Age'] = company_age # Age of the company\n",
    "    result['Revenue(million$)'] = revenue\n",
    "    result['Market_Cap(million$)'] = market_cap\n",
    "    result['Exchange'] = company_info['Exchange'][0]\n",
    "    result['Price_Range'] = price_range\n",
    "    result['Est_Volume(million$)'] = est_vol\n",
    "    result['Profit_Margin(million$)'] = profit_margin\n",
    "    result['Managers'] = manager\n",
    "    \n",
    "    return result"
   ]
  },
  {
   "cell_type": "code",
   "execution_count": 823,
   "id": "34c07493",
   "metadata": {},
   "outputs": [
    {
     "name": "stdout",
     "output_type": "stream",
     "text": [
      "CPU times: user 9.13 s, sys: 263 ms, total: 9.39 s\n",
      "Wall time: 6min 38s\n"
     ]
    }
   ],
   "source": [
    "%%time\n",
    "company_info_ls = list(map(lambda x:get_company_info(x, similar_words), company_df['Company_info_link']))"
   ]
  },
  {
   "cell_type": "code",
   "execution_count": 824,
   "id": "ba0ca02b",
   "metadata": {},
   "outputs": [
    {
     "data": {
      "text/plain": [
       "(339, 20)"
      ]
     },
     "execution_count": 824,
     "metadata": {},
     "output_type": "execute_result"
    }
   ],
   "source": [
    "company_df2 = pd.DataFrame(company_info_ls)\n",
    "company_df = pd.concat([company_df, company_df2], axis=1)\n",
    "company_df.shape"
   ]
  },
  {
   "cell_type": "code",
   "execution_count": 825,
   "id": "4030f77c",
   "metadata": {},
   "outputs": [
    {
     "name": "stdout",
     "output_type": "stream",
     "text": [
      "<class 'pandas.core.frame.DataFrame'>\n",
      "RangeIndex: 339 entries, 0 to 338\n",
      "Data columns (total 20 columns):\n",
      " #   Column                   Non-Null Count  Dtype  \n",
      "---  ------                   --------------  -----  \n",
      " 0   Company                  339 non-null    object \n",
      " 1   Symbol                   339 non-null    object \n",
      " 2   Industry                 339 non-null    object \n",
      " 3   Offer Date               339 non-null    object \n",
      " 4   Shares (millions)        339 non-null    float64\n",
      " 5   Offer Price              339 non-null    object \n",
      " 6   1st Day Close            339 non-null    object \n",
      " 7   Current Price            339 non-null    object \n",
      " 8   Return                   339 non-null    object \n",
      " 9   SCOOP Rating             339 non-null    object \n",
      " 10  Company_info_link        339 non-null    object \n",
      " 11  Num_Employees            326 non-null    object \n",
      " 12  Age                      335 non-null    float64\n",
      " 13  Profit_Margin(million$)  243 non-null    float64\n",
      " 14  Exchange                 338 non-null    object \n",
      " 15  Price_Range              338 non-null    float64\n",
      " 16  Est_Volume(million$)     338 non-null    float64\n",
      " 17  Revenue(million$)        332 non-null    float64\n",
      " 18  Market_Cap(million$)     324 non-null    float64\n",
      " 19  Managers                 338 non-null    object \n",
      "dtypes: float64(7), object(13)\n",
      "memory usage: 53.1+ KB\n"
     ]
    }
   ],
   "source": [
    "company_df.info()"
   ]
  },
  {
   "cell_type": "markdown",
   "id": "f9b285da",
   "metadata": {},
   "source": [
    "**Data Description**\n",
    "\n",
    "1. Company: Company name\n",
    "2. Symbol: Company index on stock market\n",
    "3. Industry: The industry in which the company operates\n",
    "4. Offer Date: IPO launch date\n",
    "5. Shares (millions): Number of shares sold in the IPO\n",
    "6. Offer Price: Initial pricing of the IPO (for 1 stock)\n",
    "7. Current Price: Current price of the stock\n",
    "8. Return: Returns based on current price\n",
    "9. SCOOP Rating: Predicted score (on a scale of 1 to 5) given by IPO Scoop for the performance of the stock before IPO\n",
    "10. Company_info_link: Link to the company information webpage on the IPO Scoop website\n",
    "11. Num_Employees: Number of employees at the time of IPO\n",
    "12. Age: Age of the company (since the time it was founded), at the time of IPO\n",
    "13. Net Income(million\\\\$): Net income of the company in the last 12 months before the IPO\n",
    "14. Exchange: The stock exchange where the IPO was launched\n",
    "15. Num_Shares(million): Number of shares sold in the IPO\n",
    "16. Price_Range: The range within which the company had announced that it will price its IPO\n",
    "17. Est_Volume(million\\\\$): Estimated volume of shares sold in the IPO\n",
    "18. Market_Cap(million\\\\$): The market cap (value) of the company during the IPO"
   ]
  },
  {
   "cell_type": "markdown",
   "id": "533b2467",
   "metadata": {},
   "source": [
    "## Data cleaning\n",
    "\n",
    "- **Step 1: Identify and handle NULL values**\n",
    "- **Step 2: Defining the correct data type of the columns**\n",
    "- **Step 3: Extracting company performance information** \n",
    "    - %Company sold = IPO size as a proportion of the Market Cap\n",
    "        - It may be seen as an indicator of the company's confidence in the business\n",
    "- **Step 4: Extracting time information from the 'Offer Date' column** \n",
    "    - Year, month, quarter, day\n",
    "- **Step 5: Feature selection**\n",
    "    - Removing columns not useful for our analysis"
   ]
  },
  {
   "cell_type": "markdown",
   "id": "6a45d2ad",
   "metadata": {},
   "source": [
    "### Step 1: Identify and handle NULL values"
   ]
  },
  {
   "cell_type": "code",
   "execution_count": 826,
   "id": "566f145e",
   "metadata": {},
   "outputs": [
    {
     "data": {
      "text/plain": [
       "Company                     0\n",
       "Symbol                      0\n",
       "Industry                    0\n",
       "Offer Date                  0\n",
       "Shares (millions)           0\n",
       "Offer Price                 0\n",
       "1st Day Close               0\n",
       "Current Price               0\n",
       "Return                      0\n",
       "SCOOP Rating                0\n",
       "Company_info_link           0\n",
       "Num_Employees              13\n",
       "Age                         4\n",
       "Profit_Margin(million$)    96\n",
       "Exchange                    1\n",
       "Price_Range                 1\n",
       "Est_Volume(million$)        1\n",
       "Revenue(million$)           7\n",
       "Market_Cap(million$)       15\n",
       "Managers                    1\n",
       "dtype: int64"
      ]
     },
     "execution_count": 826,
     "metadata": {},
     "output_type": "execute_result"
    }
   ],
   "source": [
    "company_df.isnull().sum()"
   ]
  },
  {
   "cell_type": "markdown",
   "id": "765ea653",
   "metadata": {},
   "source": [
    "Imputing values for the 'Exchange' column would not be right, and the proportion of rows with null value for 'Exchange' is also low. Hence, we can simply remove these rows."
   ]
  },
  {
   "cell_type": "code",
   "execution_count": 827,
   "id": "4780d7ff",
   "metadata": {},
   "outputs": [],
   "source": [
    "company_df = company_df[company_df['Exchange'].isnull()==False]"
   ]
  },
  {
   "cell_type": "code",
   "execution_count": 828,
   "id": "dafa9734",
   "metadata": {},
   "outputs": [
    {
     "data": {
      "text/plain": [
       "Company                     0\n",
       "Symbol                      0\n",
       "Industry                    0\n",
       "Offer Date                  0\n",
       "Shares (millions)           0\n",
       "Offer Price                 0\n",
       "1st Day Close               0\n",
       "Current Price               0\n",
       "Return                      0\n",
       "SCOOP Rating                0\n",
       "Company_info_link           0\n",
       "Num_Employees              12\n",
       "Age                         3\n",
       "Profit_Margin(million$)    95\n",
       "Exchange                    0\n",
       "Price_Range                 0\n",
       "Est_Volume(million$)        0\n",
       "Revenue(million$)           6\n",
       "Market_Cap(million$)       14\n",
       "Managers                    0\n",
       "dtype: int64"
      ]
     },
     "execution_count": 828,
     "metadata": {},
     "output_type": "execute_result"
    }
   ],
   "source": [
    "company_df.isnull().sum()"
   ]
  },
  {
   "cell_type": "markdown",
   "id": "aac05119",
   "metadata": {},
   "source": [
    "For the remaining columns, we impute the values with the column's median. "
   ]
  },
  {
   "cell_type": "code",
   "execution_count": 829,
   "id": "42eff217",
   "metadata": {},
   "outputs": [],
   "source": [
    "company_df['Num_Employees'] = company_df['Num_Employees'].fillna(company_df['Num_Employees'].median())\n",
    "company_df['Age'] = company_df['Age'].fillna(company_df['Age'].median())\n",
    "company_df['Profit_Margin(million$)'] = company_df['Profit_Margin(million$)'].fillna(company_df['Profit_Margin(million$)'].median())\n",
    "company_df['Market_Cap(million$)'] = company_df['Market_Cap(million$)'].fillna(company_df['Market_Cap(million$)'].median())"
   ]
  },
  {
   "cell_type": "code",
   "execution_count": 830,
   "id": "2e927dd8",
   "metadata": {},
   "outputs": [],
   "source": [
    "company_df['Revenue(million$)'] = company_df['Revenue(million$)'].fillna(company_df['Market_Cap(million$)'].median())"
   ]
  },
  {
   "cell_type": "code",
   "execution_count": 831,
   "id": "b0a95a4f",
   "metadata": {},
   "outputs": [
    {
     "data": {
      "text/plain": [
       "Company                    0\n",
       "Symbol                     0\n",
       "Industry                   0\n",
       "Offer Date                 0\n",
       "Shares (millions)          0\n",
       "Offer Price                0\n",
       "1st Day Close              0\n",
       "Current Price              0\n",
       "Return                     0\n",
       "SCOOP Rating               0\n",
       "Company_info_link          0\n",
       "Num_Employees              0\n",
       "Age                        0\n",
       "Profit_Margin(million$)    0\n",
       "Exchange                   0\n",
       "Price_Range                0\n",
       "Est_Volume(million$)       0\n",
       "Revenue(million$)          0\n",
       "Market_Cap(million$)       0\n",
       "Managers                   0\n",
       "dtype: int64"
      ]
     },
     "execution_count": 831,
     "metadata": {},
     "output_type": "execute_result"
    }
   ],
   "source": [
    "company_df.isnull().sum()"
   ]
  },
  {
   "cell_type": "markdown",
   "id": "936de1b9",
   "metadata": {},
   "source": [
    "### Step 2: Defining the correct data type for the columns"
   ]
  },
  {
   "cell_type": "code",
   "execution_count": 832,
   "id": "0d3bf6dc",
   "metadata": {},
   "outputs": [
    {
     "name": "stdout",
     "output_type": "stream",
     "text": [
      "<class 'pandas.core.frame.DataFrame'>\n",
      "Int64Index: 338 entries, 0 to 338\n",
      "Data columns (total 20 columns):\n",
      " #   Column                   Non-Null Count  Dtype  \n",
      "---  ------                   --------------  -----  \n",
      " 0   Company                  338 non-null    object \n",
      " 1   Symbol                   338 non-null    object \n",
      " 2   Industry                 338 non-null    object \n",
      " 3   Offer Date               338 non-null    object \n",
      " 4   Shares (millions)        338 non-null    float64\n",
      " 5   Offer Price              338 non-null    object \n",
      " 6   1st Day Close            338 non-null    object \n",
      " 7   Current Price            338 non-null    object \n",
      " 8   Return                   338 non-null    object \n",
      " 9   SCOOP Rating             338 non-null    object \n",
      " 10  Company_info_link        338 non-null    object \n",
      " 11  Num_Employees            338 non-null    object \n",
      " 12  Age                      338 non-null    float64\n",
      " 13  Profit_Margin(million$)  338 non-null    float64\n",
      " 14  Exchange                 338 non-null    object \n",
      " 15  Price_Range              338 non-null    float64\n",
      " 16  Est_Volume(million$)     338 non-null    float64\n",
      " 17  Revenue(million$)        338 non-null    float64\n",
      " 18  Market_Cap(million$)     338 non-null    float64\n",
      " 19  Managers                 338 non-null    object \n",
      "dtypes: float64(7), object(13)\n",
      "memory usage: 55.5+ KB\n"
     ]
    }
   ],
   "source": [
    "company_df.info()"
   ]
  },
  {
   "cell_type": "code",
   "execution_count": 833,
   "id": "9581dcac",
   "metadata": {},
   "outputs": [],
   "source": [
    "company_df['Offer Price'] = company_df['Offer Price'].str[1:].astype('float')\n",
    "company_df['1st Day Close'] = company_df['1st Day Close'].str[1:].astype('float')\n",
    "company_df['Current Price'] = company_df['Current Price'].str[1:].astype('float')"
   ]
  },
  {
   "cell_type": "code",
   "execution_count": 834,
   "id": "15cc7d37",
   "metadata": {},
   "outputs": [],
   "source": [
    "company_df['Num_Employees'] = company_df['Num_Employees'].astype('int')"
   ]
  },
  {
   "cell_type": "code",
   "execution_count": 835,
   "id": "cecdaa95",
   "metadata": {},
   "outputs": [],
   "source": [
    "company_df['Return'] = company_df['Return'].str[:-1].astype('float')"
   ]
  },
  {
   "cell_type": "markdown",
   "id": "ba0facfb",
   "metadata": {},
   "source": [
    "We will define the data type for 'Offer Date' later, when handling that column"
   ]
  },
  {
   "cell_type": "markdown",
   "id": "8a6037c4",
   "metadata": {},
   "source": [
    "### Step 3: Extracting company performance information"
   ]
  },
  {
   "cell_type": "markdown",
   "id": "d7452e5b",
   "metadata": {},
   "source": [
    "%Company Sold = IPO size as a proportion of the Market Cap = (Num Shares sold*Offer Price)/Market Cap\n",
    "\n",
    "In general, a high percentage of company sold is seen as an indicator of low confidence of the company in its business."
   ]
  },
  {
   "cell_type": "code",
   "execution_count": 836,
   "id": "58d5340f",
   "metadata": {},
   "outputs": [],
   "source": [
    "company_df['%Company_sold'] = company_df.apply(lambda x:(x['Shares (millions)']*x['Offer Price'])/x['Offer Price'], axis=1)"
   ]
  },
  {
   "cell_type": "markdown",
   "id": "bfbf88f2",
   "metadata": {},
   "source": [
    "### Step 4: Extracting time information from the 'Offer Date' column"
   ]
  },
  {
   "cell_type": "code",
   "execution_count": 837,
   "id": "10da06dc",
   "metadata": {},
   "outputs": [],
   "source": [
    "company_df['Offer Date'] = pd.to_datetime(company_df['Offer Date'])\n",
    "company_df['Year'] = company_df['Offer Date'].dt.strftime(\"%Y\").astype('int')\n",
    "company_df['Month'] = company_df['Offer Date'].dt.strftime(\"%b\")\n",
    "company_df['Quarter'] = company_df['Offer Date'].dt.quarter.astype('int')\n",
    "company_df['Day'] = company_df['Offer Date'].dt.strftime(\"%A\")\n",
    "company_df['Date'] = company_df['Offer Date'].dt.strftime(\"%-d\").astype('int')"
   ]
  },
  {
   "cell_type": "markdown",
   "id": "4a3fdefa",
   "metadata": {},
   "source": [
    "### Step 5: Feature selection"
   ]
  },
  {
   "cell_type": "code",
   "execution_count": 838,
   "id": "3eb7a5b2",
   "metadata": {},
   "outputs": [
    {
     "name": "stdout",
     "output_type": "stream",
     "text": [
      "<class 'pandas.core.frame.DataFrame'>\n",
      "Int64Index: 338 entries, 0 to 338\n",
      "Data columns (total 26 columns):\n",
      " #   Column                   Non-Null Count  Dtype         \n",
      "---  ------                   --------------  -----         \n",
      " 0   Company                  338 non-null    object        \n",
      " 1   Symbol                   338 non-null    object        \n",
      " 2   Industry                 338 non-null    object        \n",
      " 3   Offer Date               338 non-null    datetime64[ns]\n",
      " 4   Shares (millions)        338 non-null    float64       \n",
      " 5   Offer Price              338 non-null    float64       \n",
      " 6   1st Day Close            338 non-null    float64       \n",
      " 7   Current Price            338 non-null    float64       \n",
      " 8   Return                   338 non-null    float64       \n",
      " 9   SCOOP Rating             338 non-null    object        \n",
      " 10  Company_info_link        338 non-null    object        \n",
      " 11  Num_Employees            338 non-null    int64         \n",
      " 12  Age                      338 non-null    float64       \n",
      " 13  Profit_Margin(million$)  338 non-null    float64       \n",
      " 14  Exchange                 338 non-null    object        \n",
      " 15  Price_Range              338 non-null    float64       \n",
      " 16  Est_Volume(million$)     338 non-null    float64       \n",
      " 17  Revenue(million$)        338 non-null    float64       \n",
      " 18  Market_Cap(million$)     338 non-null    float64       \n",
      " 19  Managers                 338 non-null    object        \n",
      " 20  %Company_sold            338 non-null    float64       \n",
      " 21  Year                     338 non-null    int64         \n",
      " 22  Month                    338 non-null    object        \n",
      " 23  Quarter                  338 non-null    int64         \n",
      " 24  Day                      338 non-null    object        \n",
      " 25  Date                     338 non-null    int64         \n",
      "dtypes: datetime64[ns](1), float64(12), int64(4), object(9)\n",
      "memory usage: 71.3+ KB\n"
     ]
    }
   ],
   "source": [
    "company_df.info()"
   ]
  },
  {
   "cell_type": "markdown",
   "id": "31362d36",
   "metadata": {},
   "source": [
    "We can directly remove few columns that do not contribute any useful information for our analysis:\n",
    "\n",
    "    - Symbol\n",
    "    - Current Price (as our analysis is only based on the 1st day IPO performance)\n",
    "    - SCOOP Rating\n",
    "    - Company_info_link"
   ]
  },
  {
   "cell_type": "code",
   "execution_count": 839,
   "id": "b7aaa73e",
   "metadata": {},
   "outputs": [],
   "source": [
    "company_df.drop(columns=['Current Price','SCOOP Rating', 'Company_info_link'], inplace=True)"
   ]
  },
  {
   "cell_type": "markdown",
   "id": "6e519c00",
   "metadata": {},
   "source": [
    "Correlation matrix to identify the presence of multi-collinearity (if any)"
   ]
  },
  {
   "cell_type": "code",
   "execution_count": 840,
   "id": "22901e82",
   "metadata": {},
   "outputs": [
    {
     "data": {
      "text/plain": [
       "<AxesSubplot:>"
      ]
     },
     "execution_count": 840,
     "metadata": {},
     "output_type": "execute_result"
    },
    {
     "data": {
      "image/png": "[encoded data removed]",
      "text/plain": [
       "<Figure size 792x648 with 2 Axes>"
      ]
     },
     "metadata": {
      "needs_background": "light"
     },
     "output_type": "display_data"
    }
   ],
   "source": [
    "corr = company_df.corr()\n",
    "mask = np.triu(np.ones_like(corr, dtype=bool))\n",
    "f, ax = plt.subplots(figsize=(11, 9))\n",
    "cmap = sns.diverging_palette(230, 20, as_cmap=True)\n",
    "sns.heatmap(corr, mask=mask, cmap=cmap, vmax=.3, center=0,\n",
    "            square=True, linewidths=.5, cbar_kws={\"shrink\": .5})"
   ]
  },
  {
   "cell_type": "markdown",
   "id": "6feb83f9",
   "metadata": {},
   "source": [
    "The absolute value of the correlation index does not exceed beyond 0.5. Hence, we can confirm that none of the variables are highly correlated. "
   ]
  },
  {
   "cell_type": "markdown",
   "id": "adce7bb9",
   "metadata": {},
   "source": [
    "# Section 3: Social Trend Data"
   ]
  },
  {
   "cell_type": "markdown",
   "id": "809a8bbb",
   "metadata": {},
   "source": [
    "Information about the social trends around the time of IPO has been fetched from google trends api. We obtain the search volume for a company (keyword=name of the company) all over the world, one month before the IPO launch date, in order to gauge the popularity for the company's stocks in the market. \n",
    "\n",
    "Since Google Trends returns only relative values (in the range of 0-100) in a single query, and there are also limits to how many queries that can be placed. Hence, we filter companies by their launch date, and search for the relative search volume for all these companies before their launch (to show how popular one IPO was in relation to another launching on the same day). \n",
    "\n",
    "The Google Trends API may not contain data for less-famous companies, and hence, may return null value for such companies. Sometimes the search volume is very low and in such cases, Google Trends just returns 0."
   ]
  },
  {
   "cell_type": "code",
   "execution_count": 841,
   "id": "36e3e6d2",
   "metadata": {},
   "outputs": [],
   "source": [
    "from dateutil.relativedelta import relativedelta\n",
    "import pytrends\n",
    "from pytrends.request import TrendReq\n",
    "\n",
    "\n",
    "pytrends = TrendReq(hl='en-US', tz=360)\n",
    "\n",
    "ipo_dates = list(set(company_df['Offer Date']))\n",
    "company_trends = {}\n",
    "\n",
    "stop_words = ['inc', 'co', 'ltd', 'corp']\n",
    "for date in ipo_dates:\n",
    "\n",
    "    date_12m_before = date + relativedelta(months=-1)\n",
    "    start_day = date_12m_before.day\n",
    "    start_month = date_12m_before.month\n",
    "    start_year = date_12m_before.year\n",
    "    \n",
    "    end_day = date.day\n",
    "    end_month = date.month\n",
    "    end_year = date.year\n",
    "    \n",
    "    filter_df = list(company_df[company_df['Offer Date']==date]['Company'])\n",
    "    companies = [re.sub('([\\(\\[]).*?([\\)\\]])', '', x.lower()) for x in filter_df]\n",
    "    companies_kw = []\n",
    "    for i in companies:\n",
    "        i = re.sub('[\\.,]', '', i)\n",
    "        i = [x for x in i.split() if x not in stop_words]\n",
    "        \n",
    "        companies_kw.append(i)\n",
    "    \n",
    "    historicaldf = pytrends.get_historical_interest(companies_kw, \n",
    "                                               year_start=start_year, \n",
    "                                               month_start=start_month, \n",
    "                                               day_start=start_day, \n",
    "                                               hour_start=0, \n",
    "                                               year_end=end_year, \n",
    "                                               month_end=end_month, \n",
    "                                               day_end=end_day, hour_end=0, cat=0, geo='', gprop='', sleep=0)\n",
    "    for (index, i) in enumerate(companies):\n",
    "        org_company = filter_df[index]\n",
    "        try:\n",
    "            avg_search = historicaldf[i].mean()\n",
    "            company_trends[org_company] = avg_search\n",
    "        except:\n",
    "            company_trends[org_company] = np.nan"
   ]
  },
  {
   "cell_type": "code",
   "execution_count": 843,
   "id": "d6aad303",
   "metadata": {},
   "outputs": [],
   "source": [
    "company_trends_df = pd.DataFrame(company_trends.items())\n",
    "company_trends_df.rename(columns={company_trends_df.columns[0]:'Company', company_trends_df.columns[1]:'popularity'}, inplace=True)"
   ]
  },
  {
   "cell_type": "code",
   "execution_count": 844,
   "id": "03381727",
   "metadata": {},
   "outputs": [],
   "source": [
    "company_trends_df['popularity'] = company_trends_df['popularity'].fillna(0)"
   ]
  },
  {
   "cell_type": "code",
   "execution_count": 845,
   "id": "b565b052",
   "metadata": {},
   "outputs": [],
   "source": [
    "temp = company_df\n",
    "temp['Company'] = temp['Company'].str.lower()\n",
    "company_df2 = pd.merge(company_trends_df, temp, on=\"Company\", how=\"inner\")"
   ]
  },
  {
   "cell_type": "code",
   "execution_count": null,
   "id": "eec7023c",
   "metadata": {},
   "outputs": [],
   "source": []
  },
  {
   "cell_type": "markdown",
   "id": "7345d65e",
   "metadata": {},
   "source": [
    "# Section 4: Data Exploration"
   ]
  },
  {
   "cell_type": "markdown",
   "id": "0408cd3e",
   "metadata": {},
   "source": [
    "We now have 3 sets of data:\n",
    "- ipo_df: IPO data\n",
    "- manager_exp_df: Vectorized information about the managers involved in each IPO\n",
    "- company_df: Company data\n",
    "\n",
    "The ipo_df is based on IPOs launched between 2000-2020.\n",
    "All the other dataframes are based on IPOs launched in the last 12 months."
   ]
  },
  {
   "cell_type": "code",
   "execution_count": 846,
   "id": "940a1931",
   "metadata": {},
   "outputs": [
    {
     "data": {
      "text/plain": [
       "count    3603.000000\n",
       "mean       13.670621\n",
       "std        28.686637\n",
       "min       -41.080000\n",
       "25%         0.000000\n",
       "50%         3.890000\n",
       "75%        19.805000\n",
       "max       353.850000\n",
       "Name: 1st Day %change, dtype: float64"
      ]
     },
     "execution_count": 846,
     "metadata": {},
     "output_type": "execute_result"
    }
   ],
   "source": [
    "ipo_df['1st Day %change'].describe()"
   ]
  },
  {
   "cell_type": "code",
   "execution_count": 847,
   "id": "ba815cc4",
   "metadata": {},
   "outputs": [
    {
     "data": {
      "image/png": "[encoded data removed]",
      "text/plain": [
       "<Figure size 432x288 with 1 Axes>"
      ]
     },
     "metadata": {
      "needs_background": "light"
     },
     "output_type": "display_data"
    }
   ],
   "source": [
    "(n, bins, patches) = plt.hist(ipo_df['1st Day %change'], bins=50, label='hst')\n",
    "plt.xlabel('1st Day %change')\n",
    "plt.ylabel('#Count of IPOs')\n",
    "plt.title('Distribution of the IPOs based on the %change in their price on the opening day')\n",
    "plt.show()"
   ]
  },
  {
   "cell_type": "code",
   "execution_count": 848,
   "id": "2075e169",
   "metadata": {},
   "outputs": [],
   "source": [
    "returns_df = pd.DataFrame(list(zip(bins, n)))\n",
    "returns_df.rename(columns={returns_df.columns[0]:'Bin', returns_df.columns[1]:'#IPOs'}, inplace=True)"
   ]
  },
  {
   "cell_type": "code",
   "execution_count": 849,
   "id": "4425e9ea",
   "metadata": {},
   "outputs": [
    {
     "data": {
      "text/html": [
       "<div>\n",
       "<style scoped>\n",
       "    .dataframe tbody tr th:only-of-type {\n",
       "        vertical-align: middle;\n",
       "    }\n",
       "\n",
       "    .dataframe tbody tr th {\n",
       "        vertical-align: top;\n",
       "    }\n",
       "\n",
       "    .dataframe thead th {\n",
       "        text-align: right;\n",
       "    }\n",
       "</style>\n",
       "<table border=\"1\" class=\"dataframe\">\n",
       "  <thead>\n",
       "    <tr style=\"text-align: right;\">\n",
       "      <th></th>\n",
       "      <th>Bin</th>\n",
       "      <th>#IPOs</th>\n",
       "    </tr>\n",
       "  </thead>\n",
       "  <tbody>\n",
       "    <tr>\n",
       "      <th>0</th>\n",
       "      <td>-41.0800</td>\n",
       "      <td>6.0</td>\n",
       "    </tr>\n",
       "    <tr>\n",
       "      <th>1</th>\n",
       "      <td>-33.1814</td>\n",
       "      <td>17.0</td>\n",
       "    </tr>\n",
       "    <tr>\n",
       "      <th>2</th>\n",
       "      <td>-25.2828</td>\n",
       "      <td>61.0</td>\n",
       "    </tr>\n",
       "    <tr>\n",
       "      <th>3</th>\n",
       "      <td>-17.3842</td>\n",
       "      <td>123.0</td>\n",
       "    </tr>\n",
       "    <tr>\n",
       "      <th>4</th>\n",
       "      <td>-9.4856</td>\n",
       "      <td>445.0</td>\n",
       "    </tr>\n",
       "    <tr>\n",
       "      <th>5</th>\n",
       "      <td>-1.5870</td>\n",
       "      <td>1351.0</td>\n",
       "    </tr>\n",
       "    <tr>\n",
       "      <th>6</th>\n",
       "      <td>6.3116</td>\n",
       "      <td>468.0</td>\n",
       "    </tr>\n",
       "    <tr>\n",
       "      <th>7</th>\n",
       "      <td>14.2102</td>\n",
       "      <td>296.0</td>\n",
       "    </tr>\n",
       "    <tr>\n",
       "      <th>8</th>\n",
       "      <td>22.1088</td>\n",
       "      <td>258.0</td>\n",
       "    </tr>\n",
       "    <tr>\n",
       "      <th>9</th>\n",
       "      <td>30.0074</td>\n",
       "      <td>136.0</td>\n",
       "    </tr>\n",
       "    <tr>\n",
       "      <th>10</th>\n",
       "      <td>37.9060</td>\n",
       "      <td>106.0</td>\n",
       "    </tr>\n",
       "    <tr>\n",
       "      <th>11</th>\n",
       "      <td>45.8046</td>\n",
       "      <td>74.0</td>\n",
       "    </tr>\n",
       "    <tr>\n",
       "      <th>12</th>\n",
       "      <td>53.7032</td>\n",
       "      <td>67.0</td>\n",
       "    </tr>\n",
       "    <tr>\n",
       "      <th>13</th>\n",
       "      <td>61.6018</td>\n",
       "      <td>47.0</td>\n",
       "    </tr>\n",
       "    <tr>\n",
       "      <th>14</th>\n",
       "      <td>69.5004</td>\n",
       "      <td>33.0</td>\n",
       "    </tr>\n",
       "    <tr>\n",
       "      <th>15</th>\n",
       "      <td>77.3990</td>\n",
       "      <td>15.0</td>\n",
       "    </tr>\n",
       "    <tr>\n",
       "      <th>16</th>\n",
       "      <td>85.2976</td>\n",
       "      <td>20.0</td>\n",
       "    </tr>\n",
       "    <tr>\n",
       "      <th>17</th>\n",
       "      <td>93.1962</td>\n",
       "      <td>13.0</td>\n",
       "    </tr>\n",
       "    <tr>\n",
       "      <th>18</th>\n",
       "      <td>101.0948</td>\n",
       "      <td>10.0</td>\n",
       "    </tr>\n",
       "    <tr>\n",
       "      <th>19</th>\n",
       "      <td>108.9934</td>\n",
       "      <td>7.0</td>\n",
       "    </tr>\n",
       "    <tr>\n",
       "      <th>20</th>\n",
       "      <td>116.8920</td>\n",
       "      <td>9.0</td>\n",
       "    </tr>\n",
       "    <tr>\n",
       "      <th>21</th>\n",
       "      <td>124.7906</td>\n",
       "      <td>5.0</td>\n",
       "    </tr>\n",
       "    <tr>\n",
       "      <th>22</th>\n",
       "      <td>132.6892</td>\n",
       "      <td>5.0</td>\n",
       "    </tr>\n",
       "    <tr>\n",
       "      <th>23</th>\n",
       "      <td>140.5878</td>\n",
       "      <td>2.0</td>\n",
       "    </tr>\n",
       "    <tr>\n",
       "      <th>24</th>\n",
       "      <td>148.4864</td>\n",
       "      <td>4.0</td>\n",
       "    </tr>\n",
       "    <tr>\n",
       "      <th>25</th>\n",
       "      <td>156.3850</td>\n",
       "      <td>3.0</td>\n",
       "    </tr>\n",
       "    <tr>\n",
       "      <th>26</th>\n",
       "      <td>164.2836</td>\n",
       "      <td>2.0</td>\n",
       "    </tr>\n",
       "    <tr>\n",
       "      <th>27</th>\n",
       "      <td>172.1822</td>\n",
       "      <td>2.0</td>\n",
       "    </tr>\n",
       "    <tr>\n",
       "      <th>28</th>\n",
       "      <td>180.0808</td>\n",
       "      <td>2.0</td>\n",
       "    </tr>\n",
       "    <tr>\n",
       "      <th>29</th>\n",
       "      <td>187.9794</td>\n",
       "      <td>2.0</td>\n",
       "    </tr>\n",
       "    <tr>\n",
       "      <th>30</th>\n",
       "      <td>195.8780</td>\n",
       "      <td>3.0</td>\n",
       "    </tr>\n",
       "    <tr>\n",
       "      <th>31</th>\n",
       "      <td>203.7766</td>\n",
       "      <td>3.0</td>\n",
       "    </tr>\n",
       "    <tr>\n",
       "      <th>32</th>\n",
       "      <td>211.6752</td>\n",
       "      <td>2.0</td>\n",
       "    </tr>\n",
       "    <tr>\n",
       "      <th>33</th>\n",
       "      <td>219.5738</td>\n",
       "      <td>0.0</td>\n",
       "    </tr>\n",
       "    <tr>\n",
       "      <th>34</th>\n",
       "      <td>227.4724</td>\n",
       "      <td>3.0</td>\n",
       "    </tr>\n",
       "    <tr>\n",
       "      <th>35</th>\n",
       "      <td>235.3710</td>\n",
       "      <td>0.0</td>\n",
       "    </tr>\n",
       "    <tr>\n",
       "      <th>36</th>\n",
       "      <td>243.2696</td>\n",
       "      <td>1.0</td>\n",
       "    </tr>\n",
       "    <tr>\n",
       "      <th>37</th>\n",
       "      <td>251.1682</td>\n",
       "      <td>0.0</td>\n",
       "    </tr>\n",
       "    <tr>\n",
       "      <th>38</th>\n",
       "      <td>259.0668</td>\n",
       "      <td>0.0</td>\n",
       "    </tr>\n",
       "    <tr>\n",
       "      <th>39</th>\n",
       "      <td>266.9654</td>\n",
       "      <td>0.0</td>\n",
       "    </tr>\n",
       "    <tr>\n",
       "      <th>40</th>\n",
       "      <td>274.8640</td>\n",
       "      <td>1.0</td>\n",
       "    </tr>\n",
       "    <tr>\n",
       "      <th>41</th>\n",
       "      <td>282.7626</td>\n",
       "      <td>0.0</td>\n",
       "    </tr>\n",
       "    <tr>\n",
       "      <th>42</th>\n",
       "      <td>290.6612</td>\n",
       "      <td>0.0</td>\n",
       "    </tr>\n",
       "    <tr>\n",
       "      <th>43</th>\n",
       "      <td>298.5598</td>\n",
       "      <td>0.0</td>\n",
       "    </tr>\n",
       "    <tr>\n",
       "      <th>44</th>\n",
       "      <td>306.4584</td>\n",
       "      <td>0.0</td>\n",
       "    </tr>\n",
       "    <tr>\n",
       "      <th>45</th>\n",
       "      <td>314.3570</td>\n",
       "      <td>0.0</td>\n",
       "    </tr>\n",
       "    <tr>\n",
       "      <th>46</th>\n",
       "      <td>322.2556</td>\n",
       "      <td>0.0</td>\n",
       "    </tr>\n",
       "    <tr>\n",
       "      <th>47</th>\n",
       "      <td>330.1542</td>\n",
       "      <td>0.0</td>\n",
       "    </tr>\n",
       "    <tr>\n",
       "      <th>48</th>\n",
       "      <td>338.0528</td>\n",
       "      <td>0.0</td>\n",
       "    </tr>\n",
       "    <tr>\n",
       "      <th>49</th>\n",
       "      <td>345.9514</td>\n",
       "      <td>1.0</td>\n",
       "    </tr>\n",
       "  </tbody>\n",
       "</table>\n",
       "</div>"
      ],
      "text/plain": [
       "         Bin   #IPOs\n",
       "0   -41.0800     6.0\n",
       "1   -33.1814    17.0\n",
       "2   -25.2828    61.0\n",
       "3   -17.3842   123.0\n",
       "4    -9.4856   445.0\n",
       "5    -1.5870  1351.0\n",
       "6     6.3116   468.0\n",
       "7    14.2102   296.0\n",
       "8    22.1088   258.0\n",
       "9    30.0074   136.0\n",
       "10   37.9060   106.0\n",
       "11   45.8046    74.0\n",
       "12   53.7032    67.0\n",
       "13   61.6018    47.0\n",
       "14   69.5004    33.0\n",
       "15   77.3990    15.0\n",
       "16   85.2976    20.0\n",
       "17   93.1962    13.0\n",
       "18  101.0948    10.0\n",
       "19  108.9934     7.0\n",
       "20  116.8920     9.0\n",
       "21  124.7906     5.0\n",
       "22  132.6892     5.0\n",
       "23  140.5878     2.0\n",
       "24  148.4864     4.0\n",
       "25  156.3850     3.0\n",
       "26  164.2836     2.0\n",
       "27  172.1822     2.0\n",
       "28  180.0808     2.0\n",
       "29  187.9794     2.0\n",
       "30  195.8780     3.0\n",
       "31  203.7766     3.0\n",
       "32  211.6752     2.0\n",
       "33  219.5738     0.0\n",
       "34  227.4724     3.0\n",
       "35  235.3710     0.0\n",
       "36  243.2696     1.0\n",
       "37  251.1682     0.0\n",
       "38  259.0668     0.0\n",
       "39  266.9654     0.0\n",
       "40  274.8640     1.0\n",
       "41  282.7626     0.0\n",
       "42  290.6612     0.0\n",
       "43  298.5598     0.0\n",
       "44  306.4584     0.0\n",
       "45  314.3570     0.0\n",
       "46  322.2556     0.0\n",
       "47  330.1542     0.0\n",
       "48  338.0528     0.0\n",
       "49  345.9514     1.0"
      ]
     },
     "execution_count": 849,
     "metadata": {},
     "output_type": "execute_result"
    }
   ],
   "source": [
    "returns_df"
   ]
  },
  {
   "cell_type": "markdown",
   "id": "d7188e2b",
   "metadata": {},
   "source": [
    "The majority of the IPOs (1351, which is approx 38% of the dataset) have %returns between -1.5870 and 6.3116. "
   ]
  },
  {
   "cell_type": "markdown",
   "id": "98f724e1",
   "metadata": {},
   "source": [
    "There are also many outliers making exceptionally large returns (like one company making 345% returns on 1st day!). We need to make note of these outliers when we perform multivariate analysis."
   ]
  },
  {
   "cell_type": "code",
   "execution_count": 850,
   "id": "3c8af485",
   "metadata": {},
   "outputs": [
    {
     "name": "stdout",
     "output_type": "stream",
     "text": [
      "Number of IPOs with %returns less than -1.5870: 652.0 (= approx 18.1%) of the dataset\n",
      "Number of IPOs with %returns more than 6.3116: 1132.0 (= approx 31.4%) of the dataset\n"
     ]
    }
   ],
   "source": [
    "num_less = returns_df[returns_df['Bin']<-1.5870]['#IPOs'].sum()\n",
    "num_more = returns_df[returns_df['Bin']>6.3116]['#IPOs'].sum()\n",
    "total = ipo_df.shape[0]\n",
    "print(\"Number of IPOs with %returns less than -1.5870: \" + str(num_less) + \" (= approx \" + str(round((num_less/total)*100, 1)) + \"%) of the dataset\")\n",
    "print(\"Number of IPOs with %returns more than 6.3116: \" + str(num_more) + \" (= approx \" + str(round((num_more/total)*100, 1)) + \"%) of the dataset\")"
   ]
  },
  {
   "cell_type": "code",
   "execution_count": 851,
   "id": "9326961e",
   "metadata": {},
   "outputs": [
    {
     "data": {
      "text/plain": [
       "count    3603.000000\n",
       "mean       13.670621\n",
       "std        28.686637\n",
       "min       -41.080000\n",
       "25%         0.000000\n",
       "50%         3.890000\n",
       "75%        19.805000\n",
       "max       353.850000\n",
       "Name: 1st Day %change, dtype: float64"
      ]
     },
     "execution_count": 851,
     "metadata": {},
     "output_type": "execute_result"
    }
   ],
   "source": [
    "ipo_df['1st Day %change'].describe()"
   ]
  },
  {
   "cell_type": "code",
   "execution_count": 852,
   "id": "573b3f00",
   "metadata": {},
   "outputs": [
    {
     "data": {
      "image/png": "[encoded data removed]",
      "text/plain": [
       "<Figure size 432x288 with 1 Axes>"
      ]
     },
     "metadata": {
      "needs_background": "light"
     },
     "output_type": "display_data"
    }
   ],
   "source": [
    "mu = statistics.mean(ipo_df['1st Day %change'])\n",
    "sigma = statistics.stdev(ipo_df['1st Day %change'])\n",
    "x = ipo_df['1st Day %change'].sort_values(ascending=True)\n",
    "plt.plot(x, norm.pdf(x, mu, sigma))\n",
    "plt.show()"
   ]
  },
  {
   "cell_type": "markdown",
   "id": "1f38b59f",
   "metadata": {},
   "source": [
    "**95% Confidence Interval for IPO investments**"
   ]
  },
  {
   "cell_type": "code",
   "execution_count": 853,
   "id": "697fcc79",
   "metadata": {},
   "outputs": [
    {
     "name": "stdout",
     "output_type": "stream",
     "text": [
      "Lower bound of 95% CI: -42.555\n"
     ]
    }
   ],
   "source": [
    "print(\"Lower bound of 95% CI: \" + str(round(mu - (1.96*sigma), 3)))"
   ]
  },
  {
   "cell_type": "code",
   "execution_count": 854,
   "id": "29362d56",
   "metadata": {},
   "outputs": [
    {
     "name": "stdout",
     "output_type": "stream",
     "text": [
      "Uppwer bound of 95% CI: 69.896\n"
     ]
    }
   ],
   "source": [
    "print(\"Uppwer bound of 95% CI: \" + str(round(mu + (1.96*sigma), 3)))"
   ]
  },
  {
   "cell_type": "markdown",
   "id": "64308603",
   "metadata": {},
   "source": [
    "The distribution of returns is skewed to the right, with a long tail. Based on the historic data, we know that 95% of the time IPO investment would yield returns in the range between [-42%, 70%]. "
   ]
  },
  {
   "cell_type": "code",
   "execution_count": 855,
   "id": "6ae11f26",
   "metadata": {},
   "outputs": [
    {
     "data": {
      "text/plain": [
       "0.29409111317681913"
      ]
     },
     "execution_count": 855,
     "metadata": {},
     "output_type": "execute_result"
    }
   ],
   "source": [
    "from scipy.stats import norm\n",
    "norm(mu, sigma).cdf(0)- norm(mu, sigma).cdf(mu-(2*sigma))"
   ]
  },
  {
   "cell_type": "markdown",
   "id": "1064f2d2",
   "metadata": {},
   "source": [
    "The probability of downside risk (i.e. making loss) in an IPO investment is: 29% (at a 95% confidence level)"
   ]
  },
  {
   "cell_type": "markdown",
   "id": "4511bcd0",
   "metadata": {},
   "source": [
    "**95% Confidence Interval based on Manager as a driver to determine the downside risk**"
   ]
  },
  {
   "cell_type": "code",
   "execution_count": 856,
   "id": "4e4b7e59",
   "metadata": {},
   "outputs": [],
   "source": [
    "managers_ls = set(itertools.chain.from_iterable(list(ipo_df['Lead/Joint Lead Managers'])))"
   ]
  },
  {
   "cell_type": "code",
   "execution_count": 857,
   "id": "9684b530",
   "metadata": {},
   "outputs": [],
   "source": [
    "multiple_ipo_managers = [x for x in manager_num_ipos if manager_num_ipos[x] > 7]"
   ]
  },
  {
   "cell_type": "code",
   "execution_count": 858,
   "id": "3732983f",
   "metadata": {},
   "outputs": [],
   "source": [
    "manager_risk = {}\n",
    "\n",
    "for manager in multiple_ipo_managers:\n",
    "    filtered_df = ipo_df[ipo_df['Lead/Joint Lead Managers'].map(set([manager]).issubset)]\n",
    "    mu = statistics.mean(filtered_df['1st Day %change'])\n",
    "    sigma = statistics.stdev(filtered_df['1st Day %change'])\n",
    "    risk_prob = norm(mu, sigma).cdf(0) - norm(mu, sigma).cdf(mu-(2*sigma))\n",
    "    manager_risk[manager] = risk_prob "
   ]
  },
  {
   "cell_type": "code",
   "execution_count": 859,
   "id": "6b6ce40e",
   "metadata": {},
   "outputs": [],
   "source": [
    "manager_risk = dict(sorted(manager_risk.items(), key=lambda item: item[1], reverse=True))\n",
    "medium_risk_managers = [[x, manager_risk[x]] for x in manager_risk if manager_risk[x]>0.294]\n",
    "high_risk_managers = [[x, manager_risk[x]] for x in manager_risk if manager_risk[x]>0.5]"
   ]
  },
  {
   "cell_type": "code",
   "execution_count": 860,
   "id": "4eb18b6b",
   "metadata": {},
   "outputs": [
    {
     "name": "stdout",
     "output_type": "stream",
     "text": [
      "Medium risk managers: \n"
     ]
    },
    {
     "data": {
      "text/plain": [
       "[['I-Bankers Securities', 0.597725205237137],\n",
       " ['Aegis Capital Corp', 0.5550098248835001],\n",
       " ['Wunderlich Securities', 0.5474025893657777],\n",
       " ['BTIG', 0.5178059668624468],\n",
       " ['Rodman & Renshaw', 0.508991465637923],\n",
       " ['Maxim Group LLC', 0.5080571162104195],\n",
       " ['Paulson Investment', 0.5021368928060069],\n",
       " ['Cantor Fitzgerald & Co', 0.4952414188844294],\n",
       " ['Ladenberg Thalmann', 0.45944129148261764],\n",
       " ['WR Hambrecht+Co', 0.45096886874952774],\n",
       " ['EarlyBirdCapital, Inc', 0.4409352265855503],\n",
       " ['Joseph Gunnar & Co', 0.43263331932102983],\n",
       " ['Chardan Capital Markets', 0.42382179276935195],\n",
       " ['Oppenheimer & Co', 0.39232205076373794],\n",
       " ['JMP Securities', 0.38916363729561837],\n",
       " ['ING', 0.3642724405519876],\n",
       " ['Feltl & Company', 0.3592353843000813],\n",
       " ['FBR Capital Markets', 0.34560751478599305],\n",
       " ['SunTrust Robinson Humphrey', 0.3327343651458065],\n",
       " ['Macquarie Capital', 0.32971281591560436],\n",
       " ['I-Bankers', 0.3232152850972354],\n",
       " ['Mizuho Securities', 0.3227319534342547],\n",
       " ['Stifel', 0.321896951475259],\n",
       " ['Raymond James', 0.3144188834077172],\n",
       " ['Wells Fargo Securities', 0.3117412887575443],\n",
       " ['Citigroup Capital Markets', 0.3067927763423828],\n",
       " ['Needham & Company', 0.30408312015852884],\n",
       " ['Evercore ISI', 0.2994903985632654],\n",
       " ['BB&T Capital Markets', 0.2994061197112722],\n",
       " ['BMO Capital Market', 0.2960803025991896],\n",
       " ['Dutsche Bank', 0.29533100714991933]]"
      ]
     },
     "execution_count": 860,
     "metadata": {},
     "output_type": "execute_result"
    }
   ],
   "source": [
    "print(\"Medium risk managers: \")\n",
    "medium_risk_managers"
   ]
  },
  {
   "cell_type": "code",
   "execution_count": 861,
   "id": "9b87d757",
   "metadata": {},
   "outputs": [
    {
     "name": "stdout",
     "output_type": "stream",
     "text": [
      "High risk managers\n"
     ]
    },
    {
     "data": {
      "text/plain": [
       "[['I-Bankers Securities', 0.597725205237137],\n",
       " ['Aegis Capital Corp', 0.5550098248835001],\n",
       " ['Wunderlich Securities', 0.5474025893657777],\n",
       " ['BTIG', 0.5178059668624468],\n",
       " ['Rodman & Renshaw', 0.508991465637923],\n",
       " ['Maxim Group LLC', 0.5080571162104195],\n",
       " ['Paulson Investment', 0.5021368928060069]]"
      ]
     },
     "execution_count": 861,
     "metadata": {},
     "output_type": "execute_result"
    }
   ],
   "source": [
    "print(\"High risk managers\")\n",
    "high_risk_managers"
   ]
  },
  {
   "cell_type": "markdown",
   "id": "0f02d285",
   "metadata": {},
   "source": [
    "The high risk managers have more than 50% chance (with 95% confidence) to yield negative returns. Hence, a potential investor may choose to avoid IPOs handled by them."
   ]
  },
  {
   "cell_type": "markdown",
   "id": "b936b933",
   "metadata": {},
   "source": [
    "**Analysis by Industry**"
   ]
  },
  {
   "cell_type": "code",
   "execution_count": 862,
   "id": "95b57693",
   "metadata": {},
   "outputs": [],
   "source": [
    "industry_list = list(company_df['Industry'])"
   ]
  },
  {
   "cell_type": "code",
   "execution_count": 863,
   "id": "957b7cb3",
   "metadata": {},
   "outputs": [],
   "source": [
    "num_ipos_industry = company_df['Industry'].value_counts()\n",
    "num_ipos_industry = pd.DataFrame(num_ipos_industry)\n",
    "num_ipos_industry = num_ipos_industry.reset_index(level=0)\n",
    "num_ipos_industry.rename(columns={'index':'Industry', 'Industry':'Count'}, inplace=True)"
   ]
  },
  {
   "cell_type": "code",
   "execution_count": 864,
   "id": "608065d5",
   "metadata": {},
   "outputs": [
    {
     "data": {
      "text/html": [
       "<div>\n",
       "<style scoped>\n",
       "    .dataframe tbody tr th:only-of-type {\n",
       "        vertical-align: middle;\n",
       "    }\n",
       "\n",
       "    .dataframe tbody tr th {\n",
       "        vertical-align: top;\n",
       "    }\n",
       "\n",
       "    .dataframe thead th {\n",
       "        text-align: right;\n",
       "    }\n",
       "</style>\n",
       "<table border=\"1\" class=\"dataframe\">\n",
       "  <thead>\n",
       "    <tr style=\"text-align: right;\">\n",
       "      <th></th>\n",
       "      <th>Industry</th>\n",
       "      <th>Count</th>\n",
       "    </tr>\n",
       "  </thead>\n",
       "  <tbody>\n",
       "    <tr>\n",
       "      <th>0</th>\n",
       "      <td>Health Care</td>\n",
       "      <td>113</td>\n",
       "    </tr>\n",
       "    <tr>\n",
       "      <th>1</th>\n",
       "      <td>Technology</td>\n",
       "      <td>98</td>\n",
       "    </tr>\n",
       "    <tr>\n",
       "      <th>2</th>\n",
       "      <td>Consumer Goods</td>\n",
       "      <td>31</td>\n",
       "    </tr>\n",
       "    <tr>\n",
       "      <th>3</th>\n",
       "      <td>Financials</td>\n",
       "      <td>24</td>\n",
       "    </tr>\n",
       "    <tr>\n",
       "      <th>4</th>\n",
       "      <td>Consumer Services</td>\n",
       "      <td>24</td>\n",
       "    </tr>\n",
       "    <tr>\n",
       "      <th>5</th>\n",
       "      <td>Blank Check</td>\n",
       "      <td>23</td>\n",
       "    </tr>\n",
       "    <tr>\n",
       "      <th>6</th>\n",
       "      <td>Industrials</td>\n",
       "      <td>16</td>\n",
       "    </tr>\n",
       "    <tr>\n",
       "      <th>7</th>\n",
       "      <td>Other</td>\n",
       "      <td>5</td>\n",
       "    </tr>\n",
       "    <tr>\n",
       "      <th>8</th>\n",
       "      <td>Oil &amp; Gas</td>\n",
       "      <td>2</td>\n",
       "    </tr>\n",
       "    <tr>\n",
       "      <th>9</th>\n",
       "      <td>Basic Materials</td>\n",
       "      <td>1</td>\n",
       "    </tr>\n",
       "    <tr>\n",
       "      <th>10</th>\n",
       "      <td>Utilities</td>\n",
       "      <td>1</td>\n",
       "    </tr>\n",
       "  </tbody>\n",
       "</table>\n",
       "</div>"
      ],
      "text/plain": [
       "             Industry  Count\n",
       "0         Health Care    113\n",
       "1          Technology     98\n",
       "2      Consumer Goods     31\n",
       "3          Financials     24\n",
       "4   Consumer Services     24\n",
       "5         Blank Check     23\n",
       "6         Industrials     16\n",
       "7               Other      5\n",
       "8           Oil & Gas      2\n",
       "9     Basic Materials      1\n",
       "10          Utilities      1"
      ]
     },
     "execution_count": 864,
     "metadata": {},
     "output_type": "execute_result"
    }
   ],
   "source": [
    "num_ipos_industry"
   ]
  },
  {
   "cell_type": "code",
   "execution_count": 865,
   "id": "f54fce85",
   "metadata": {},
   "outputs": [],
   "source": [
    "company_df['1st Day %change'] = company_df.apply(lambda x:float(x['Return']/x['Offer Price']), axis=1)"
   ]
  },
  {
   "cell_type": "code",
   "execution_count": 866,
   "id": "81d3dc32",
   "metadata": {},
   "outputs": [],
   "source": [
    "industry_list = num_ipos_industry[num_ipos_industry.Count>5].Industry\n",
    "industry_risk = {}\n",
    "industry_returns = {}\n",
    "\n",
    "for industry in industry_list:\n",
    "    filtered_df = company_df[company_df['Industry']==industry]\n",
    "    mu = statistics.mean(filtered_df['1st Day %change'])\n",
    "    sigma = statistics.stdev(filtered_df['1st Day %change'])\n",
    "    returns = statistics.mean(filtered_df['Return'])\n",
    "    risk_prob = norm(mu, sigma).cdf(0) - norm(mu, sigma).cdf(mu-(2*sigma))\n",
    "    industry_risk[industry] = risk_prob \n",
    "    industry_returns[industry] = returns"
   ]
  },
  {
   "cell_type": "code",
   "execution_count": 867,
   "id": "bd156932",
   "metadata": {},
   "outputs": [],
   "source": [
    "industry_returns_risk = pd.DataFrame(industry_risk.items(), industry_returns.items())\n",
    "industry_returns_risk = industry_returns_risk.reset_index(level=-1)\n",
    "industry_returns_risk.rename(columns={industry_returns_risk.columns[0]:'Risk', industry_returns_risk.columns[1]:'Industry', industry_returns_risk.columns[2]:'Returns'}, inplace=True)"
   ]
  },
  {
   "cell_type": "code",
   "execution_count": 868,
   "id": "3c8fe517",
   "metadata": {},
   "outputs": [
    {
     "data": {
      "application/vnd.plotly.v1+json": {
       "config": {
        "plotlyServerURL": "https://plot.ly"
       },
       "data": [
        {
         "hovertemplate": "Industry=Health Care<br>Returns=%{x}<br>Risk=%{y}<extra></extra>",
         "legendgroup": "Health Care",
         "marker": {
          "color": "#636efa",
          "symbol": "circle"
         },
         "mode": "markers",
         "name": "Health Care",
         "orientation": "v",
         "showlegend": true,
         "type": "scatter",
         "x": [
          0.5607004655125448
         ],
         "xaxis": "x",
         "y": [
          -29.24867256637168
         ],
         "yaxis": "y"
        },
        {
         "hovertemplate": "Industry=Technology<br>Returns=%{x}<br>Risk=%{y}<extra></extra>",
         "legendgroup": "Technology",
         "marker": {
          "color": "#EF553B",
          "symbol": "circle"
         },
         "mode": "markers",
         "name": "Technology",
         "orientation": "v",
         "showlegend": true,
         "type": "scatter",
         "x": [
          0.6010436405493657
         ],
         "xaxis": "x",
         "y": [
          -23.616836734693877
         ],
         "yaxis": "y"
        },
        {
         "hovertemplate": "Industry=Consumer Goods<br>Returns=%{x}<br>Risk=%{y}<extra></extra>",
         "legendgroup": "Consumer Goods",
         "marker": {
          "color": "#00cc96",
          "symbol": "circle"
         },
         "mode": "markers",
         "name": "Consumer Goods",
         "orientation": "v",
         "showlegend": true,
         "type": "scatter",
         "x": [
          0.8105396763928917
         ],
         "xaxis": "x",
         "y": [
          -40.71322580645161
         ],
         "yaxis": "y"
        },
        {
         "hovertemplate": "Industry=Financials<br>Returns=%{x}<br>Risk=%{y}<extra></extra>",
         "legendgroup": "Financials",
         "marker": {
          "color": "#ab63fa",
          "symbol": "circle"
         },
         "mode": "markers",
         "name": "Financials",
         "orientation": "v",
         "showlegend": true,
         "type": "scatter",
         "x": [
          0.5532634455831408
         ],
         "xaxis": "x",
         "y": [
          1.5454166666666669
         ],
         "yaxis": "y"
        },
        {
         "hovertemplate": "Industry=Consumer Services<br>Returns=%{x}<br>Risk=%{y}<extra></extra>",
         "legendgroup": "Consumer Services",
         "marker": {
          "color": "#FFA15A",
          "symbol": "circle"
         },
         "mode": "markers",
         "name": "Consumer Services",
         "orientation": "v",
         "showlegend": true,
         "type": "scatter",
         "x": [
          0.6470284433896554
         ],
         "xaxis": "x",
         "y": [
          -27.33416666666667
         ],
         "yaxis": "y"
        },
        {
         "hovertemplate": "Industry=Blank Check<br>Returns=%{x}<br>Risk=%{y}<extra></extra>",
         "legendgroup": "Blank Check",
         "marker": {
          "color": "#19d3f3",
          "symbol": "circle"
         },
         "mode": "markers",
         "name": "Blank Check",
         "orientation": "v",
         "showlegend": true,
         "type": "scatter",
         "x": [
          0.6975466068294507
         ],
         "xaxis": "x",
         "y": [
          -1.1304347826086956
         ],
         "yaxis": "y"
        },
        {
         "hovertemplate": "Industry=Industrials<br>Returns=%{x}<br>Risk=%{y}<extra></extra>",
         "legendgroup": "Industrials",
         "marker": {
          "color": "#FF6692",
          "symbol": "circle"
         },
         "mode": "markers",
         "name": "Industrials",
         "orientation": "v",
         "showlegend": true,
         "type": "scatter",
         "x": [
          0.601466180794806
         ],
         "xaxis": "x",
         "y": [
          -15.75875
         ],
         "yaxis": "y"
        }
       ],
       "layout": {
        "legend": {
         "title": {
          "text": "Industry"
         },
         "tracegroupgap": 0
        },
        "template": {
         "data": {
          "bar": [
           {
            "error_x": {
             "color": "#2a3f5f"
            },
            "error_y": {
             "color": "#2a3f5f"
            },
            "marker": {
             "line": {
              "color": "#E5ECF6",
              "width": 0.5
             },
             "pattern": {
              "fillmode": "overlay",
              "size": 10,
              "solidity": 0.2
             }
            },
            "type": "bar"
           }
          ],
          "barpolar": [
           {
            "marker": {
             "line": {
              "color": "#E5ECF6",
              "width": 0.5
             },
             "pattern": {
              "fillmode": "overlay",
              "size": 10,
              "solidity": 0.2
             }
            },
            "type": "barpolar"
           }
          ],
          "carpet": [
           {
            "aaxis": {
             "endlinecolor": "#2a3f5f",
             "gridcolor": "white",
             "linecolor": "white",
             "minorgridcolor": "white",
             "startlinecolor": "#2a3f5f"
            },
            "baxis": {
             "endlinecolor": "#2a3f5f",
             "gridcolor": "white",
             "linecolor": "white",
             "minorgridcolor": "white",
             "startlinecolor": "#2a3f5f"
            },
            "type": "carpet"
           }
          ],
          "choropleth": [
           {
            "colorbar": {
             "outlinewidth": 0,
             "ticks": ""
            },
            "type": "choropleth"
           }
          ],
          "contour": [
           {
            "colorbar": {
             "outlinewidth": 0,
             "ticks": ""
            },
            "colorscale": [
             [
              0,
              "#0d0887"
             ],
             [
              0.1111111111111111,
              "#46039f"
             ],
             [
              0.2222222222222222,
              "#7201a8"
             ],
             [
              0.3333333333333333,
              "#9c179e"
             ],
             [
              0.4444444444444444,
              "#bd3786"
             ],
             [
              0.5555555555555556,
              "#d8576b"
             ],
             [
              0.6666666666666666,
              "#ed7953"
             ],
             [
              0.7777777777777778,
              "#fb9f3a"
             ],
             [
              0.8888888888888888,
              "#fdca26"
             ],
             [
              1,
              "#f0f921"
             ]
            ],
            "type": "contour"
           }
          ],
          "contourcarpet": [
           {
            "colorbar": {
             "outlinewidth": 0,
             "ticks": ""
            },
            "type": "contourcarpet"
           }
          ],
          "heatmap": [
           {
            "colorbar": {
             "outlinewidth": 0,
             "ticks": ""
            },
            "colorscale": [
             [
              0,
              "#0d0887"
             ],
             [
              0.1111111111111111,
              "#46039f"
             ],
             [
              0.2222222222222222,
              "#7201a8"
             ],
             [
              0.3333333333333333,
              "#9c179e"
             ],
             [
              0.4444444444444444,
              "#bd3786"
             ],
             [
              0.5555555555555556,
              "#d8576b"
             ],
             [
              0.6666666666666666,
              "#ed7953"
             ],
             [
              0.7777777777777778,
              "#fb9f3a"
             ],
             [
              0.8888888888888888,
              "#fdca26"
             ],
             [
              1,
              "#f0f921"
             ]
            ],
            "type": "heatmap"
           }
          ],
          "heatmapgl": [
           {
            "colorbar": {
             "outlinewidth": 0,
             "ticks": ""
            },
            "colorscale": [
             [
              0,
              "#0d0887"
             ],
             [
              0.1111111111111111,
              "#46039f"
             ],
             [
              0.2222222222222222,
              "#7201a8"
             ],
             [
              0.3333333333333333,
              "#9c179e"
             ],
             [
              0.4444444444444444,
              "#bd3786"
             ],
             [
              0.5555555555555556,
              "#d8576b"
             ],
             [
              0.6666666666666666,
              "#ed7953"
             ],
             [
              0.7777777777777778,
              "#fb9f3a"
             ],
             [
              0.8888888888888888,
              "#fdca26"
             ],
             [
              1,
              "#f0f921"
             ]
            ],
            "type": "heatmapgl"
           }
          ],
          "histogram": [
           {
            "marker": {
             "pattern": {
              "fillmode": "overlay",
              "size": 10,
              "solidity": 0.2
             }
            },
            "type": "histogram"
           }
          ],
          "histogram2d": [
           {
            "colorbar": {
             "outlinewidth": 0,
             "ticks": ""
            },
            "colorscale": [
             [
              0,
              "#0d0887"
             ],
             [
              0.1111111111111111,
              "#46039f"
             ],
             [
              0.2222222222222222,
              "#7201a8"
             ],
             [
              0.3333333333333333,
              "#9c179e"
             ],
             [
              0.4444444444444444,
              "#bd3786"
             ],
             [
              0.5555555555555556,
              "#d8576b"
             ],
             [
              0.6666666666666666,
              "#ed7953"
             ],
             [
              0.7777777777777778,
              "#fb9f3a"
             ],
             [
              0.8888888888888888,
              "#fdca26"
             ],
             [
              1,
              "#f0f921"
             ]
            ],
            "type": "histogram2d"
           }
          ],
          "histogram2dcontour": [
           {
            "colorbar": {
             "outlinewidth": 0,
             "ticks": ""
            },
            "colorscale": [
             [
              0,
              "#0d0887"
             ],
             [
              0.1111111111111111,
              "#46039f"
             ],
             [
              0.2222222222222222,
              "#7201a8"
             ],
             [
              0.3333333333333333,
              "#9c179e"
             ],
             [
              0.4444444444444444,
              "#bd3786"
             ],
             [
              0.5555555555555556,
              "#d8576b"
             ],
             [
              0.6666666666666666,
              "#ed7953"
             ],
             [
              0.7777777777777778,
              "#fb9f3a"
             ],
             [
              0.8888888888888888,
              "#fdca26"
             ],
             [
              1,
              "#f0f921"
             ]
            ],
            "type": "histogram2dcontour"
           }
          ],
          "mesh3d": [
           {
            "colorbar": {
             "outlinewidth": 0,
             "ticks": ""
            },
            "type": "mesh3d"
           }
          ],
          "parcoords": [
           {
            "line": {
             "colorbar": {
              "outlinewidth": 0,
              "ticks": ""
             }
            },
            "type": "parcoords"
           }
          ],
          "pie": [
           {
            "automargin": true,
            "type": "pie"
           }
          ],
          "scatter": [
           {
            "marker": {
             "colorbar": {
              "outlinewidth": 0,
              "ticks": ""
             }
            },
            "type": "scatter"
           }
          ],
          "scatter3d": [
           {
            "line": {
             "colorbar": {
              "outlinewidth": 0,
              "ticks": ""
             }
            },
            "marker": {
             "colorbar": {
              "outlinewidth": 0,
              "ticks": ""
             }
            },
            "type": "scatter3d"
           }
          ],
          "scattercarpet": [
           {
            "marker": {
             "colorbar": {
              "outlinewidth": 0,
              "ticks": ""
             }
            },
            "type": "scattercarpet"
           }
          ],
          "scattergeo": [
           {
            "marker": {
             "colorbar": {
              "outlinewidth": 0,
              "ticks": ""
             }
            },
            "type": "scattergeo"
           }
          ],
          "scattergl": [
           {
            "marker": {
             "colorbar": {
              "outlinewidth": 0,
              "ticks": ""
             }
            },
            "type": "scattergl"
           }
          ],
          "scattermapbox": [
           {
            "marker": {
             "colorbar": {
              "outlinewidth": 0,
              "ticks": ""
             }
            },
            "type": "scattermapbox"
           }
          ],
          "scatterpolar": [
           {
            "marker": {
             "colorbar": {
              "outlinewidth": 0,
              "ticks": ""
             }
            },
            "type": "scatterpolar"
           }
          ],
          "scatterpolargl": [
           {
            "marker": {
             "colorbar": {
              "outlinewidth": 0,
              "ticks": ""
             }
            },
            "type": "scatterpolargl"
           }
          ],
          "scatterternary": [
           {
            "marker": {
             "colorbar": {
              "outlinewidth": 0,
              "ticks": ""
             }
            },
            "type": "scatterternary"
           }
          ],
          "surface": [
           {
            "colorbar": {
             "outlinewidth": 0,
             "ticks": ""
            },
            "colorscale": [
             [
              0,
              "#0d0887"
             ],
             [
              0.1111111111111111,
              "#46039f"
             ],
             [
              0.2222222222222222,
              "#7201a8"
             ],
             [
              0.3333333333333333,
              "#9c179e"
             ],
             [
              0.4444444444444444,
              "#bd3786"
             ],
             [
              0.5555555555555556,
              "#d8576b"
             ],
             [
              0.6666666666666666,
              "#ed7953"
             ],
             [
              0.7777777777777778,
              "#fb9f3a"
             ],
             [
              0.8888888888888888,
              "#fdca26"
             ],
             [
              1,
              "#f0f921"
             ]
            ],
            "type": "surface"
           }
          ],
          "table": [
           {
            "cells": {
             "fill": {
              "color": "#EBF0F8"
             },
             "line": {
              "color": "white"
             }
            },
            "header": {
             "fill": {
              "color": "#C8D4E3"
             },
             "line": {
              "color": "white"
             }
            },
            "type": "table"
           }
          ]
         },
         "layout": {
          "annotationdefaults": {
           "arrowcolor": "#2a3f5f",
           "arrowhead": 0,
           "arrowwidth": 1
          },
          "autotypenumbers": "strict",
          "coloraxis": {
           "colorbar": {
            "outlinewidth": 0,
            "ticks": ""
           }
          },
          "colorscale": {
           "diverging": [
            [
             0,
             "#8e0152"
            ],
            [
             0.1,
             "#c51b7d"
            ],
            [
             0.2,
             "#de77ae"
            ],
            [
             0.3,
             "#f1b6da"
            ],
            [
             0.4,
             "#fde0ef"
            ],
            [
             0.5,
             "#f7f7f7"
            ],
            [
             0.6,
             "#e6f5d0"
            ],
            [
             0.7,
             "#b8e186"
            ],
            [
             0.8,
             "#7fbc41"
            ],
            [
             0.9,
             "#4d9221"
            ],
            [
             1,
             "#276419"
            ]
           ],
           "sequential": [
            [
             0,
             "#0d0887"
            ],
            [
             0.1111111111111111,
             "#46039f"
            ],
            [
             0.2222222222222222,
             "#7201a8"
            ],
            [
             0.3333333333333333,
             "#9c179e"
            ],
            [
             0.4444444444444444,
             "#bd3786"
            ],
            [
             0.5555555555555556,
             "#d8576b"
            ],
            [
             0.6666666666666666,
             "#ed7953"
            ],
            [
             0.7777777777777778,
             "#fb9f3a"
            ],
            [
             0.8888888888888888,
             "#fdca26"
            ],
            [
             1,
             "#f0f921"
            ]
           ],
           "sequentialminus": [
            [
             0,
             "#0d0887"
            ],
            [
             0.1111111111111111,
             "#46039f"
            ],
            [
             0.2222222222222222,
             "#7201a8"
            ],
            [
             0.3333333333333333,
             "#9c179e"
            ],
            [
             0.4444444444444444,
             "#bd3786"
            ],
            [
             0.5555555555555556,
             "#d8576b"
            ],
            [
             0.6666666666666666,
             "#ed7953"
            ],
            [
             0.7777777777777778,
             "#fb9f3a"
            ],
            [
             0.8888888888888888,
             "#fdca26"
            ],
            [
             1,
             "#f0f921"
            ]
           ]
          },
          "colorway": [
           "#636efa",
           "#EF553B",
           "#00cc96",
           "#ab63fa",
           "#FFA15A",
           "#19d3f3",
           "#FF6692",
           "#B6E880",
           "#FF97FF",
           "#FECB52"
          ],
          "font": {
           "color": "#2a3f5f"
          },
          "geo": {
           "bgcolor": "white",
           "lakecolor": "white",
           "landcolor": "#E5ECF6",
           "showlakes": true,
           "showland": true,
           "subunitcolor": "white"
          },
          "hoverlabel": {
           "align": "left"
          },
          "hovermode": "closest",
          "mapbox": {
           "style": "light"
          },
          "paper_bgcolor": "white",
          "plot_bgcolor": "#E5ECF6",
          "polar": {
           "angularaxis": {
            "gridcolor": "white",
            "linecolor": "white",
            "ticks": ""
           },
           "bgcolor": "#E5ECF6",
           "radialaxis": {
            "gridcolor": "white",
            "linecolor": "white",
            "ticks": ""
           }
          },
          "scene": {
           "xaxis": {
            "backgroundcolor": "#E5ECF6",
            "gridcolor": "white",
            "gridwidth": 2,
            "linecolor": "white",
            "showbackground": true,
            "ticks": "",
            "zerolinecolor": "white"
           },
           "yaxis": {
            "backgroundcolor": "#E5ECF6",
            "gridcolor": "white",
            "gridwidth": 2,
            "linecolor": "white",
            "showbackground": true,
            "ticks": "",
            "zerolinecolor": "white"
           },
           "zaxis": {
            "backgroundcolor": "#E5ECF6",
            "gridcolor": "white",
            "gridwidth": 2,
            "linecolor": "white",
            "showbackground": true,
            "ticks": "",
            "zerolinecolor": "white"
           }
          },
          "shapedefaults": {
           "line": {
            "color": "#2a3f5f"
           }
          },
          "ternary": {
           "aaxis": {
            "gridcolor": "white",
            "linecolor": "white",
            "ticks": ""
           },
           "baxis": {
            "gridcolor": "white",
            "linecolor": "white",
            "ticks": ""
           },
           "bgcolor": "#E5ECF6",
           "caxis": {
            "gridcolor": "white",
            "linecolor": "white",
            "ticks": ""
           }
          },
          "title": {
           "x": 0.05
          },
          "xaxis": {
           "automargin": true,
           "gridcolor": "white",
           "linecolor": "white",
           "ticks": "",
           "title": {
            "standoff": 15
           },
           "zerolinecolor": "white",
           "zerolinewidth": 2
          },
          "yaxis": {
           "automargin": true,
           "gridcolor": "white",
           "linecolor": "white",
           "ticks": "",
           "title": {
            "standoff": 15
           },
           "zerolinecolor": "white",
           "zerolinewidth": 2
          }
         }
        },
        "title": {
         "text": "Risk vs Returns by Industry"
        },
        "xaxis": {
         "anchor": "y",
         "domain": [
          0,
          1
         ],
         "title": {
          "text": "Returns"
         }
        },
        "yaxis": {
         "anchor": "x",
         "domain": [
          0,
          1
         ],
         "title": {
          "text": "Risk"
         }
        }
       }
      },
      "text/html": [
       "<div>                            <div id=\"7f4bb77e-abeb-4580-a8a4-38e7b855eb6e\" class=\"plotly-graph-div\" style=\"height:525px; width:100%;\"></div>            <script type=\"text/javascript\">                require([\"plotly\"], function(Plotly) {                    window.PLOTLYENV=window.PLOTLYENV || {};                                    if (document.getElementById(\"7f4bb77e-abeb-4580-a8a4-38e7b855eb6e\")) {                    Plotly.newPlot(                        \"7f4bb77e-abeb-4580-a8a4-38e7b855eb6e\",                        [{\"hovertemplate\":\"Industry=Health Care<br>Returns=%{x}<br>Risk=%{y}<extra></extra>\",\"legendgroup\":\"Health Care\",\"marker\":{\"color\":\"#636efa\",\"symbol\":\"circle\"},\"mode\":\"markers\",\"name\":\"Health Care\",\"orientation\":\"v\",\"showlegend\":true,\"x\":[0.5607004655125448],\"xaxis\":\"x\",\"y\":[-29.24867256637168],\"yaxis\":\"y\",\"type\":\"scatter\"},{\"hovertemplate\":\"Industry=Technology<br>Returns=%{x}<br>Risk=%{y}<extra></extra>\",\"legendgroup\":\"Technology\",\"marker\":{\"color\":\"#EF553B\",\"symbol\":\"circle\"},\"mode\":\"markers\",\"name\":\"Technology\",\"orientation\":\"v\",\"showlegend\":true,\"x\":[0.6010436405493657],\"xaxis\":\"x\",\"y\":[-23.616836734693877],\"yaxis\":\"y\",\"type\":\"scatter\"},{\"hovertemplate\":\"Industry=Consumer Goods<br>Returns=%{x}<br>Risk=%{y}<extra></extra>\",\"legendgroup\":\"Consumer Goods\",\"marker\":{\"color\":\"#00cc96\",\"symbol\":\"circle\"},\"mode\":\"markers\",\"name\":\"Consumer Goods\",\"orientation\":\"v\",\"showlegend\":true,\"x\":[0.8105396763928917],\"xaxis\":\"x\",\"y\":[-40.71322580645161],\"yaxis\":\"y\",\"type\":\"scatter\"},{\"hovertemplate\":\"Industry=Financials<br>Returns=%{x}<br>Risk=%{y}<extra></extra>\",\"legendgroup\":\"Financials\",\"marker\":{\"color\":\"#ab63fa\",\"symbol\":\"circle\"},\"mode\":\"markers\",\"name\":\"Financials\",\"orientation\":\"v\",\"showlegend\":true,\"x\":[0.5532634455831408],\"xaxis\":\"x\",\"y\":[1.5454166666666669],\"yaxis\":\"y\",\"type\":\"scatter\"},{\"hovertemplate\":\"Industry=Consumer Services<br>Returns=%{x}<br>Risk=%{y}<extra></extra>\",\"legendgroup\":\"Consumer Services\",\"marker\":{\"color\":\"#FFA15A\",\"symbol\":\"circle\"},\"mode\":\"markers\",\"name\":\"Consumer Services\",\"orientation\":\"v\",\"showlegend\":true,\"x\":[0.6470284433896554],\"xaxis\":\"x\",\"y\":[-27.33416666666667],\"yaxis\":\"y\",\"type\":\"scatter\"},{\"hovertemplate\":\"Industry=Blank Check<br>Returns=%{x}<br>Risk=%{y}<extra></extra>\",\"legendgroup\":\"Blank Check\",\"marker\":{\"color\":\"#19d3f3\",\"symbol\":\"circle\"},\"mode\":\"markers\",\"name\":\"Blank Check\",\"orientation\":\"v\",\"showlegend\":true,\"x\":[0.6975466068294507],\"xaxis\":\"x\",\"y\":[-1.1304347826086956],\"yaxis\":\"y\",\"type\":\"scatter\"},{\"hovertemplate\":\"Industry=Industrials<br>Returns=%{x}<br>Risk=%{y}<extra></extra>\",\"legendgroup\":\"Industrials\",\"marker\":{\"color\":\"#FF6692\",\"symbol\":\"circle\"},\"mode\":\"markers\",\"name\":\"Industrials\",\"orientation\":\"v\",\"showlegend\":true,\"x\":[0.601466180794806],\"xaxis\":\"x\",\"y\":[-15.75875],\"yaxis\":\"y\",\"type\":\"scatter\"}],                        {\"template\":{\"data\":{\"bar\":[{\"error_x\":{\"color\":\"#2a3f5f\"},\"error_y\":{\"color\":\"#2a3f5f\"},\"marker\":{\"line\":{\"color\":\"#E5ECF6\",\"width\":0.5},\"pattern\":{\"fillmode\":\"overlay\",\"size\":10,\"solidity\":0.2}},\"type\":\"bar\"}],\"barpolar\":[{\"marker\":{\"line\":{\"color\":\"#E5ECF6\",\"width\":0.5},\"pattern\":{\"fillmode\":\"overlay\",\"size\":10,\"solidity\":0.2}},\"type\":\"barpolar\"}],\"carpet\":[{\"aaxis\":{\"endlinecolor\":\"#2a3f5f\",\"gridcolor\":\"white\",\"linecolor\":\"white\",\"minorgridcolor\":\"white\",\"startlinecolor\":\"#2a3f5f\"},\"baxis\":{\"endlinecolor\":\"#2a3f5f\",\"gridcolor\":\"white\",\"linecolor\":\"white\",\"minorgridcolor\":\"white\",\"startlinecolor\":\"#2a3f5f\"},\"type\":\"carpet\"}],\"choropleth\":[{\"colorbar\":{\"outlinewidth\":0,\"ticks\":\"\"},\"type\":\"choropleth\"}],\"contour\":[{\"colorbar\":{\"outlinewidth\":0,\"ticks\":\"\"},\"colorscale\":[[0.0,\"#0d0887\"],[0.1111111111111111,\"#46039f\"],[0.2222222222222222,\"#7201a8\"],[0.3333333333333333,\"#9c179e\"],[0.4444444444444444,\"#bd3786\"],[0.5555555555555556,\"#d8576b\"],[0.6666666666666666,\"#ed7953\"],[0.7777777777777778,\"#fb9f3a\"],[0.8888888888888888,\"#fdca26\"],[1.0,\"#f0f921\"]],\"type\":\"contour\"}],\"contourcarpet\":[{\"colorbar\":{\"outlinewidth\":0,\"ticks\":\"\"},\"type\":\"contourcarpet\"}],\"heatmap\":[{\"colorbar\":{\"outlinewidth\":0,\"ticks\":\"\"},\"colorscale\":[[0.0,\"#0d0887\"],[0.1111111111111111,\"#46039f\"],[0.2222222222222222,\"#7201a8\"],[0.3333333333333333,\"#9c179e\"],[0.4444444444444444,\"#bd3786\"],[0.5555555555555556,\"#d8576b\"],[0.6666666666666666,\"#ed7953\"],[0.7777777777777778,\"#fb9f3a\"],[0.8888888888888888,\"#fdca26\"],[1.0,\"#f0f921\"]],\"type\":\"heatmap\"}],\"heatmapgl\":[{\"colorbar\":{\"outlinewidth\":0,\"ticks\":\"\"},\"colorscale\":[[0.0,\"#0d0887\"],[0.1111111111111111,\"#46039f\"],[0.2222222222222222,\"#7201a8\"],[0.3333333333333333,\"#9c179e\"],[0.4444444444444444,\"#bd3786\"],[0.5555555555555556,\"#d8576b\"],[0.6666666666666666,\"#ed7953\"],[0.7777777777777778,\"#fb9f3a\"],[0.8888888888888888,\"#fdca26\"],[1.0,\"#f0f921\"]],\"type\":\"heatmapgl\"}],\"histogram\":[{\"marker\":{\"pattern\":{\"fillmode\":\"overlay\",\"size\":10,\"solidity\":0.2}},\"type\":\"histogram\"}],\"histogram2d\":[{\"colorbar\":{\"outlinewidth\":0,\"ticks\":\"\"},\"colorscale\":[[0.0,\"#0d0887\"],[0.1111111111111111,\"#46039f\"],[0.2222222222222222,\"#7201a8\"],[0.3333333333333333,\"#9c179e\"],[0.4444444444444444,\"#bd3786\"],[0.5555555555555556,\"#d8576b\"],[0.6666666666666666,\"#ed7953\"],[0.7777777777777778,\"#fb9f3a\"],[0.8888888888888888,\"#fdca26\"],[1.0,\"#f0f921\"]],\"type\":\"histogram2d\"}],\"histogram2dcontour\":[{\"colorbar\":{\"outlinewidth\":0,\"ticks\":\"\"},\"colorscale\":[[0.0,\"#0d0887\"],[0.1111111111111111,\"#46039f\"],[0.2222222222222222,\"#7201a8\"],[0.3333333333333333,\"#9c179e\"],[0.4444444444444444,\"#bd3786\"],[0.5555555555555556,\"#d8576b\"],[0.6666666666666666,\"#ed7953\"],[0.7777777777777778,\"#fb9f3a\"],[0.8888888888888888,\"#fdca26\"],[1.0,\"#f0f921\"]],\"type\":\"histogram2dcontour\"}],\"mesh3d\":[{\"colorbar\":{\"outlinewidth\":0,\"ticks\":\"\"},\"type\":\"mesh3d\"}],\"parcoords\":[{\"line\":{\"colorbar\":{\"outlinewidth\":0,\"ticks\":\"\"}},\"type\":\"parcoords\"}],\"pie\":[{\"automargin\":true,\"type\":\"pie\"}],\"scatter\":[{\"marker\":{\"colorbar\":{\"outlinewidth\":0,\"ticks\":\"\"}},\"type\":\"scatter\"}],\"scatter3d\":[{\"line\":{\"colorbar\":{\"outlinewidth\":0,\"ticks\":\"\"}},\"marker\":{\"colorbar\":{\"outlinewidth\":0,\"ticks\":\"\"}},\"type\":\"scatter3d\"}],\"scattercarpet\":[{\"marker\":{\"colorbar\":{\"outlinewidth\":0,\"ticks\":\"\"}},\"type\":\"scattercarpet\"}],\"scattergeo\":[{\"marker\":{\"colorbar\":{\"outlinewidth\":0,\"ticks\":\"\"}},\"type\":\"scattergeo\"}],\"scattergl\":[{\"marker\":{\"colorbar\":{\"outlinewidth\":0,\"ticks\":\"\"}},\"type\":\"scattergl\"}],\"scattermapbox\":[{\"marker\":{\"colorbar\":{\"outlinewidth\":0,\"ticks\":\"\"}},\"type\":\"scattermapbox\"}],\"scatterpolar\":[{\"marker\":{\"colorbar\":{\"outlinewidth\":0,\"ticks\":\"\"}},\"type\":\"scatterpolar\"}],\"scatterpolargl\":[{\"marker\":{\"colorbar\":{\"outlinewidth\":0,\"ticks\":\"\"}},\"type\":\"scatterpolargl\"}],\"scatterternary\":[{\"marker\":{\"colorbar\":{\"outlinewidth\":0,\"ticks\":\"\"}},\"type\":\"scatterternary\"}],\"surface\":[{\"colorbar\":{\"outlinewidth\":0,\"ticks\":\"\"},\"colorscale\":[[0.0,\"#0d0887\"],[0.1111111111111111,\"#46039f\"],[0.2222222222222222,\"#7201a8\"],[0.3333333333333333,\"#9c179e\"],[0.4444444444444444,\"#bd3786\"],[0.5555555555555556,\"#d8576b\"],[0.6666666666666666,\"#ed7953\"],[0.7777777777777778,\"#fb9f3a\"],[0.8888888888888888,\"#fdca26\"],[1.0,\"#f0f921\"]],\"type\":\"surface\"}],\"table\":[{\"cells\":{\"fill\":{\"color\":\"#EBF0F8\"},\"line\":{\"color\":\"white\"}},\"header\":{\"fill\":{\"color\":\"#C8D4E3\"},\"line\":{\"color\":\"white\"}},\"type\":\"table\"}]},\"layout\":{\"annotationdefaults\":{\"arrowcolor\":\"#2a3f5f\",\"arrowhead\":0,\"arrowwidth\":1},\"autotypenumbers\":\"strict\",\"coloraxis\":{\"colorbar\":{\"outlinewidth\":0,\"ticks\":\"\"}},\"colorscale\":{\"diverging\":[[0,\"#8e0152\"],[0.1,\"#c51b7d\"],[0.2,\"#de77ae\"],[0.3,\"#f1b6da\"],[0.4,\"#fde0ef\"],[0.5,\"#f7f7f7\"],[0.6,\"#e6f5d0\"],[0.7,\"#b8e186\"],[0.8,\"#7fbc41\"],[0.9,\"#4d9221\"],[1,\"#276419\"]],\"sequential\":[[0.0,\"#0d0887\"],[0.1111111111111111,\"#46039f\"],[0.2222222222222222,\"#7201a8\"],[0.3333333333333333,\"#9c179e\"],[0.4444444444444444,\"#bd3786\"],[0.5555555555555556,\"#d8576b\"],[0.6666666666666666,\"#ed7953\"],[0.7777777777777778,\"#fb9f3a\"],[0.8888888888888888,\"#fdca26\"],[1.0,\"#f0f921\"]],\"sequentialminus\":[[0.0,\"#0d0887\"],[0.1111111111111111,\"#46039f\"],[0.2222222222222222,\"#7201a8\"],[0.3333333333333333,\"#9c179e\"],[0.4444444444444444,\"#bd3786\"],[0.5555555555555556,\"#d8576b\"],[0.6666666666666666,\"#ed7953\"],[0.7777777777777778,\"#fb9f3a\"],[0.8888888888888888,\"#fdca26\"],[1.0,\"#f0f921\"]]},\"colorway\":[\"#636efa\",\"#EF553B\",\"#00cc96\",\"#ab63fa\",\"#FFA15A\",\"#19d3f3\",\"#FF6692\",\"#B6E880\",\"#FF97FF\",\"#FECB52\"],\"font\":{\"color\":\"#2a3f5f\"},\"geo\":{\"bgcolor\":\"white\",\"lakecolor\":\"white\",\"landcolor\":\"#E5ECF6\",\"showlakes\":true,\"showland\":true,\"subunitcolor\":\"white\"},\"hoverlabel\":{\"align\":\"left\"},\"hovermode\":\"closest\",\"mapbox\":{\"style\":\"light\"},\"paper_bgcolor\":\"white\",\"plot_bgcolor\":\"#E5ECF6\",\"polar\":{\"angularaxis\":{\"gridcolor\":\"white\",\"linecolor\":\"white\",\"ticks\":\"\"},\"bgcolor\":\"#E5ECF6\",\"radialaxis\":{\"gridcolor\":\"white\",\"linecolor\":\"white\",\"ticks\":\"\"}},\"scene\":{\"xaxis\":{\"backgroundcolor\":\"#E5ECF6\",\"gridcolor\":\"white\",\"gridwidth\":2,\"linecolor\":\"white\",\"showbackground\":true,\"ticks\":\"\",\"zerolinecolor\":\"white\"},\"yaxis\":{\"backgroundcolor\":\"#E5ECF6\",\"gridcolor\":\"white\",\"gridwidth\":2,\"linecolor\":\"white\",\"showbackground\":true,\"ticks\":\"\",\"zerolinecolor\":\"white\"},\"zaxis\":{\"backgroundcolor\":\"#E5ECF6\",\"gridcolor\":\"white\",\"gridwidth\":2,\"linecolor\":\"white\",\"showbackground\":true,\"ticks\":\"\",\"zerolinecolor\":\"white\"}},\"shapedefaults\":{\"line\":{\"color\":\"#2a3f5f\"}},\"ternary\":{\"aaxis\":{\"gridcolor\":\"white\",\"linecolor\":\"white\",\"ticks\":\"\"},\"baxis\":{\"gridcolor\":\"white\",\"linecolor\":\"white\",\"ticks\":\"\"},\"bgcolor\":\"#E5ECF6\",\"caxis\":{\"gridcolor\":\"white\",\"linecolor\":\"white\",\"ticks\":\"\"}},\"title\":{\"x\":0.05},\"xaxis\":{\"automargin\":true,\"gridcolor\":\"white\",\"linecolor\":\"white\",\"ticks\":\"\",\"title\":{\"standoff\":15},\"zerolinecolor\":\"white\",\"zerolinewidth\":2},\"yaxis\":{\"automargin\":true,\"gridcolor\":\"white\",\"linecolor\":\"white\",\"ticks\":\"\",\"title\":{\"standoff\":15},\"zerolinecolor\":\"white\",\"zerolinewidth\":2}}},\"xaxis\":{\"anchor\":\"y\",\"domain\":[0.0,1.0],\"title\":{\"text\":\"Returns\"}},\"yaxis\":{\"anchor\":\"x\",\"domain\":[0.0,1.0],\"title\":{\"text\":\"Risk\"}},\"legend\":{\"title\":{\"text\":\"Industry\"},\"tracegroupgap\":0},\"title\":{\"text\":\"Risk vs Returns by Industry\"}},                        {\"responsive\": true}                    ).then(function(){\n",
       "                            \n",
       "var gd = document.getElementById('7f4bb77e-abeb-4580-a8a4-38e7b855eb6e');\n",
       "var x = new MutationObserver(function (mutations, observer) {{\n",
       "        var display = window.getComputedStyle(gd).display;\n",
       "        if (!display || display === 'none') {{\n",
       "            console.log([gd, 'removed!']);\n",
       "            Plotly.purge(gd);\n",
       "            observer.disconnect();\n",
       "        }}\n",
       "}});\n",
       "\n",
       "// Listen for the removal of the full notebook cells\n",
       "var notebookContainer = gd.closest('#notebook-container');\n",
       "if (notebookContainer) {{\n",
       "    x.observe(notebookContainer, {childList: true});\n",
       "}}\n",
       "\n",
       "// Listen for the clearing of the current output cell\n",
       "var outputEl = gd.closest('.output');\n",
       "if (outputEl) {{\n",
       "    x.observe(outputEl, {childList: true});\n",
       "}}\n",
       "\n",
       "                        })                };                });            </script>        </div>"
      ]
     },
     "metadata": {},
     "output_type": "display_data"
    }
   ],
   "source": [
    "fig = px.scatter(industry_returns_risk, x='Returns', y='Risk', color='Industry', title=\"Risk vs Returns by Industry\")\n",
    "fig.show()"
   ]
  },
  {
   "cell_type": "code",
   "execution_count": 869,
   "id": "d9d1b3c7",
   "metadata": {},
   "outputs": [],
   "source": [
    "# industry_risk = dict(sorted(industry_risk.items(), key=lambda item: item[1], reverse=True))\n",
    "# industry_risk"
   ]
  },
  {
   "cell_type": "code",
   "execution_count": 870,
   "id": "6a351503",
   "metadata": {},
   "outputs": [],
   "source": [
    "# fig = px.scatter(ipo_df, x='1st Day %change', y='risk', color='manager')\n",
    "# fig.show()"
   ]
  },
  {
   "cell_type": "markdown",
   "id": "c26a4c55",
   "metadata": {},
   "source": [
    "**Analysis by Manager**"
   ]
  },
  {
   "cell_type": "code",
   "execution_count": 871,
   "id": "c892d8b4",
   "metadata": {},
   "outputs": [],
   "source": [
    "manager_returns_mu = {}\n",
    "manager_returns_sigma = {}\n",
    "for manager in multiple_ipo_managers:\n",
    "    filtered_df = ipo_df[ipo_df['Lead/Joint Lead Managers'].map(set([manager]).issubset)]\n",
    "    returns_mu = statistics.mean(filtered_df['1st Day %change'])\n",
    "    manager_returns_mu[manager] = returns_mu\n",
    "    returns_sigma = statistics.stdev(filtered_df['1st Day %change'])\n",
    "    manager_returns_sigma[manager] = returns_sigma"
   ]
  },
  {
   "cell_type": "code",
   "execution_count": 872,
   "id": "3ed33af0",
   "metadata": {},
   "outputs": [
    {
     "name": "stdout",
     "output_type": "stream",
     "text": [
      "Ranking managers by the avg return of their IPOs:\n"
     ]
    },
    {
     "data": {
      "text/plain": [
       "{'Robertson Stephens': 47.63928571428571,\n",
       " 'ViewTrade Securities': 45.38,\n",
       " 'KeyBanc Capital Market': 43.60666666666667,\n",
       " 'Allen & Company': 42.4148,\n",
       " 'Guggenheim Securities': 37.75,\n",
       " 'Chase H&Q': 30.08888888888889,\n",
       " 'DeutscheBanc Alex. Brown': 21.7175,\n",
       " 'Goldman Sachs Japan': 20.96412017167382,\n",
       " 'Mizuho Securities': 19.865833333333335,\n",
       " 'Banc of America': 19.54991379310345,\n",
       " 'Wm Blair': 19.243492063492063,\n",
       " 'Thomas Weisel': 19.173928571428572,\n",
       " 'SG Cowen': 19.012857142857143,\n",
       " 'Morgan Stanlet Dean Witter': 18.41868148148148,\n",
       " 'Salomon Smith Barney': 17.64302564102564,\n",
       " 'UBS Securitie': 17.521176470588234,\n",
       " 'Leerink Partners': 17.503425925925924,\n",
       " 'Piper Sandler': 17.317,\n",
       " 'Jefferirs': 17.05672932330827,\n",
       " 'UBS Warburg': 16.792380952380952,\n",
       " 'Evercore ISI': 16.362121212121213,\n",
       " 'J.P.Morgan': 16.184458015267175,\n",
       " 'Credit Suisse First Boston': 15.98080895008606,\n",
       " 'Donaldson, Lufkin & Jenrette': 15.940000000000001,\n",
       " 'Cohen & Company Capital Markets, LLC': 15.397533333333334,\n",
       " 'SunTrust Robinson Humphrey': 14.83,\n",
       " 'BofA Merrill Lynch': 14.768057742782153,\n",
       " 'ThinkEquity': 14.635,\n",
       " 'RBC Capital Markets': 14.4375,\n",
       " 'Baird': 14.016,\n",
       " 'Barclay Capital': 13.804440298507462,\n",
       " 'Stifel': 13.705135135135135,\n",
       " 'China Renaissance Securities': 13.677272727272728,\n",
       " 'BofAMerrill Lynch': 13.624279069767441,\n",
       " 'US Bancorp Piper Jaffray': 13.414444444444445,\n",
       " 'Wachovia': 12.685,\n",
       " 'CIBC World Markets': 12.66529411764706,\n",
       " 'KKR': 12.339,\n",
       " 'CICc': 12.272380952380953,\n",
       " 'Lehamn Brothers': 11.869005847953217,\n",
       " 'Itaú BBA': 11.313636363636363,\n",
       " 'CF First Boston': 10.816428571428572,\n",
       " 'Bear, Stearns': 10.805,\n",
       " 'BMO Capital Market': 10.414736842105263,\n",
       " 'National Securities Corporation': 9.718,\n",
       " 'Wells Fargo Securities': 9.270821917808219,\n",
       " 'Roth Capital Partners\\u200b': 9.270285714285714,\n",
       " 'Dutsche Bank': 9.266350442477876,\n",
       " 'Pacific Crest Securities': 9.22888888888889,\n",
       " 'Citigroup Capital Markets': 8.74286252354049,\n",
       " 'Needham & Company': 8.590833333333334,\n",
       " 'Raymond James': 8.397424242424242,\n",
       " 'Canaccord Genuity': 8.286,\n",
       " 'A.G. Edwrads & Sons': 7.339411764705883,\n",
       " 'Stephens': 7.270416666666667,\n",
       " 'Lazard': 6.944347826086957,\n",
       " 'Stifel Nicolaus Weisel': 6.862631578947369,\n",
       " 'Macquarie Capital': 6.003636363636364,\n",
       " 'Nomura': 5.97625,\n",
       " 'Keefe, Bruyette & Woods, Inc.': 5.555483870967742,\n",
       " 'Friedman Billings Ramsey': 5.484791666666666,\n",
       " 'ING': 5.013388429752066,\n",
       " 'Sandler ONeill & Partners': 4.972941176470588,\n",
       " 'FBR Capital Markets': 4.516,\n",
       " 'Feltl & Company': 2.7845454545454547,\n",
       " 'Oppenheimer & Co': 2.62969696969697,\n",
       " 'JMP Securities': 2.358181818181818,\n",
       " 'Ferris, Baker, Watts': 1.97,\n",
       " 'Joseph Gunnar & Co': 1.6366666666666667,\n",
       " 'BB&T Capital Markets': 1.53,\n",
       " 'Morgan Joseph': 1.395,\n",
       " 'I-Bankers': 1.287777777777778,\n",
       " 'Chardan Capital Markets': 0.5173333333333333,\n",
       " 'WR Hambrecht+Co': 0.5090476190476192,\n",
       " 'Ladenberg Thalmann': 0.2510714285714286,\n",
       " 'EarlyBirdCapital, Inc': 0.23666666666666666,\n",
       " 'B. Riley & Co': 0.145,\n",
       " 'Cantor Fitzgerald & Co': -0.16999999999999998,\n",
       " 'BTIG': -0.19699999999999995,\n",
       " 'Paulson Investment': -0.46222222222222215,\n",
       " 'Rodman & Renshaw': -0.5878571428571429,\n",
       " 'Maxim Group LLC': -0.6821276595744681,\n",
       " 'I-Bankers Securities': -0.855,\n",
       " 'Wunderlich Securities': -1.017,\n",
       " 'Aegis Capital Corp': -1.563}"
      ]
     },
     "execution_count": 872,
     "metadata": {},
     "output_type": "execute_result"
    }
   ],
   "source": [
    "manager_returns_mu = dict(sorted(manager_returns_mu.items(), key=lambda item: item[1], reverse=True))\n",
    "print('Ranking managers by the avg return of their IPOs:')\n",
    "manager_returns_mu"
   ]
  },
  {
   "cell_type": "code",
   "execution_count": 873,
   "id": "df7e04c2",
   "metadata": {},
   "outputs": [
    {
     "name": "stdout",
     "output_type": "stream",
     "text": [
      "Ranking managers by the std deviation of the risk (loss) of their IPOs:\n"
     ]
    },
    {
     "data": {
      "text/plain": [
       "{'KeyBanc Capital Market': 66.99812488491926,\n",
       " 'Chase H&Q': 61.89394210487037,\n",
       " 'Mizuho Securities': 49.97103678556452,\n",
       " 'Robertson Stephens': 47.83925978078702,\n",
       " 'SunTrust Robinson Humphrey': 40.02104804920183,\n",
       " 'Banc of America': 38.19309353673184,\n",
       " 'Goldman Sachs Japan': 37.156774049760635,\n",
       " 'ViewTrade Securities': 37.10838488228003,\n",
       " 'Evercore ISI': 35.458623841526176,\n",
       " 'Allen & Company': 35.08990502029513,\n",
       " 'Stifel': 34.27885295004093,\n",
       " 'Jefferirs': 33.94930433913725,\n",
       " 'Leerink Partners': 33.77462073673588,\n",
       " 'Credit Suisse First Boston': 33.453908686630875,\n",
       " 'Salomon Smith Barney': 32.31255680926467,\n",
       " 'Guggenheim Securities': 32.105069915602336,\n",
       " 'Cohen & Company Capital Markets, LLC': 30.891754116563376,\n",
       " 'UBS Securitie': 29.596254594617406,\n",
       " 'Morgan Stanlet Dean Witter': 29.413220395182947,\n",
       " 'SG Cowen': 29.07809750477762,\n",
       " 'Barclay Capital': 27.97089672732186,\n",
       " 'BofA Merrill Lynch': 27.31346047390947,\n",
       " 'J.P.Morgan': 26.715183034382218,\n",
       " 'RBC Capital Markets': 26.54494849587874,\n",
       " 'China Renaissance Securities': 26.470931260879016,\n",
       " 'Donaldson, Lufkin & Jenrette': 26.107462534685364,\n",
       " 'Piper Sandler': 25.649890949177504,\n",
       " 'Baird': 25.29353963510697,\n",
       " 'UBS Warburg': 24.553154971359973,\n",
       " 'BofAMerrill Lynch': 22.292141952243,\n",
       " 'CIBC World Markets': 22.27129300995153,\n",
       " 'Thomas Weisel': 22.156199590430784,\n",
       " 'BMO Capital Market': 22.11329153691262,\n",
       " 'ThinkEquity': 21.761496648062522,\n",
       " 'Wells Fargo Securities': 21.683880251653946,\n",
       " 'Lehamn Brothers': 20.854015882261447,\n",
       " 'DeutscheBanc Alex. Brown': 20.094657498947328,\n",
       " 'Raymond James': 19.984264680039264,\n",
       " 'Citigroup Capital Markets': 19.81719046253112,\n",
       " 'KKR': 19.726785766228282,\n",
       " 'Dutsche Bank': 19.58763831655656,\n",
       " 'Wm Blair': 19.286437417365818,\n",
       " 'Needham & Company': 19.1471409963298,\n",
       " 'Roth Capital Partners\\u200b': 18.923201054558938,\n",
       " 'Bear, Stearns': 17.913491300922757,\n",
       " 'CICc': 17.665391562250157,\n",
       " 'ING': 17.462914158950245,\n",
       " 'Canaccord Genuity': 17.215160760213656,\n",
       " 'Wachovia': 16.787068237187814,\n",
       " 'CF First Boston': 16.303807374985603,\n",
       " 'National Securities Corporation': 16.032631862686937,\n",
       " 'Macquarie Capital': 15.854137171557003,\n",
       " 'Itaú BBA': 15.279754757670212,\n",
       " 'Joseph Gunnar & Co': 14.6038031576253,\n",
       " 'Pacific Crest Securities': 14.371559974863937,\n",
       " 'Lazard': 14.29697260582462,\n",
       " 'US Bancorp Piper Jaffray': 13.488229230620963,\n",
       " 'FBR Capital Markets': 13.432228486191827,\n",
       " 'Oppenheimer & Co': 12.258721253878932,\n",
       " 'Stifel Nicolaus Weisel': 11.677546280554957,\n",
       " 'JMP Securities': 10.592628899993949,\n",
       " 'A.G. Edwrads & Sons': 10.528032502911119,\n",
       " 'Nomura': 10.066691806575356,\n",
       " 'Friedman Billings Ramsey': 10.01242738217528,\n",
       " 'Feltl & Company': 9.27346468547367,\n",
       " 'Stephens': 8.939394726697671,\n",
       " 'Maxim Group LLC': 8.824507853297767,\n",
       " 'Keefe, Bruyette & Woods, Inc.': 8.778257169983034,\n",
       " 'Aegis Capital Corp': 7.967733680288267,\n",
       " 'WR Hambrecht+Co': 7.721685635120032,\n",
       " 'Paulson Investment': 7.404673824311537,\n",
       " 'Rodman & Renshaw': 7.3806411839158175,\n",
       " 'Sandler ONeill & Partners': 7.026391603528222,\n",
       " 'Wunderlich Securities': 5.753466684433732,\n",
       " 'Ladenberg Thalmann': 5.622556647466369,\n",
       " 'Chardan Capital Markets': 3.851292602833973,\n",
       " 'Cantor Fitzgerald & Co': 3.7682793701853776,\n",
       " 'Ferris, Baker, Watts': 3.564657321283747,\n",
       " 'BB&T Capital Markets': 3.3140006035002467,\n",
       " 'I-Bankers': 3.2500260682715214,\n",
       " 'I-Bankers Securities': 2.7874729694753198,\n",
       " 'EarlyBirdCapital, Inc': 2.5963564213463965,\n",
       " 'BTIG': 1.9345056790359192,\n",
       " 'Morgan Joseph': 1.785243214056094,\n",
       " 'B. Riley & Co': 0.21915240764768654}"
      ]
     },
     "execution_count": 873,
     "metadata": {},
     "output_type": "execute_result"
    }
   ],
   "source": [
    "manager_returns_sigma = dict(sorted(manager_returns_sigma.items(), key=lambda item: item[1], reverse=True))\n",
    "print(\"Ranking managers by the std deviation of the risk (loss) of their IPOs:\")\n",
    "manager_returns_sigma"
   ]
  },
  {
   "cell_type": "code",
   "execution_count": 874,
   "id": "85e1c434",
   "metadata": {},
   "outputs": [],
   "source": [
    "df = pd.DataFrame({'manager':multiple_ipo_managers, 'returns':0, 'risk':0})\n",
    "df['returns'] = df.apply(lambda x:manager_returns_mu[x['manager']], axis=1)\n",
    "df['risk'] = df.apply(lambda x:manager_returns_sigma[x['manager']], axis=1)"
   ]
  },
  {
   "cell_type": "code",
   "execution_count": 875,
   "id": "4f0650e4",
   "metadata": {},
   "outputs": [
    {
     "name": "stdout",
     "output_type": "stream",
     "text": [
      "Requirement already satisfied: plotly in /home/ec2-user/anaconda3/envs/python3/lib/python3.6/site-packages (5.4.0)\n",
      "Requirement already satisfied: tenacity>=6.2.0 in /home/ec2-user/anaconda3/envs/python3/lib/python3.6/site-packages (from plotly) (8.0.1)\n",
      "Requirement already satisfied: six in /home/ec2-user/anaconda3/envs/python3/lib/python3.6/site-packages (from plotly) (1.15.0)\n"
     ]
    }
   ],
   "source": [
    "!pip install plotly"
   ]
  },
  {
   "cell_type": "code",
   "execution_count": 876,
   "id": "4d2aafb4",
   "metadata": {},
   "outputs": [
    {
     "data": {
      "application/vnd.plotly.v1+json": {
       "config": {
        "plotlyServerURL": "https://plot.ly"
       },
       "data": [
        {
         "hovertemplate": "manager=A.G. Edwrads & Sons<br>returns=%{x}<br>risk=%{y}<extra></extra>",
         "legendgroup": "A.G. Edwrads & Sons",
         "marker": {
          "color": "#636efa",
          "symbol": "circle"
         },
         "mode": "markers",
         "name": "A.G. Edwrads & Sons",
         "orientation": "v",
         "showlegend": true,
         "type": "scatter",
         "x": [
          7.339411764705883
         ],
         "xaxis": "x",
         "y": [
          10.528032502911119
         ],
         "yaxis": "y"
        },
        {
         "hovertemplate": "manager=Aegis Capital Corp<br>returns=%{x}<br>risk=%{y}<extra></extra>",
         "legendgroup": "Aegis Capital Corp",
         "marker": {
          "color": "#EF553B",
          "symbol": "circle"
         },
         "mode": "markers",
         "name": "Aegis Capital Corp",
         "orientation": "v",
         "showlegend": true,
         "type": "scatter",
         "x": [
          -1.563
         ],
         "xaxis": "x",
         "y": [
          7.967733680288267
         ],
         "yaxis": "y"
        },
        {
         "hovertemplate": "manager=Allen & Company<br>returns=%{x}<br>risk=%{y}<extra></extra>",
         "legendgroup": "Allen & Company",
         "marker": {
          "color": "#00cc96",
          "symbol": "circle"
         },
         "mode": "markers",
         "name": "Allen & Company",
         "orientation": "v",
         "showlegend": true,
         "type": "scatter",
         "x": [
          42.4148
         ],
         "xaxis": "x",
         "y": [
          35.08990502029513
         ],
         "yaxis": "y"
        },
        {
         "hovertemplate": "manager=B. Riley & Co<br>returns=%{x}<br>risk=%{y}<extra></extra>",
         "legendgroup": "B. Riley & Co",
         "marker": {
          "color": "#ab63fa",
          "symbol": "circle"
         },
         "mode": "markers",
         "name": "B. Riley & Co",
         "orientation": "v",
         "showlegend": true,
         "type": "scatter",
         "x": [
          0.145
         ],
         "xaxis": "x",
         "y": [
          0.21915240764768654
         ],
         "yaxis": "y"
        },
        {
         "hovertemplate": "manager=BB&T Capital Markets<br>returns=%{x}<br>risk=%{y}<extra></extra>",
         "legendgroup": "BB&T Capital Markets",
         "marker": {
          "color": "#FFA15A",
          "symbol": "circle"
         },
         "mode": "markers",
         "name": "BB&T Capital Markets",
         "orientation": "v",
         "showlegend": true,
         "type": "scatter",
         "x": [
          1.53
         ],
         "xaxis": "x",
         "y": [
          3.3140006035002467
         ],
         "yaxis": "y"
        },
        {
         "hovertemplate": "manager=BMO Capital Market<br>returns=%{x}<br>risk=%{y}<extra></extra>",
         "legendgroup": "BMO Capital Market",
         "marker": {
          "color": "#19d3f3",
          "symbol": "circle"
         },
         "mode": "markers",
         "name": "BMO Capital Market",
         "orientation": "v",
         "showlegend": true,
         "type": "scatter",
         "x": [
          10.414736842105263
         ],
         "xaxis": "x",
         "y": [
          22.11329153691262
         ],
         "yaxis": "y"
        },
        {
         "hovertemplate": "manager=BTIG<br>returns=%{x}<br>risk=%{y}<extra></extra>",
         "legendgroup": "BTIG",
         "marker": {
          "color": "#FF6692",
          "symbol": "circle"
         },
         "mode": "markers",
         "name": "BTIG",
         "orientation": "v",
         "showlegend": true,
         "type": "scatter",
         "x": [
          -0.19699999999999995
         ],
         "xaxis": "x",
         "y": [
          1.9345056790359192
         ],
         "yaxis": "y"
        },
        {
         "hovertemplate": "manager=Baird<br>returns=%{x}<br>risk=%{y}<extra></extra>",
         "legendgroup": "Baird",
         "marker": {
          "color": "#B6E880",
          "symbol": "circle"
         },
         "mode": "markers",
         "name": "Baird",
         "orientation": "v",
         "showlegend": true,
         "type": "scatter",
         "x": [
          14.016
         ],
         "xaxis": "x",
         "y": [
          25.29353963510697
         ],
         "yaxis": "y"
        },
        {
         "hovertemplate": "manager=Banc of America<br>returns=%{x}<br>risk=%{y}<extra></extra>",
         "legendgroup": "Banc of America",
         "marker": {
          "color": "#FF97FF",
          "symbol": "circle"
         },
         "mode": "markers",
         "name": "Banc of America",
         "orientation": "v",
         "showlegend": true,
         "type": "scatter",
         "x": [
          19.54991379310345
         ],
         "xaxis": "x",
         "y": [
          38.19309353673184
         ],
         "yaxis": "y"
        },
        {
         "hovertemplate": "manager=Barclay Capital<br>returns=%{x}<br>risk=%{y}<extra></extra>",
         "legendgroup": "Barclay Capital",
         "marker": {
          "color": "#FECB52",
          "symbol": "circle"
         },
         "mode": "markers",
         "name": "Barclay Capital",
         "orientation": "v",
         "showlegend": true,
         "type": "scatter",
         "x": [
          13.804440298507462
         ],
         "xaxis": "x",
         "y": [
          27.97089672732186
         ],
         "yaxis": "y"
        },
        {
         "hovertemplate": "manager=Bear, Stearns<br>returns=%{x}<br>risk=%{y}<extra></extra>",
         "legendgroup": "Bear, Stearns",
         "marker": {
          "color": "#636efa",
          "symbol": "circle"
         },
         "mode": "markers",
         "name": "Bear, Stearns",
         "orientation": "v",
         "showlegend": true,
         "type": "scatter",
         "x": [
          10.805
         ],
         "xaxis": "x",
         "y": [
          17.913491300922757
         ],
         "yaxis": "y"
        },
        {
         "hovertemplate": "manager=BofA Merrill Lynch<br>returns=%{x}<br>risk=%{y}<extra></extra>",
         "legendgroup": "BofA Merrill Lynch",
         "marker": {
          "color": "#EF553B",
          "symbol": "circle"
         },
         "mode": "markers",
         "name": "BofA Merrill Lynch",
         "orientation": "v",
         "showlegend": true,
         "type": "scatter",
         "x": [
          14.768057742782153
         ],
         "xaxis": "x",
         "y": [
          27.31346047390947
         ],
         "yaxis": "y"
        },
        {
         "hovertemplate": "manager=BofAMerrill Lynch<br>returns=%{x}<br>risk=%{y}<extra></extra>",
         "legendgroup": "BofAMerrill Lynch",
         "marker": {
          "color": "#00cc96",
          "symbol": "circle"
         },
         "mode": "markers",
         "name": "BofAMerrill Lynch",
         "orientation": "v",
         "showlegend": true,
         "type": "scatter",
         "x": [
          13.624279069767441
         ],
         "xaxis": "x",
         "y": [
          22.292141952243
         ],
         "yaxis": "y"
        },
        {
         "hovertemplate": "manager=CF First Boston<br>returns=%{x}<br>risk=%{y}<extra></extra>",
         "legendgroup": "CF First Boston",
         "marker": {
          "color": "#ab63fa",
          "symbol": "circle"
         },
         "mode": "markers",
         "name": "CF First Boston",
         "orientation": "v",
         "showlegend": true,
         "type": "scatter",
         "x": [
          10.816428571428572
         ],
         "xaxis": "x",
         "y": [
          16.303807374985603
         ],
         "yaxis": "y"
        },
        {
         "hovertemplate": "manager=CIBC World Markets<br>returns=%{x}<br>risk=%{y}<extra></extra>",
         "legendgroup": "CIBC World Markets",
         "marker": {
          "color": "#FFA15A",
          "symbol": "circle"
         },
         "mode": "markers",
         "name": "CIBC World Markets",
         "orientation": "v",
         "showlegend": true,
         "type": "scatter",
         "x": [
          12.66529411764706
         ],
         "xaxis": "x",
         "y": [
          22.27129300995153
         ],
         "yaxis": "y"
        },
        {
         "hovertemplate": "manager=CICc<br>returns=%{x}<br>risk=%{y}<extra></extra>",
         "legendgroup": "CICc",
         "marker": {
          "color": "#19d3f3",
          "symbol": "circle"
         },
         "mode": "markers",
         "name": "CICc",
         "orientation": "v",
         "showlegend": true,
         "type": "scatter",
         "x": [
          12.272380952380953
         ],
         "xaxis": "x",
         "y": [
          17.665391562250157
         ],
         "yaxis": "y"
        },
        {
         "hovertemplate": "manager=Canaccord Genuity<br>returns=%{x}<br>risk=%{y}<extra></extra>",
         "legendgroup": "Canaccord Genuity",
         "marker": {
          "color": "#FF6692",
          "symbol": "circle"
         },
         "mode": "markers",
         "name": "Canaccord Genuity",
         "orientation": "v",
         "showlegend": true,
         "type": "scatter",
         "x": [
          8.286
         ],
         "xaxis": "x",
         "y": [
          17.215160760213656
         ],
         "yaxis": "y"
        },
        {
         "hovertemplate": "manager=Cantor Fitzgerald & Co<br>returns=%{x}<br>risk=%{y}<extra></extra>",
         "legendgroup": "Cantor Fitzgerald & Co",
         "marker": {
          "color": "#B6E880",
          "symbol": "circle"
         },
         "mode": "markers",
         "name": "Cantor Fitzgerald & Co",
         "orientation": "v",
         "showlegend": true,
         "type": "scatter",
         "x": [
          -0.16999999999999998
         ],
         "xaxis": "x",
         "y": [
          3.7682793701853776
         ],
         "yaxis": "y"
        },
        {
         "hovertemplate": "manager=Chardan Capital Markets<br>returns=%{x}<br>risk=%{y}<extra></extra>",
         "legendgroup": "Chardan Capital Markets",
         "marker": {
          "color": "#FF97FF",
          "symbol": "circle"
         },
         "mode": "markers",
         "name": "Chardan Capital Markets",
         "orientation": "v",
         "showlegend": true,
         "type": "scatter",
         "x": [
          0.5173333333333333
         ],
         "xaxis": "x",
         "y": [
          3.851292602833973
         ],
         "yaxis": "y"
        },
        {
         "hovertemplate": "manager=Chase H&Q<br>returns=%{x}<br>risk=%{y}<extra></extra>",
         "legendgroup": "Chase H&Q",
         "marker": {
          "color": "#FECB52",
          "symbol": "circle"
         },
         "mode": "markers",
         "name": "Chase H&Q",
         "orientation": "v",
         "showlegend": true,
         "type": "scatter",
         "x": [
          30.08888888888889
         ],
         "xaxis": "x",
         "y": [
          61.89394210487037
         ],
         "yaxis": "y"
        },
        {
         "hovertemplate": "manager=China Renaissance Securities<br>returns=%{x}<br>risk=%{y}<extra></extra>",
         "legendgroup": "China Renaissance Securities",
         "marker": {
          "color": "#636efa",
          "symbol": "circle"
         },
         "mode": "markers",
         "name": "China Renaissance Securities",
         "orientation": "v",
         "showlegend": true,
         "type": "scatter",
         "x": [
          13.677272727272728
         ],
         "xaxis": "x",
         "y": [
          26.470931260879016
         ],
         "yaxis": "y"
        },
        {
         "hovertemplate": "manager=Citigroup Capital Markets<br>returns=%{x}<br>risk=%{y}<extra></extra>",
         "legendgroup": "Citigroup Capital Markets",
         "marker": {
          "color": "#EF553B",
          "symbol": "circle"
         },
         "mode": "markers",
         "name": "Citigroup Capital Markets",
         "orientation": "v",
         "showlegend": true,
         "type": "scatter",
         "x": [
          8.74286252354049
         ],
         "xaxis": "x",
         "y": [
          19.81719046253112
         ],
         "yaxis": "y"
        },
        {
         "hovertemplate": "manager=Cohen & Company Capital Markets, LLC<br>returns=%{x}<br>risk=%{y}<extra></extra>",
         "legendgroup": "Cohen & Company Capital Markets, LLC",
         "marker": {
          "color": "#00cc96",
          "symbol": "circle"
         },
         "mode": "markers",
         "name": "Cohen & Company Capital Markets, LLC",
         "orientation": "v",
         "showlegend": true,
         "type": "scatter",
         "x": [
          15.397533333333334
         ],
         "xaxis": "x",
         "y": [
          30.891754116563376
         ],
         "yaxis": "y"
        },
        {
         "hovertemplate": "manager=Credit Suisse First Boston<br>returns=%{x}<br>risk=%{y}<extra></extra>",
         "legendgroup": "Credit Suisse First Boston",
         "marker": {
          "color": "#ab63fa",
          "symbol": "circle"
         },
         "mode": "markers",
         "name": "Credit Suisse First Boston",
         "orientation": "v",
         "showlegend": true,
         "type": "scatter",
         "x": [
          15.98080895008606
         ],
         "xaxis": "x",
         "y": [
          33.453908686630875
         ],
         "yaxis": "y"
        },
        {
         "hovertemplate": "manager=DeutscheBanc Alex. Brown<br>returns=%{x}<br>risk=%{y}<extra></extra>",
         "legendgroup": "DeutscheBanc Alex. Brown",
         "marker": {
          "color": "#FFA15A",
          "symbol": "circle"
         },
         "mode": "markers",
         "name": "DeutscheBanc Alex. Brown",
         "orientation": "v",
         "showlegend": true,
         "type": "scatter",
         "x": [
          21.7175
         ],
         "xaxis": "x",
         "y": [
          20.094657498947328
         ],
         "yaxis": "y"
        },
        {
         "hovertemplate": "manager=Donaldson, Lufkin & Jenrette<br>returns=%{x}<br>risk=%{y}<extra></extra>",
         "legendgroup": "Donaldson, Lufkin & Jenrette",
         "marker": {
          "color": "#19d3f3",
          "symbol": "circle"
         },
         "mode": "markers",
         "name": "Donaldson, Lufkin & Jenrette",
         "orientation": "v",
         "showlegend": true,
         "type": "scatter",
         "x": [
          15.940000000000001
         ],
         "xaxis": "x",
         "y": [
          26.107462534685364
         ],
         "yaxis": "y"
        },
        {
         "hovertemplate": "manager=Dutsche Bank<br>returns=%{x}<br>risk=%{y}<extra></extra>",
         "legendgroup": "Dutsche Bank",
         "marker": {
          "color": "#FF6692",
          "symbol": "circle"
         },
         "mode": "markers",
         "name": "Dutsche Bank",
         "orientation": "v",
         "showlegend": true,
         "type": "scatter",
         "x": [
          9.266350442477876
         ],
         "xaxis": "x",
         "y": [
          19.58763831655656
         ],
         "yaxis": "y"
        },
        {
         "hovertemplate": "manager=EarlyBirdCapital, Inc<br>returns=%{x}<br>risk=%{y}<extra></extra>",
         "legendgroup": "EarlyBirdCapital, Inc",
         "marker": {
          "color": "#B6E880",
          "symbol": "circle"
         },
         "mode": "markers",
         "name": "EarlyBirdCapital, Inc",
         "orientation": "v",
         "showlegend": true,
         "type": "scatter",
         "x": [
          0.23666666666666666
         ],
         "xaxis": "x",
         "y": [
          2.5963564213463965
         ],
         "yaxis": "y"
        },
        {
         "hovertemplate": "manager=Evercore ISI<br>returns=%{x}<br>risk=%{y}<extra></extra>",
         "legendgroup": "Evercore ISI",
         "marker": {
          "color": "#FF97FF",
          "symbol": "circle"
         },
         "mode": "markers",
         "name": "Evercore ISI",
         "orientation": "v",
         "showlegend": true,
         "type": "scatter",
         "x": [
          16.362121212121213
         ],
         "xaxis": "x",
         "y": [
          35.458623841526176
         ],
         "yaxis": "y"
        },
        {
         "hovertemplate": "manager=FBR Capital Markets<br>returns=%{x}<br>risk=%{y}<extra></extra>",
         "legendgroup": "FBR Capital Markets",
         "marker": {
          "color": "#FECB52",
          "symbol": "circle"
         },
         "mode": "markers",
         "name": "FBR Capital Markets",
         "orientation": "v",
         "showlegend": true,
         "type": "scatter",
         "x": [
          4.516
         ],
         "xaxis": "x",
         "y": [
          13.432228486191827
         ],
         "yaxis": "y"
        },
        {
         "hovertemplate": "manager=Feltl & Company<br>returns=%{x}<br>risk=%{y}<extra></extra>",
         "legendgroup": "Feltl & Company",
         "marker": {
          "color": "#636efa",
          "symbol": "circle"
         },
         "mode": "markers",
         "name": "Feltl & Company",
         "orientation": "v",
         "showlegend": true,
         "type": "scatter",
         "x": [
          2.7845454545454547
         ],
         "xaxis": "x",
         "y": [
          9.27346468547367
         ],
         "yaxis": "y"
        },
        {
         "hovertemplate": "manager=Ferris, Baker, Watts<br>returns=%{x}<br>risk=%{y}<extra></extra>",
         "legendgroup": "Ferris, Baker, Watts",
         "marker": {
          "color": "#EF553B",
          "symbol": "circle"
         },
         "mode": "markers",
         "name": "Ferris, Baker, Watts",
         "orientation": "v",
         "showlegend": true,
         "type": "scatter",
         "x": [
          1.97
         ],
         "xaxis": "x",
         "y": [
          3.564657321283747
         ],
         "yaxis": "y"
        },
        {
         "hovertemplate": "manager=Friedman Billings Ramsey<br>returns=%{x}<br>risk=%{y}<extra></extra>",
         "legendgroup": "Friedman Billings Ramsey",
         "marker": {
          "color": "#00cc96",
          "symbol": "circle"
         },
         "mode": "markers",
         "name": "Friedman Billings Ramsey",
         "orientation": "v",
         "showlegend": true,
         "type": "scatter",
         "x": [
          5.484791666666666
         ],
         "xaxis": "x",
         "y": [
          10.01242738217528
         ],
         "yaxis": "y"
        },
        {
         "hovertemplate": "manager=Goldman Sachs Japan<br>returns=%{x}<br>risk=%{y}<extra></extra>",
         "legendgroup": "Goldman Sachs Japan",
         "marker": {
          "color": "#ab63fa",
          "symbol": "circle"
         },
         "mode": "markers",
         "name": "Goldman Sachs Japan",
         "orientation": "v",
         "showlegend": true,
         "type": "scatter",
         "x": [
          20.96412017167382
         ],
         "xaxis": "x",
         "y": [
          37.156774049760635
         ],
         "yaxis": "y"
        },
        {
         "hovertemplate": "manager=Guggenheim Securities<br>returns=%{x}<br>risk=%{y}<extra></extra>",
         "legendgroup": "Guggenheim Securities",
         "marker": {
          "color": "#FFA15A",
          "symbol": "circle"
         },
         "mode": "markers",
         "name": "Guggenheim Securities",
         "orientation": "v",
         "showlegend": true,
         "type": "scatter",
         "x": [
          37.75
         ],
         "xaxis": "x",
         "y": [
          32.105069915602336
         ],
         "yaxis": "y"
        },
        {
         "hovertemplate": "manager=I-Bankers<br>returns=%{x}<br>risk=%{y}<extra></extra>",
         "legendgroup": "I-Bankers",
         "marker": {
          "color": "#19d3f3",
          "symbol": "circle"
         },
         "mode": "markers",
         "name": "I-Bankers",
         "orientation": "v",
         "showlegend": true,
         "type": "scatter",
         "x": [
          1.287777777777778
         ],
         "xaxis": "x",
         "y": [
          3.2500260682715214
         ],
         "yaxis": "y"
        },
        {
         "hovertemplate": "manager=I-Bankers Securities<br>returns=%{x}<br>risk=%{y}<extra></extra>",
         "legendgroup": "I-Bankers Securities",
         "marker": {
          "color": "#FF6692",
          "symbol": "circle"
         },
         "mode": "markers",
         "name": "I-Bankers Securities",
         "orientation": "v",
         "showlegend": true,
         "type": "scatter",
         "x": [
          -0.855
         ],
         "xaxis": "x",
         "y": [
          2.7874729694753198
         ],
         "yaxis": "y"
        },
        {
         "hovertemplate": "manager=ING<br>returns=%{x}<br>risk=%{y}<extra></extra>",
         "legendgroup": "ING",
         "marker": {
          "color": "#B6E880",
          "symbol": "circle"
         },
         "mode": "markers",
         "name": "ING",
         "orientation": "v",
         "showlegend": true,
         "type": "scatter",
         "x": [
          5.013388429752066
         ],
         "xaxis": "x",
         "y": [
          17.462914158950245
         ],
         "yaxis": "y"
        },
        {
         "hovertemplate": "manager=Itaú BBA<br>returns=%{x}<br>risk=%{y}<extra></extra>",
         "legendgroup": "Itaú BBA",
         "marker": {
          "color": "#FF97FF",
          "symbol": "circle"
         },
         "mode": "markers",
         "name": "Itaú BBA",
         "orientation": "v",
         "showlegend": true,
         "type": "scatter",
         "x": [
          11.313636363636363
         ],
         "xaxis": "x",
         "y": [
          15.279754757670212
         ],
         "yaxis": "y"
        },
        {
         "hovertemplate": "manager=J.P.Morgan<br>returns=%{x}<br>risk=%{y}<extra></extra>",
         "legendgroup": "J.P.Morgan",
         "marker": {
          "color": "#FECB52",
          "symbol": "circle"
         },
         "mode": "markers",
         "name": "J.P.Morgan",
         "orientation": "v",
         "showlegend": true,
         "type": "scatter",
         "x": [
          16.184458015267175
         ],
         "xaxis": "x",
         "y": [
          26.715183034382218
         ],
         "yaxis": "y"
        },
        {
         "hovertemplate": "manager=JMP Securities<br>returns=%{x}<br>risk=%{y}<extra></extra>",
         "legendgroup": "JMP Securities",
         "marker": {
          "color": "#636efa",
          "symbol": "circle"
         },
         "mode": "markers",
         "name": "JMP Securities",
         "orientation": "v",
         "showlegend": true,
         "type": "scatter",
         "x": [
          2.358181818181818
         ],
         "xaxis": "x",
         "y": [
          10.592628899993949
         ],
         "yaxis": "y"
        },
        {
         "hovertemplate": "manager=Jefferirs<br>returns=%{x}<br>risk=%{y}<extra></extra>",
         "legendgroup": "Jefferirs",
         "marker": {
          "color": "#EF553B",
          "symbol": "circle"
         },
         "mode": "markers",
         "name": "Jefferirs",
         "orientation": "v",
         "showlegend": true,
         "type": "scatter",
         "x": [
          17.05672932330827
         ],
         "xaxis": "x",
         "y": [
          33.94930433913725
         ],
         "yaxis": "y"
        },
        {
         "hovertemplate": "manager=Joseph Gunnar & Co<br>returns=%{x}<br>risk=%{y}<extra></extra>",
         "legendgroup": "Joseph Gunnar & Co",
         "marker": {
          "color": "#00cc96",
          "symbol": "circle"
         },
         "mode": "markers",
         "name": "Joseph Gunnar & Co",
         "orientation": "v",
         "showlegend": true,
         "type": "scatter",
         "x": [
          1.6366666666666667
         ],
         "xaxis": "x",
         "y": [
          14.6038031576253
         ],
         "yaxis": "y"
        },
        {
         "hovertemplate": "manager=KKR<br>returns=%{x}<br>risk=%{y}<extra></extra>",
         "legendgroup": "KKR",
         "marker": {
          "color": "#ab63fa",
          "symbol": "circle"
         },
         "mode": "markers",
         "name": "KKR",
         "orientation": "v",
         "showlegend": true,
         "type": "scatter",
         "x": [
          12.339
         ],
         "xaxis": "x",
         "y": [
          19.726785766228282
         ],
         "yaxis": "y"
        },
        {
         "hovertemplate": "manager=Keefe, Bruyette & Woods, Inc.<br>returns=%{x}<br>risk=%{y}<extra></extra>",
         "legendgroup": "Keefe, Bruyette & Woods, Inc.",
         "marker": {
          "color": "#FFA15A",
          "symbol": "circle"
         },
         "mode": "markers",
         "name": "Keefe, Bruyette & Woods, Inc.",
         "orientation": "v",
         "showlegend": true,
         "type": "scatter",
         "x": [
          5.555483870967742
         ],
         "xaxis": "x",
         "y": [
          8.778257169983034
         ],
         "yaxis": "y"
        },
        {
         "hovertemplate": "manager=KeyBanc Capital Market<br>returns=%{x}<br>risk=%{y}<extra></extra>",
         "legendgroup": "KeyBanc Capital Market",
         "marker": {
          "color": "#19d3f3",
          "symbol": "circle"
         },
         "mode": "markers",
         "name": "KeyBanc Capital Market",
         "orientation": "v",
         "showlegend": true,
         "type": "scatter",
         "x": [
          43.60666666666667
         ],
         "xaxis": "x",
         "y": [
          66.99812488491926
         ],
         "yaxis": "y"
        },
        {
         "hovertemplate": "manager=Ladenberg Thalmann<br>returns=%{x}<br>risk=%{y}<extra></extra>",
         "legendgroup": "Ladenberg Thalmann",
         "marker": {
          "color": "#FF6692",
          "symbol": "circle"
         },
         "mode": "markers",
         "name": "Ladenberg Thalmann",
         "orientation": "v",
         "showlegend": true,
         "type": "scatter",
         "x": [
          0.2510714285714286
         ],
         "xaxis": "x",
         "y": [
          5.622556647466369
         ],
         "yaxis": "y"
        },
        {
         "hovertemplate": "manager=Lazard<br>returns=%{x}<br>risk=%{y}<extra></extra>",
         "legendgroup": "Lazard",
         "marker": {
          "color": "#B6E880",
          "symbol": "circle"
         },
         "mode": "markers",
         "name": "Lazard",
         "orientation": "v",
         "showlegend": true,
         "type": "scatter",
         "x": [
          6.944347826086957
         ],
         "xaxis": "x",
         "y": [
          14.29697260582462
         ],
         "yaxis": "y"
        },
        {
         "hovertemplate": "manager=Leerink Partners<br>returns=%{x}<br>risk=%{y}<extra></extra>",
         "legendgroup": "Leerink Partners",
         "marker": {
          "color": "#FF97FF",
          "symbol": "circle"
         },
         "mode": "markers",
         "name": "Leerink Partners",
         "orientation": "v",
         "showlegend": true,
         "type": "scatter",
         "x": [
          17.503425925925924
         ],
         "xaxis": "x",
         "y": [
          33.77462073673588
         ],
         "yaxis": "y"
        },
        {
         "hovertemplate": "manager=Lehamn Brothers<br>returns=%{x}<br>risk=%{y}<extra></extra>",
         "legendgroup": "Lehamn Brothers",
         "marker": {
          "color": "#FECB52",
          "symbol": "circle"
         },
         "mode": "markers",
         "name": "Lehamn Brothers",
         "orientation": "v",
         "showlegend": true,
         "type": "scatter",
         "x": [
          11.869005847953217
         ],
         "xaxis": "x",
         "y": [
          20.854015882261447
         ],
         "yaxis": "y"
        },
        {
         "hovertemplate": "manager=Macquarie Capital<br>returns=%{x}<br>risk=%{y}<extra></extra>",
         "legendgroup": "Macquarie Capital",
         "marker": {
          "color": "#636efa",
          "symbol": "circle"
         },
         "mode": "markers",
         "name": "Macquarie Capital",
         "orientation": "v",
         "showlegend": true,
         "type": "scatter",
         "x": [
          6.003636363636364
         ],
         "xaxis": "x",
         "y": [
          15.854137171557003
         ],
         "yaxis": "y"
        },
        {
         "hovertemplate": "manager=Maxim Group LLC<br>returns=%{x}<br>risk=%{y}<extra></extra>",
         "legendgroup": "Maxim Group LLC",
         "marker": {
          "color": "#EF553B",
          "symbol": "circle"
         },
         "mode": "markers",
         "name": "Maxim Group LLC",
         "orientation": "v",
         "showlegend": true,
         "type": "scatter",
         "x": [
          -0.6821276595744681
         ],
         "xaxis": "x",
         "y": [
          8.824507853297767
         ],
         "yaxis": "y"
        },
        {
         "hovertemplate": "manager=Mizuho Securities<br>returns=%{x}<br>risk=%{y}<extra></extra>",
         "legendgroup": "Mizuho Securities",
         "marker": {
          "color": "#00cc96",
          "symbol": "circle"
         },
         "mode": "markers",
         "name": "Mizuho Securities",
         "orientation": "v",
         "showlegend": true,
         "type": "scatter",
         "x": [
          19.865833333333335
         ],
         "xaxis": "x",
         "y": [
          49.97103678556452
         ],
         "yaxis": "y"
        },
        {
         "hovertemplate": "manager=Morgan Joseph<br>returns=%{x}<br>risk=%{y}<extra></extra>",
         "legendgroup": "Morgan Joseph",
         "marker": {
          "color": "#ab63fa",
          "symbol": "circle"
         },
         "mode": "markers",
         "name": "Morgan Joseph",
         "orientation": "v",
         "showlegend": true,
         "type": "scatter",
         "x": [
          1.395
         ],
         "xaxis": "x",
         "y": [
          1.785243214056094
         ],
         "yaxis": "y"
        },
        {
         "hovertemplate": "manager=Morgan Stanlet Dean Witter<br>returns=%{x}<br>risk=%{y}<extra></extra>",
         "legendgroup": "Morgan Stanlet Dean Witter",
         "marker": {
          "color": "#FFA15A",
          "symbol": "circle"
         },
         "mode": "markers",
         "name": "Morgan Stanlet Dean Witter",
         "orientation": "v",
         "showlegend": true,
         "type": "scatter",
         "x": [
          18.41868148148148
         ],
         "xaxis": "x",
         "y": [
          29.413220395182947
         ],
         "yaxis": "y"
        },
        {
         "hovertemplate": "manager=National Securities Corporation<br>returns=%{x}<br>risk=%{y}<extra></extra>",
         "legendgroup": "National Securities Corporation",
         "marker": {
          "color": "#19d3f3",
          "symbol": "circle"
         },
         "mode": "markers",
         "name": "National Securities Corporation",
         "orientation": "v",
         "showlegend": true,
         "type": "scatter",
         "x": [
          9.718
         ],
         "xaxis": "x",
         "y": [
          16.032631862686937
         ],
         "yaxis": "y"
        },
        {
         "hovertemplate": "manager=Needham & Company<br>returns=%{x}<br>risk=%{y}<extra></extra>",
         "legendgroup": "Needham & Company",
         "marker": {
          "color": "#FF6692",
          "symbol": "circle"
         },
         "mode": "markers",
         "name": "Needham & Company",
         "orientation": "v",
         "showlegend": true,
         "type": "scatter",
         "x": [
          8.590833333333334
         ],
         "xaxis": "x",
         "y": [
          19.1471409963298
         ],
         "yaxis": "y"
        },
        {
         "hovertemplate": "manager=Nomura<br>returns=%{x}<br>risk=%{y}<extra></extra>",
         "legendgroup": "Nomura",
         "marker": {
          "color": "#B6E880",
          "symbol": "circle"
         },
         "mode": "markers",
         "name": "Nomura",
         "orientation": "v",
         "showlegend": true,
         "type": "scatter",
         "x": [
          5.97625
         ],
         "xaxis": "x",
         "y": [
          10.066691806575356
         ],
         "yaxis": "y"
        },
        {
         "hovertemplate": "manager=Oppenheimer & Co<br>returns=%{x}<br>risk=%{y}<extra></extra>",
         "legendgroup": "Oppenheimer & Co",
         "marker": {
          "color": "#FF97FF",
          "symbol": "circle"
         },
         "mode": "markers",
         "name": "Oppenheimer & Co",
         "orientation": "v",
         "showlegend": true,
         "type": "scatter",
         "x": [
          2.62969696969697
         ],
         "xaxis": "x",
         "y": [
          12.258721253878932
         ],
         "yaxis": "y"
        },
        {
         "hovertemplate": "manager=Pacific Crest Securities<br>returns=%{x}<br>risk=%{y}<extra></extra>",
         "legendgroup": "Pacific Crest Securities",
         "marker": {
          "color": "#FECB52",
          "symbol": "circle"
         },
         "mode": "markers",
         "name": "Pacific Crest Securities",
         "orientation": "v",
         "showlegend": true,
         "type": "scatter",
         "x": [
          9.22888888888889
         ],
         "xaxis": "x",
         "y": [
          14.371559974863937
         ],
         "yaxis": "y"
        },
        {
         "hovertemplate": "manager=Paulson Investment<br>returns=%{x}<br>risk=%{y}<extra></extra>",
         "legendgroup": "Paulson Investment",
         "marker": {
          "color": "#636efa",
          "symbol": "circle"
         },
         "mode": "markers",
         "name": "Paulson Investment",
         "orientation": "v",
         "showlegend": true,
         "type": "scatter",
         "x": [
          -0.46222222222222215
         ],
         "xaxis": "x",
         "y": [
          7.404673824311537
         ],
         "yaxis": "y"
        },
        {
         "hovertemplate": "manager=Piper Sandler<br>returns=%{x}<br>risk=%{y}<extra></extra>",
         "legendgroup": "Piper Sandler",
         "marker": {
          "color": "#EF553B",
          "symbol": "circle"
         },
         "mode": "markers",
         "name": "Piper Sandler",
         "orientation": "v",
         "showlegend": true,
         "type": "scatter",
         "x": [
          17.317
         ],
         "xaxis": "x",
         "y": [
          25.649890949177504
         ],
         "yaxis": "y"
        },
        {
         "hovertemplate": "manager=RBC Capital Markets<br>returns=%{x}<br>risk=%{y}<extra></extra>",
         "legendgroup": "RBC Capital Markets",
         "marker": {
          "color": "#00cc96",
          "symbol": "circle"
         },
         "mode": "markers",
         "name": "RBC Capital Markets",
         "orientation": "v",
         "showlegend": true,
         "type": "scatter",
         "x": [
          14.4375
         ],
         "xaxis": "x",
         "y": [
          26.54494849587874
         ],
         "yaxis": "y"
        },
        {
         "hovertemplate": "manager=Raymond James<br>returns=%{x}<br>risk=%{y}<extra></extra>",
         "legendgroup": "Raymond James",
         "marker": {
          "color": "#ab63fa",
          "symbol": "circle"
         },
         "mode": "markers",
         "name": "Raymond James",
         "orientation": "v",
         "showlegend": true,
         "type": "scatter",
         "x": [
          8.397424242424242
         ],
         "xaxis": "x",
         "y": [
          19.984264680039264
         ],
         "yaxis": "y"
        },
        {
         "hovertemplate": "manager=Robertson Stephens<br>returns=%{x}<br>risk=%{y}<extra></extra>",
         "legendgroup": "Robertson Stephens",
         "marker": {
          "color": "#FFA15A",
          "symbol": "circle"
         },
         "mode": "markers",
         "name": "Robertson Stephens",
         "orientation": "v",
         "showlegend": true,
         "type": "scatter",
         "x": [
          47.63928571428571
         ],
         "xaxis": "x",
         "y": [
          47.83925978078702
         ],
         "yaxis": "y"
        },
        {
         "hovertemplate": "manager=Rodman & Renshaw<br>returns=%{x}<br>risk=%{y}<extra></extra>",
         "legendgroup": "Rodman & Renshaw",
         "marker": {
          "color": "#19d3f3",
          "symbol": "circle"
         },
         "mode": "markers",
         "name": "Rodman & Renshaw",
         "orientation": "v",
         "showlegend": true,
         "type": "scatter",
         "x": [
          -0.5878571428571429
         ],
         "xaxis": "x",
         "y": [
          7.3806411839158175
         ],
         "yaxis": "y"
        },
        {
         "hovertemplate": "manager=Roth Capital Partners​<br>returns=%{x}<br>risk=%{y}<extra></extra>",
         "legendgroup": "Roth Capital Partners​",
         "marker": {
          "color": "#FF6692",
          "symbol": "circle"
         },
         "mode": "markers",
         "name": "Roth Capital Partners​",
         "orientation": "v",
         "showlegend": true,
         "type": "scatter",
         "x": [
          9.270285714285714
         ],
         "xaxis": "x",
         "y": [
          18.923201054558938
         ],
         "yaxis": "y"
        },
        {
         "hovertemplate": "manager=SG Cowen<br>returns=%{x}<br>risk=%{y}<extra></extra>",
         "legendgroup": "SG Cowen",
         "marker": {
          "color": "#B6E880",
          "symbol": "circle"
         },
         "mode": "markers",
         "name": "SG Cowen",
         "orientation": "v",
         "showlegend": true,
         "type": "scatter",
         "x": [
          19.012857142857143
         ],
         "xaxis": "x",
         "y": [
          29.07809750477762
         ],
         "yaxis": "y"
        },
        {
         "hovertemplate": "manager=Salomon Smith Barney<br>returns=%{x}<br>risk=%{y}<extra></extra>",
         "legendgroup": "Salomon Smith Barney",
         "marker": {
          "color": "#FF97FF",
          "symbol": "circle"
         },
         "mode": "markers",
         "name": "Salomon Smith Barney",
         "orientation": "v",
         "showlegend": true,
         "type": "scatter",
         "x": [
          17.64302564102564
         ],
         "xaxis": "x",
         "y": [
          32.31255680926467
         ],
         "yaxis": "y"
        },
        {
         "hovertemplate": "manager=Sandler ONeill & Partners<br>returns=%{x}<br>risk=%{y}<extra></extra>",
         "legendgroup": "Sandler ONeill & Partners",
         "marker": {
          "color": "#FECB52",
          "symbol": "circle"
         },
         "mode": "markers",
         "name": "Sandler ONeill & Partners",
         "orientation": "v",
         "showlegend": true,
         "type": "scatter",
         "x": [
          4.972941176470588
         ],
         "xaxis": "x",
         "y": [
          7.026391603528222
         ],
         "yaxis": "y"
        },
        {
         "hovertemplate": "manager=Stephens<br>returns=%{x}<br>risk=%{y}<extra></extra>",
         "legendgroup": "Stephens",
         "marker": {
          "color": "#636efa",
          "symbol": "circle"
         },
         "mode": "markers",
         "name": "Stephens",
         "orientation": "v",
         "showlegend": true,
         "type": "scatter",
         "x": [
          7.270416666666667
         ],
         "xaxis": "x",
         "y": [
          8.939394726697671
         ],
         "yaxis": "y"
        },
        {
         "hovertemplate": "manager=Stifel<br>returns=%{x}<br>risk=%{y}<extra></extra>",
         "legendgroup": "Stifel",
         "marker": {
          "color": "#EF553B",
          "symbol": "circle"
         },
         "mode": "markers",
         "name": "Stifel",
         "orientation": "v",
         "showlegend": true,
         "type": "scatter",
         "x": [
          13.705135135135135
         ],
         "xaxis": "x",
         "y": [
          34.27885295004093
         ],
         "yaxis": "y"
        },
        {
         "hovertemplate": "manager=Stifel Nicolaus Weisel<br>returns=%{x}<br>risk=%{y}<extra></extra>",
         "legendgroup": "Stifel Nicolaus Weisel",
         "marker": {
          "color": "#00cc96",
          "symbol": "circle"
         },
         "mode": "markers",
         "name": "Stifel Nicolaus Weisel",
         "orientation": "v",
         "showlegend": true,
         "type": "scatter",
         "x": [
          6.862631578947369
         ],
         "xaxis": "x",
         "y": [
          11.677546280554957
         ],
         "yaxis": "y"
        },
        {
         "hovertemplate": "manager=SunTrust Robinson Humphrey<br>returns=%{x}<br>risk=%{y}<extra></extra>",
         "legendgroup": "SunTrust Robinson Humphrey",
         "marker": {
          "color": "#ab63fa",
          "symbol": "circle"
         },
         "mode": "markers",
         "name": "SunTrust Robinson Humphrey",
         "orientation": "v",
         "showlegend": true,
         "type": "scatter",
         "x": [
          14.83
         ],
         "xaxis": "x",
         "y": [
          40.02104804920183
         ],
         "yaxis": "y"
        },
        {
         "hovertemplate": "manager=ThinkEquity<br>returns=%{x}<br>risk=%{y}<extra></extra>",
         "legendgroup": "ThinkEquity",
         "marker": {
          "color": "#FFA15A",
          "symbol": "circle"
         },
         "mode": "markers",
         "name": "ThinkEquity",
         "orientation": "v",
         "showlegend": true,
         "type": "scatter",
         "x": [
          14.635
         ],
         "xaxis": "x",
         "y": [
          21.761496648062522
         ],
         "yaxis": "y"
        },
        {
         "hovertemplate": "manager=Thomas Weisel<br>returns=%{x}<br>risk=%{y}<extra></extra>",
         "legendgroup": "Thomas Weisel",
         "marker": {
          "color": "#19d3f3",
          "symbol": "circle"
         },
         "mode": "markers",
         "name": "Thomas Weisel",
         "orientation": "v",
         "showlegend": true,
         "type": "scatter",
         "x": [
          19.173928571428572
         ],
         "xaxis": "x",
         "y": [
          22.156199590430784
         ],
         "yaxis": "y"
        },
        {
         "hovertemplate": "manager=UBS Securitie<br>returns=%{x}<br>risk=%{y}<extra></extra>",
         "legendgroup": "UBS Securitie",
         "marker": {
          "color": "#FF6692",
          "symbol": "circle"
         },
         "mode": "markers",
         "name": "UBS Securitie",
         "orientation": "v",
         "showlegend": true,
         "type": "scatter",
         "x": [
          17.521176470588234
         ],
         "xaxis": "x",
         "y": [
          29.596254594617406
         ],
         "yaxis": "y"
        },
        {
         "hovertemplate": "manager=UBS Warburg<br>returns=%{x}<br>risk=%{y}<extra></extra>",
         "legendgroup": "UBS Warburg",
         "marker": {
          "color": "#B6E880",
          "symbol": "circle"
         },
         "mode": "markers",
         "name": "UBS Warburg",
         "orientation": "v",
         "showlegend": true,
         "type": "scatter",
         "x": [
          16.792380952380952
         ],
         "xaxis": "x",
         "y": [
          24.553154971359973
         ],
         "yaxis": "y"
        },
        {
         "hovertemplate": "manager=US Bancorp Piper Jaffray<br>returns=%{x}<br>risk=%{y}<extra></extra>",
         "legendgroup": "US Bancorp Piper Jaffray",
         "marker": {
          "color": "#FF97FF",
          "symbol": "circle"
         },
         "mode": "markers",
         "name": "US Bancorp Piper Jaffray",
         "orientation": "v",
         "showlegend": true,
         "type": "scatter",
         "x": [
          13.414444444444445
         ],
         "xaxis": "x",
         "y": [
          13.488229230620963
         ],
         "yaxis": "y"
        },
        {
         "hovertemplate": "manager=ViewTrade Securities<br>returns=%{x}<br>risk=%{y}<extra></extra>",
         "legendgroup": "ViewTrade Securities",
         "marker": {
          "color": "#FECB52",
          "symbol": "circle"
         },
         "mode": "markers",
         "name": "ViewTrade Securities",
         "orientation": "v",
         "showlegend": true,
         "type": "scatter",
         "x": [
          45.38
         ],
         "xaxis": "x",
         "y": [
          37.10838488228003
         ],
         "yaxis": "y"
        },
        {
         "hovertemplate": "manager=WR Hambrecht+Co<br>returns=%{x}<br>risk=%{y}<extra></extra>",
         "legendgroup": "WR Hambrecht+Co",
         "marker": {
          "color": "#636efa",
          "symbol": "circle"
         },
         "mode": "markers",
         "name": "WR Hambrecht+Co",
         "orientation": "v",
         "showlegend": true,
         "type": "scatter",
         "x": [
          0.5090476190476192
         ],
         "xaxis": "x",
         "y": [
          7.721685635120032
         ],
         "yaxis": "y"
        },
        {
         "hovertemplate": "manager=Wachovia<br>returns=%{x}<br>risk=%{y}<extra></extra>",
         "legendgroup": "Wachovia",
         "marker": {
          "color": "#EF553B",
          "symbol": "circle"
         },
         "mode": "markers",
         "name": "Wachovia",
         "orientation": "v",
         "showlegend": true,
         "type": "scatter",
         "x": [
          12.685
         ],
         "xaxis": "x",
         "y": [
          16.787068237187814
         ],
         "yaxis": "y"
        },
        {
         "hovertemplate": "manager=Wells Fargo Securities<br>returns=%{x}<br>risk=%{y}<extra></extra>",
         "legendgroup": "Wells Fargo Securities",
         "marker": {
          "color": "#00cc96",
          "symbol": "circle"
         },
         "mode": "markers",
         "name": "Wells Fargo Securities",
         "orientation": "v",
         "showlegend": true,
         "type": "scatter",
         "x": [
          9.270821917808219
         ],
         "xaxis": "x",
         "y": [
          21.683880251653946
         ],
         "yaxis": "y"
        },
        {
         "hovertemplate": "manager=Wm Blair<br>returns=%{x}<br>risk=%{y}<extra></extra>",
         "legendgroup": "Wm Blair",
         "marker": {
          "color": "#ab63fa",
          "symbol": "circle"
         },
         "mode": "markers",
         "name": "Wm Blair",
         "orientation": "v",
         "showlegend": true,
         "type": "scatter",
         "x": [
          19.243492063492063
         ],
         "xaxis": "x",
         "y": [
          19.286437417365818
         ],
         "yaxis": "y"
        },
        {
         "hovertemplate": "manager=Wunderlich Securities<br>returns=%{x}<br>risk=%{y}<extra></extra>",
         "legendgroup": "Wunderlich Securities",
         "marker": {
          "color": "#FFA15A",
          "symbol": "circle"
         },
         "mode": "markers",
         "name": "Wunderlich Securities",
         "orientation": "v",
         "showlegend": true,
         "type": "scatter",
         "x": [
          -1.017
         ],
         "xaxis": "x",
         "y": [
          5.753466684433732
         ],
         "yaxis": "y"
        }
       ],
       "layout": {
        "legend": {
         "title": {
          "text": "manager"
         },
         "tracegroupgap": 0
        },
        "template": {
         "data": {
          "bar": [
           {
            "error_x": {
             "color": "#2a3f5f"
            },
            "error_y": {
             "color": "#2a3f5f"
            },
            "marker": {
             "line": {
              "color": "#E5ECF6",
              "width": 0.5
             },
             "pattern": {
              "fillmode": "overlay",
              "size": 10,
              "solidity": 0.2
             }
            },
            "type": "bar"
           }
          ],
          "barpolar": [
           {
            "marker": {
             "line": {
              "color": "#E5ECF6",
              "width": 0.5
             },
             "pattern": {
              "fillmode": "overlay",
              "size": 10,
              "solidity": 0.2
             }
            },
            "type": "barpolar"
           }
          ],
          "carpet": [
           {
            "aaxis": {
             "endlinecolor": "#2a3f5f",
             "gridcolor": "white",
             "linecolor": "white",
             "minorgridcolor": "white",
             "startlinecolor": "#2a3f5f"
            },
            "baxis": {
             "endlinecolor": "#2a3f5f",
             "gridcolor": "white",
             "linecolor": "white",
             "minorgridcolor": "white",
             "startlinecolor": "#2a3f5f"
            },
            "type": "carpet"
           }
          ],
          "choropleth": [
           {
            "colorbar": {
             "outlinewidth": 0,
             "ticks": ""
            },
            "type": "choropleth"
           }
          ],
          "contour": [
           {
            "colorbar": {
             "outlinewidth": 0,
             "ticks": ""
            },
            "colorscale": [
             [
              0,
              "#0d0887"
             ],
             [
              0.1111111111111111,
              "#46039f"
             ],
             [
              0.2222222222222222,
              "#7201a8"
             ],
             [
              0.3333333333333333,
              "#9c179e"
             ],
             [
              0.4444444444444444,
              "#bd3786"
             ],
             [
              0.5555555555555556,
              "#d8576b"
             ],
             [
              0.6666666666666666,
              "#ed7953"
             ],
             [
              0.7777777777777778,
              "#fb9f3a"
             ],
             [
              0.8888888888888888,
              "#fdca26"
             ],
             [
              1,
              "#f0f921"
             ]
            ],
            "type": "contour"
           }
          ],
          "contourcarpet": [
           {
            "colorbar": {
             "outlinewidth": 0,
             "ticks": ""
            },
            "type": "contourcarpet"
           }
          ],
          "heatmap": [
           {
            "colorbar": {
             "outlinewidth": 0,
             "ticks": ""
            },
            "colorscale": [
             [
              0,
              "#0d0887"
             ],
             [
              0.1111111111111111,
              "#46039f"
             ],
             [
              0.2222222222222222,
              "#7201a8"
             ],
             [
              0.3333333333333333,
              "#9c179e"
             ],
             [
              0.4444444444444444,
              "#bd3786"
             ],
             [
              0.5555555555555556,
              "#d8576b"
             ],
             [
              0.6666666666666666,
              "#ed7953"
             ],
             [
              0.7777777777777778,
              "#fb9f3a"
             ],
             [
              0.8888888888888888,
              "#fdca26"
             ],
             [
              1,
              "#f0f921"
             ]
            ],
            "type": "heatmap"
           }
          ],
          "heatmapgl": [
           {
            "colorbar": {
             "outlinewidth": 0,
             "ticks": ""
            },
            "colorscale": [
             [
              0,
              "#0d0887"
             ],
             [
              0.1111111111111111,
              "#46039f"
             ],
             [
              0.2222222222222222,
              "#7201a8"
             ],
             [
              0.3333333333333333,
              "#9c179e"
             ],
             [
              0.4444444444444444,
              "#bd3786"
             ],
             [
              0.5555555555555556,
              "#d8576b"
             ],
             [
              0.6666666666666666,
              "#ed7953"
             ],
             [
              0.7777777777777778,
              "#fb9f3a"
             ],
             [
              0.8888888888888888,
              "#fdca26"
             ],
             [
              1,
              "#f0f921"
             ]
            ],
            "type": "heatmapgl"
           }
          ],
          "histogram": [
           {
            "marker": {
             "pattern": {
              "fillmode": "overlay",
              "size": 10,
              "solidity": 0.2
             }
            },
            "type": "histogram"
           }
          ],
          "histogram2d": [
           {
            "colorbar": {
             "outlinewidth": 0,
             "ticks": ""
            },
            "colorscale": [
             [
              0,
              "#0d0887"
             ],
             [
              0.1111111111111111,
              "#46039f"
             ],
             [
              0.2222222222222222,
              "#7201a8"
             ],
             [
              0.3333333333333333,
              "#9c179e"
             ],
             [
              0.4444444444444444,
              "#bd3786"
             ],
             [
              0.5555555555555556,
              "#d8576b"
             ],
             [
              0.6666666666666666,
              "#ed7953"
             ],
             [
              0.7777777777777778,
              "#fb9f3a"
             ],
             [
              0.8888888888888888,
              "#fdca26"
             ],
             [
              1,
              "#f0f921"
             ]
            ],
            "type": "histogram2d"
           }
          ],
          "histogram2dcontour": [
           {
            "colorbar": {
             "outlinewidth": 0,
             "ticks": ""
            },
            "colorscale": [
             [
              0,
              "#0d0887"
             ],
             [
              0.1111111111111111,
              "#46039f"
             ],
             [
              0.2222222222222222,
              "#7201a8"
             ],
             [
              0.3333333333333333,
              "#9c179e"
             ],
             [
              0.4444444444444444,
              "#bd3786"
             ],
             [
              0.5555555555555556,
              "#d8576b"
             ],
             [
              0.6666666666666666,
              "#ed7953"
             ],
             [
              0.7777777777777778,
              "#fb9f3a"
             ],
             [
              0.8888888888888888,
              "#fdca26"
             ],
             [
              1,
              "#f0f921"
             ]
            ],
            "type": "histogram2dcontour"
           }
          ],
          "mesh3d": [
           {
            "colorbar": {
             "outlinewidth": 0,
             "ticks": ""
            },
            "type": "mesh3d"
           }
          ],
          "parcoords": [
           {
            "line": {
             "colorbar": {
              "outlinewidth": 0,
              "ticks": ""
             }
            },
            "type": "parcoords"
           }
          ],
          "pie": [
           {
            "automargin": true,
            "type": "pie"
           }
          ],
          "scatter": [
           {
            "marker": {
             "colorbar": {
              "outlinewidth": 0,
              "ticks": ""
             }
            },
            "type": "scatter"
           }
          ],
          "scatter3d": [
           {
            "line": {
             "colorbar": {
              "outlinewidth": 0,
              "ticks": ""
             }
            },
            "marker": {
             "colorbar": {
              "outlinewidth": 0,
              "ticks": ""
             }
            },
            "type": "scatter3d"
           }
          ],
          "scattercarpet": [
           {
            "marker": {
             "colorbar": {
              "outlinewidth": 0,
              "ticks": ""
             }
            },
            "type": "scattercarpet"
           }
          ],
          "scattergeo": [
           {
            "marker": {
             "colorbar": {
              "outlinewidth": 0,
              "ticks": ""
             }
            },
            "type": "scattergeo"
           }
          ],
          "scattergl": [
           {
            "marker": {
             "colorbar": {
              "outlinewidth": 0,
              "ticks": ""
             }
            },
            "type": "scattergl"
           }
          ],
          "scattermapbox": [
           {
            "marker": {
             "colorbar": {
              "outlinewidth": 0,
              "ticks": ""
             }
            },
            "type": "scattermapbox"
           }
          ],
          "scatterpolar": [
           {
            "marker": {
             "colorbar": {
              "outlinewidth": 0,
              "ticks": ""
             }
            },
            "type": "scatterpolar"
           }
          ],
          "scatterpolargl": [
           {
            "marker": {
             "colorbar": {
              "outlinewidth": 0,
              "ticks": ""
             }
            },
            "type": "scatterpolargl"
           }
          ],
          "scatterternary": [
           {
            "marker": {
             "colorbar": {
              "outlinewidth": 0,
              "ticks": ""
             }
            },
            "type": "scatterternary"
           }
          ],
          "surface": [
           {
            "colorbar": {
             "outlinewidth": 0,
             "ticks": ""
            },
            "colorscale": [
             [
              0,
              "#0d0887"
             ],
             [
              0.1111111111111111,
              "#46039f"
             ],
             [
              0.2222222222222222,
              "#7201a8"
             ],
             [
              0.3333333333333333,
              "#9c179e"
             ],
             [
              0.4444444444444444,
              "#bd3786"
             ],
             [
              0.5555555555555556,
              "#d8576b"
             ],
             [
              0.6666666666666666,
              "#ed7953"
             ],
             [
              0.7777777777777778,
              "#fb9f3a"
             ],
             [
              0.8888888888888888,
              "#fdca26"
             ],
             [
              1,
              "#f0f921"
             ]
            ],
            "type": "surface"
           }
          ],
          "table": [
           {
            "cells": {
             "fill": {
              "color": "#EBF0F8"
             },
             "line": {
              "color": "white"
             }
            },
            "header": {
             "fill": {
              "color": "#C8D4E3"
             },
             "line": {
              "color": "white"
             }
            },
            "type": "table"
           }
          ]
         },
         "layout": {
          "annotationdefaults": {
           "arrowcolor": "#2a3f5f",
           "arrowhead": 0,
           "arrowwidth": 1
          },
          "autotypenumbers": "strict",
          "coloraxis": {
           "colorbar": {
            "outlinewidth": 0,
            "ticks": ""
           }
          },
          "colorscale": {
           "diverging": [
            [
             0,
             "#8e0152"
            ],
            [
             0.1,
             "#c51b7d"
            ],
            [
             0.2,
             "#de77ae"
            ],
            [
             0.3,
             "#f1b6da"
            ],
            [
             0.4,
             "#fde0ef"
            ],
            [
             0.5,
             "#f7f7f7"
            ],
            [
             0.6,
             "#e6f5d0"
            ],
            [
             0.7,
             "#b8e186"
            ],
            [
             0.8,
             "#7fbc41"
            ],
            [
             0.9,
             "#4d9221"
            ],
            [
             1,
             "#276419"
            ]
           ],
           "sequential": [
            [
             0,
             "#0d0887"
            ],
            [
             0.1111111111111111,
             "#46039f"
            ],
            [
             0.2222222222222222,
             "#7201a8"
            ],
            [
             0.3333333333333333,
             "#9c179e"
            ],
            [
             0.4444444444444444,
             "#bd3786"
            ],
            [
             0.5555555555555556,
             "#d8576b"
            ],
            [
             0.6666666666666666,
             "#ed7953"
            ],
            [
             0.7777777777777778,
             "#fb9f3a"
            ],
            [
             0.8888888888888888,
             "#fdca26"
            ],
            [
             1,
             "#f0f921"
            ]
           ],
           "sequentialminus": [
            [
             0,
             "#0d0887"
            ],
            [
             0.1111111111111111,
             "#46039f"
            ],
            [
             0.2222222222222222,
             "#7201a8"
            ],
            [
             0.3333333333333333,
             "#9c179e"
            ],
            [
             0.4444444444444444,
             "#bd3786"
            ],
            [
             0.5555555555555556,
             "#d8576b"
            ],
            [
             0.6666666666666666,
             "#ed7953"
            ],
            [
             0.7777777777777778,
             "#fb9f3a"
            ],
            [
             0.8888888888888888,
             "#fdca26"
            ],
            [
             1,
             "#f0f921"
            ]
           ]
          },
          "colorway": [
           "#636efa",
           "#EF553B",
           "#00cc96",
           "#ab63fa",
           "#FFA15A",
           "#19d3f3",
           "#FF6692",
           "#B6E880",
           "#FF97FF",
           "#FECB52"
          ],
          "font": {
           "color": "#2a3f5f"
          },
          "geo": {
           "bgcolor": "white",
           "lakecolor": "white",
           "landcolor": "#E5ECF6",
           "showlakes": true,
           "showland": true,
           "subunitcolor": "white"
          },
          "hoverlabel": {
           "align": "left"
          },
          "hovermode": "closest",
          "mapbox": {
           "style": "light"
          },
          "paper_bgcolor": "white",
          "plot_bgcolor": "#E5ECF6",
          "polar": {
           "angularaxis": {
            "gridcolor": "white",
            "linecolor": "white",
            "ticks": ""
           },
           "bgcolor": "#E5ECF6",
           "radialaxis": {
            "gridcolor": "white",
            "linecolor": "white",
            "ticks": ""
           }
          },
          "scene": {
           "xaxis": {
            "backgroundcolor": "#E5ECF6",
            "gridcolor": "white",
            "gridwidth": 2,
            "linecolor": "white",
            "showbackground": true,
            "ticks": "",
            "zerolinecolor": "white"
           },
           "yaxis": {
            "backgroundcolor": "#E5ECF6",
            "gridcolor": "white",
            "gridwidth": 2,
            "linecolor": "white",
            "showbackground": true,
            "ticks": "",
            "zerolinecolor": "white"
           },
           "zaxis": {
            "backgroundcolor": "#E5ECF6",
            "gridcolor": "white",
            "gridwidth": 2,
            "linecolor": "white",
            "showbackground": true,
            "ticks": "",
            "zerolinecolor": "white"
           }
          },
          "shapedefaults": {
           "line": {
            "color": "#2a3f5f"
           }
          },
          "ternary": {
           "aaxis": {
            "gridcolor": "white",
            "linecolor": "white",
            "ticks": ""
           },
           "baxis": {
            "gridcolor": "white",
            "linecolor": "white",
            "ticks": ""
           },
           "bgcolor": "#E5ECF6",
           "caxis": {
            "gridcolor": "white",
            "linecolor": "white",
            "ticks": ""
           }
          },
          "title": {
           "x": 0.05
          },
          "xaxis": {
           "automargin": true,
           "gridcolor": "white",
           "linecolor": "white",
           "ticks": "",
           "title": {
            "standoff": 15
           },
           "zerolinecolor": "white",
           "zerolinewidth": 2
          },
          "yaxis": {
           "automargin": true,
           "gridcolor": "white",
           "linecolor": "white",
           "ticks": "",
           "title": {
            "standoff": 15
           },
           "zerolinecolor": "white",
           "zerolinewidth": 2
          }
         }
        },
        "title": {
         "text": "Risk vs Returns by Manager"
        },
        "xaxis": {
         "anchor": "y",
         "domain": [
          0,
          1
         ],
         "title": {
          "text": "returns"
         }
        },
        "yaxis": {
         "anchor": "x",
         "domain": [
          0,
          1
         ],
         "title": {
          "text": "risk"
         }
        }
       }
      },
      "text/html": [
       "<div>                            <div id=\"b69dcc4c-fbdc-4e2f-9652-bd1f07fbeab1\" class=\"plotly-graph-div\" style=\"height:525px; width:100%;\"></div>            <script type=\"text/javascript\">                require([\"plotly\"], function(Plotly) {                    window.PLOTLYENV=window.PLOTLYENV || {};                                    if (document.getElementById(\"b69dcc4c-fbdc-4e2f-9652-bd1f07fbeab1\")) {                    Plotly.newPlot(                        \"b69dcc4c-fbdc-4e2f-9652-bd1f07fbeab1\",                        [{\"hovertemplate\":\"manager=A.G. Edwrads & Sons<br>returns=%{x}<br>risk=%{y}<extra></extra>\",\"legendgroup\":\"A.G. Edwrads & Sons\",\"marker\":{\"color\":\"#636efa\",\"symbol\":\"circle\"},\"mode\":\"markers\",\"name\":\"A.G. Edwrads & Sons\",\"orientation\":\"v\",\"showlegend\":true,\"x\":[7.339411764705883],\"xaxis\":\"x\",\"y\":[10.528032502911119],\"yaxis\":\"y\",\"type\":\"scatter\"},{\"hovertemplate\":\"manager=Aegis Capital Corp<br>returns=%{x}<br>risk=%{y}<extra></extra>\",\"legendgroup\":\"Aegis Capital Corp\",\"marker\":{\"color\":\"#EF553B\",\"symbol\":\"circle\"},\"mode\":\"markers\",\"name\":\"Aegis Capital Corp\",\"orientation\":\"v\",\"showlegend\":true,\"x\":[-1.563],\"xaxis\":\"x\",\"y\":[7.967733680288267],\"yaxis\":\"y\",\"type\":\"scatter\"},{\"hovertemplate\":\"manager=Allen & Company<br>returns=%{x}<br>risk=%{y}<extra></extra>\",\"legendgroup\":\"Allen & Company\",\"marker\":{\"color\":\"#00cc96\",\"symbol\":\"circle\"},\"mode\":\"markers\",\"name\":\"Allen & Company\",\"orientation\":\"v\",\"showlegend\":true,\"x\":[42.4148],\"xaxis\":\"x\",\"y\":[35.08990502029513],\"yaxis\":\"y\",\"type\":\"scatter\"},{\"hovertemplate\":\"manager=B. Riley & Co<br>returns=%{x}<br>risk=%{y}<extra></extra>\",\"legendgroup\":\"B. Riley & Co\",\"marker\":{\"color\":\"#ab63fa\",\"symbol\":\"circle\"},\"mode\":\"markers\",\"name\":\"B. Riley & Co\",\"orientation\":\"v\",\"showlegend\":true,\"x\":[0.145],\"xaxis\":\"x\",\"y\":[0.21915240764768654],\"yaxis\":\"y\",\"type\":\"scatter\"},{\"hovertemplate\":\"manager=BB&T Capital Markets<br>returns=%{x}<br>risk=%{y}<extra></extra>\",\"legendgroup\":\"BB&T Capital Markets\",\"marker\":{\"color\":\"#FFA15A\",\"symbol\":\"circle\"},\"mode\":\"markers\",\"name\":\"BB&T Capital Markets\",\"orientation\":\"v\",\"showlegend\":true,\"x\":[1.53],\"xaxis\":\"x\",\"y\":[3.3140006035002467],\"yaxis\":\"y\",\"type\":\"scatter\"},{\"hovertemplate\":\"manager=BMO Capital Market<br>returns=%{x}<br>risk=%{y}<extra></extra>\",\"legendgroup\":\"BMO Capital Market\",\"marker\":{\"color\":\"#19d3f3\",\"symbol\":\"circle\"},\"mode\":\"markers\",\"name\":\"BMO Capital Market\",\"orientation\":\"v\",\"showlegend\":true,\"x\":[10.414736842105263],\"xaxis\":\"x\",\"y\":[22.11329153691262],\"yaxis\":\"y\",\"type\":\"scatter\"},{\"hovertemplate\":\"manager=BTIG<br>returns=%{x}<br>risk=%{y}<extra></extra>\",\"legendgroup\":\"BTIG\",\"marker\":{\"color\":\"#FF6692\",\"symbol\":\"circle\"},\"mode\":\"markers\",\"name\":\"BTIG\",\"orientation\":\"v\",\"showlegend\":true,\"x\":[-0.19699999999999995],\"xaxis\":\"x\",\"y\":[1.9345056790359192],\"yaxis\":\"y\",\"type\":\"scatter\"},{\"hovertemplate\":\"manager=Baird<br>returns=%{x}<br>risk=%{y}<extra></extra>\",\"legendgroup\":\"Baird\",\"marker\":{\"color\":\"#B6E880\",\"symbol\":\"circle\"},\"mode\":\"markers\",\"name\":\"Baird\",\"orientation\":\"v\",\"showlegend\":true,\"x\":[14.016],\"xaxis\":\"x\",\"y\":[25.29353963510697],\"yaxis\":\"y\",\"type\":\"scatter\"},{\"hovertemplate\":\"manager=Banc of America<br>returns=%{x}<br>risk=%{y}<extra></extra>\",\"legendgroup\":\"Banc of America\",\"marker\":{\"color\":\"#FF97FF\",\"symbol\":\"circle\"},\"mode\":\"markers\",\"name\":\"Banc of America\",\"orientation\":\"v\",\"showlegend\":true,\"x\":[19.54991379310345],\"xaxis\":\"x\",\"y\":[38.19309353673184],\"yaxis\":\"y\",\"type\":\"scatter\"},{\"hovertemplate\":\"manager=Barclay Capital<br>returns=%{x}<br>risk=%{y}<extra></extra>\",\"legendgroup\":\"Barclay Capital\",\"marker\":{\"color\":\"#FECB52\",\"symbol\":\"circle\"},\"mode\":\"markers\",\"name\":\"Barclay Capital\",\"orientation\":\"v\",\"showlegend\":true,\"x\":[13.804440298507462],\"xaxis\":\"x\",\"y\":[27.97089672732186],\"yaxis\":\"y\",\"type\":\"scatter\"},{\"hovertemplate\":\"manager=Bear, Stearns<br>returns=%{x}<br>risk=%{y}<extra></extra>\",\"legendgroup\":\"Bear, Stearns\",\"marker\":{\"color\":\"#636efa\",\"symbol\":\"circle\"},\"mode\":\"markers\",\"name\":\"Bear, Stearns\",\"orientation\":\"v\",\"showlegend\":true,\"x\":[10.805],\"xaxis\":\"x\",\"y\":[17.913491300922757],\"yaxis\":\"y\",\"type\":\"scatter\"},{\"hovertemplate\":\"manager=BofA Merrill Lynch<br>returns=%{x}<br>risk=%{y}<extra></extra>\",\"legendgroup\":\"BofA Merrill Lynch\",\"marker\":{\"color\":\"#EF553B\",\"symbol\":\"circle\"},\"mode\":\"markers\",\"name\":\"BofA Merrill Lynch\",\"orientation\":\"v\",\"showlegend\":true,\"x\":[14.768057742782153],\"xaxis\":\"x\",\"y\":[27.31346047390947],\"yaxis\":\"y\",\"type\":\"scatter\"},{\"hovertemplate\":\"manager=BofAMerrill Lynch<br>returns=%{x}<br>risk=%{y}<extra></extra>\",\"legendgroup\":\"BofAMerrill Lynch\",\"marker\":{\"color\":\"#00cc96\",\"symbol\":\"circle\"},\"mode\":\"markers\",\"name\":\"BofAMerrill Lynch\",\"orientation\":\"v\",\"showlegend\":true,\"x\":[13.624279069767441],\"xaxis\":\"x\",\"y\":[22.292141952243],\"yaxis\":\"y\",\"type\":\"scatter\"},{\"hovertemplate\":\"manager=CF First Boston<br>returns=%{x}<br>risk=%{y}<extra></extra>\",\"legendgroup\":\"CF First Boston\",\"marker\":{\"color\":\"#ab63fa\",\"symbol\":\"circle\"},\"mode\":\"markers\",\"name\":\"CF First Boston\",\"orientation\":\"v\",\"showlegend\":true,\"x\":[10.816428571428572],\"xaxis\":\"x\",\"y\":[16.303807374985603],\"yaxis\":\"y\",\"type\":\"scatter\"},{\"hovertemplate\":\"manager=CIBC World Markets<br>returns=%{x}<br>risk=%{y}<extra></extra>\",\"legendgroup\":\"CIBC World Markets\",\"marker\":{\"color\":\"#FFA15A\",\"symbol\":\"circle\"},\"mode\":\"markers\",\"name\":\"CIBC World Markets\",\"orientation\":\"v\",\"showlegend\":true,\"x\":[12.66529411764706],\"xaxis\":\"x\",\"y\":[22.27129300995153],\"yaxis\":\"y\",\"type\":\"scatter\"},{\"hovertemplate\":\"manager=CICc<br>returns=%{x}<br>risk=%{y}<extra></extra>\",\"legendgroup\":\"CICc\",\"marker\":{\"color\":\"#19d3f3\",\"symbol\":\"circle\"},\"mode\":\"markers\",\"name\":\"CICc\",\"orientation\":\"v\",\"showlegend\":true,\"x\":[12.272380952380953],\"xaxis\":\"x\",\"y\":[17.665391562250157],\"yaxis\":\"y\",\"type\":\"scatter\"},{\"hovertemplate\":\"manager=Canaccord Genuity<br>returns=%{x}<br>risk=%{y}<extra></extra>\",\"legendgroup\":\"Canaccord Genuity\",\"marker\":{\"color\":\"#FF6692\",\"symbol\":\"circle\"},\"mode\":\"markers\",\"name\":\"Canaccord Genuity\",\"orientation\":\"v\",\"showlegend\":true,\"x\":[8.286],\"xaxis\":\"x\",\"y\":[17.215160760213656],\"yaxis\":\"y\",\"type\":\"scatter\"},{\"hovertemplate\":\"manager=Cantor Fitzgerald & Co<br>returns=%{x}<br>risk=%{y}<extra></extra>\",\"legendgroup\":\"Cantor Fitzgerald & Co\",\"marker\":{\"color\":\"#B6E880\",\"symbol\":\"circle\"},\"mode\":\"markers\",\"name\":\"Cantor Fitzgerald & Co\",\"orientation\":\"v\",\"showlegend\":true,\"x\":[-0.16999999999999998],\"xaxis\":\"x\",\"y\":[3.7682793701853776],\"yaxis\":\"y\",\"type\":\"scatter\"},{\"hovertemplate\":\"manager=Chardan Capital Markets<br>returns=%{x}<br>risk=%{y}<extra></extra>\",\"legendgroup\":\"Chardan Capital Markets\",\"marker\":{\"color\":\"#FF97FF\",\"symbol\":\"circle\"},\"mode\":\"markers\",\"name\":\"Chardan Capital Markets\",\"orientation\":\"v\",\"showlegend\":true,\"x\":[0.5173333333333333],\"xaxis\":\"x\",\"y\":[3.851292602833973],\"yaxis\":\"y\",\"type\":\"scatter\"},{\"hovertemplate\":\"manager=Chase H&Q<br>returns=%{x}<br>risk=%{y}<extra></extra>\",\"legendgroup\":\"Chase H&Q\",\"marker\":{\"color\":\"#FECB52\",\"symbol\":\"circle\"},\"mode\":\"markers\",\"name\":\"Chase H&Q\",\"orientation\":\"v\",\"showlegend\":true,\"x\":[30.08888888888889],\"xaxis\":\"x\",\"y\":[61.89394210487037],\"yaxis\":\"y\",\"type\":\"scatter\"},{\"hovertemplate\":\"manager=China Renaissance Securities<br>returns=%{x}<br>risk=%{y}<extra></extra>\",\"legendgroup\":\"China Renaissance Securities\",\"marker\":{\"color\":\"#636efa\",\"symbol\":\"circle\"},\"mode\":\"markers\",\"name\":\"China Renaissance Securities\",\"orientation\":\"v\",\"showlegend\":true,\"x\":[13.677272727272728],\"xaxis\":\"x\",\"y\":[26.470931260879016],\"yaxis\":\"y\",\"type\":\"scatter\"},{\"hovertemplate\":\"manager=Citigroup Capital Markets<br>returns=%{x}<br>risk=%{y}<extra></extra>\",\"legendgroup\":\"Citigroup Capital Markets\",\"marker\":{\"color\":\"#EF553B\",\"symbol\":\"circle\"},\"mode\":\"markers\",\"name\":\"Citigroup Capital Markets\",\"orientation\":\"v\",\"showlegend\":true,\"x\":[8.74286252354049],\"xaxis\":\"x\",\"y\":[19.81719046253112],\"yaxis\":\"y\",\"type\":\"scatter\"},{\"hovertemplate\":\"manager=Cohen & Company Capital Markets, LLC<br>returns=%{x}<br>risk=%{y}<extra></extra>\",\"legendgroup\":\"Cohen & Company Capital Markets, LLC\",\"marker\":{\"color\":\"#00cc96\",\"symbol\":\"circle\"},\"mode\":\"markers\",\"name\":\"Cohen & Company Capital Markets, LLC\",\"orientation\":\"v\",\"showlegend\":true,\"x\":[15.397533333333334],\"xaxis\":\"x\",\"y\":[30.891754116563376],\"yaxis\":\"y\",\"type\":\"scatter\"},{\"hovertemplate\":\"manager=Credit Suisse First Boston<br>returns=%{x}<br>risk=%{y}<extra></extra>\",\"legendgroup\":\"Credit Suisse First Boston\",\"marker\":{\"color\":\"#ab63fa\",\"symbol\":\"circle\"},\"mode\":\"markers\",\"name\":\"Credit Suisse First Boston\",\"orientation\":\"v\",\"showlegend\":true,\"x\":[15.98080895008606],\"xaxis\":\"x\",\"y\":[33.453908686630875],\"yaxis\":\"y\",\"type\":\"scatter\"},{\"hovertemplate\":\"manager=DeutscheBanc Alex. Brown<br>returns=%{x}<br>risk=%{y}<extra></extra>\",\"legendgroup\":\"DeutscheBanc Alex. Brown\",\"marker\":{\"color\":\"#FFA15A\",\"symbol\":\"circle\"},\"mode\":\"markers\",\"name\":\"DeutscheBanc Alex. Brown\",\"orientation\":\"v\",\"showlegend\":true,\"x\":[21.7175],\"xaxis\":\"x\",\"y\":[20.094657498947328],\"yaxis\":\"y\",\"type\":\"scatter\"},{\"hovertemplate\":\"manager=Donaldson, Lufkin & Jenrette<br>returns=%{x}<br>risk=%{y}<extra></extra>\",\"legendgroup\":\"Donaldson, Lufkin & Jenrette\",\"marker\":{\"color\":\"#19d3f3\",\"symbol\":\"circle\"},\"mode\":\"markers\",\"name\":\"Donaldson, Lufkin & Jenrette\",\"orientation\":\"v\",\"showlegend\":true,\"x\":[15.940000000000001],\"xaxis\":\"x\",\"y\":[26.107462534685364],\"yaxis\":\"y\",\"type\":\"scatter\"},{\"hovertemplate\":\"manager=Dutsche Bank<br>returns=%{x}<br>risk=%{y}<extra></extra>\",\"legendgroup\":\"Dutsche Bank\",\"marker\":{\"color\":\"#FF6692\",\"symbol\":\"circle\"},\"mode\":\"markers\",\"name\":\"Dutsche Bank\",\"orientation\":\"v\",\"showlegend\":true,\"x\":[9.266350442477876],\"xaxis\":\"x\",\"y\":[19.58763831655656],\"yaxis\":\"y\",\"type\":\"scatter\"},{\"hovertemplate\":\"manager=EarlyBirdCapital, Inc<br>returns=%{x}<br>risk=%{y}<extra></extra>\",\"legendgroup\":\"EarlyBirdCapital, Inc\",\"marker\":{\"color\":\"#B6E880\",\"symbol\":\"circle\"},\"mode\":\"markers\",\"name\":\"EarlyBirdCapital, Inc\",\"orientation\":\"v\",\"showlegend\":true,\"x\":[0.23666666666666666],\"xaxis\":\"x\",\"y\":[2.5963564213463965],\"yaxis\":\"y\",\"type\":\"scatter\"},{\"hovertemplate\":\"manager=Evercore ISI<br>returns=%{x}<br>risk=%{y}<extra></extra>\",\"legendgroup\":\"Evercore ISI\",\"marker\":{\"color\":\"#FF97FF\",\"symbol\":\"circle\"},\"mode\":\"markers\",\"name\":\"Evercore ISI\",\"orientation\":\"v\",\"showlegend\":true,\"x\":[16.362121212121213],\"xaxis\":\"x\",\"y\":[35.458623841526176],\"yaxis\":\"y\",\"type\":\"scatter\"},{\"hovertemplate\":\"manager=FBR Capital Markets<br>returns=%{x}<br>risk=%{y}<extra></extra>\",\"legendgroup\":\"FBR Capital Markets\",\"marker\":{\"color\":\"#FECB52\",\"symbol\":\"circle\"},\"mode\":\"markers\",\"name\":\"FBR Capital Markets\",\"orientation\":\"v\",\"showlegend\":true,\"x\":[4.516],\"xaxis\":\"x\",\"y\":[13.432228486191827],\"yaxis\":\"y\",\"type\":\"scatter\"},{\"hovertemplate\":\"manager=Feltl & Company<br>returns=%{x}<br>risk=%{y}<extra></extra>\",\"legendgroup\":\"Feltl & Company\",\"marker\":{\"color\":\"#636efa\",\"symbol\":\"circle\"},\"mode\":\"markers\",\"name\":\"Feltl & Company\",\"orientation\":\"v\",\"showlegend\":true,\"x\":[2.7845454545454547],\"xaxis\":\"x\",\"y\":[9.27346468547367],\"yaxis\":\"y\",\"type\":\"scatter\"},{\"hovertemplate\":\"manager=Ferris, Baker, Watts<br>returns=%{x}<br>risk=%{y}<extra></extra>\",\"legendgroup\":\"Ferris, Baker, Watts\",\"marker\":{\"color\":\"#EF553B\",\"symbol\":\"circle\"},\"mode\":\"markers\",\"name\":\"Ferris, Baker, Watts\",\"orientation\":\"v\",\"showlegend\":true,\"x\":[1.97],\"xaxis\":\"x\",\"y\":[3.564657321283747],\"yaxis\":\"y\",\"type\":\"scatter\"},{\"hovertemplate\":\"manager=Friedman Billings Ramsey<br>returns=%{x}<br>risk=%{y}<extra></extra>\",\"legendgroup\":\"Friedman Billings Ramsey\",\"marker\":{\"color\":\"#00cc96\",\"symbol\":\"circle\"},\"mode\":\"markers\",\"name\":\"Friedman Billings Ramsey\",\"orientation\":\"v\",\"showlegend\":true,\"x\":[5.484791666666666],\"xaxis\":\"x\",\"y\":[10.01242738217528],\"yaxis\":\"y\",\"type\":\"scatter\"},{\"hovertemplate\":\"manager=Goldman Sachs Japan<br>returns=%{x}<br>risk=%{y}<extra></extra>\",\"legendgroup\":\"Goldman Sachs Japan\",\"marker\":{\"color\":\"#ab63fa\",\"symbol\":\"circle\"},\"mode\":\"markers\",\"name\":\"Goldman Sachs Japan\",\"orientation\":\"v\",\"showlegend\":true,\"x\":[20.96412017167382],\"xaxis\":\"x\",\"y\":[37.156774049760635],\"yaxis\":\"y\",\"type\":\"scatter\"},{\"hovertemplate\":\"manager=Guggenheim Securities<br>returns=%{x}<br>risk=%{y}<extra></extra>\",\"legendgroup\":\"Guggenheim Securities\",\"marker\":{\"color\":\"#FFA15A\",\"symbol\":\"circle\"},\"mode\":\"markers\",\"name\":\"Guggenheim Securities\",\"orientation\":\"v\",\"showlegend\":true,\"x\":[37.75],\"xaxis\":\"x\",\"y\":[32.105069915602336],\"yaxis\":\"y\",\"type\":\"scatter\"},{\"hovertemplate\":\"manager=I-Bankers<br>returns=%{x}<br>risk=%{y}<extra></extra>\",\"legendgroup\":\"I-Bankers\",\"marker\":{\"color\":\"#19d3f3\",\"symbol\":\"circle\"},\"mode\":\"markers\",\"name\":\"I-Bankers\",\"orientation\":\"v\",\"showlegend\":true,\"x\":[1.287777777777778],\"xaxis\":\"x\",\"y\":[3.2500260682715214],\"yaxis\":\"y\",\"type\":\"scatter\"},{\"hovertemplate\":\"manager=I-Bankers Securities<br>returns=%{x}<br>risk=%{y}<extra></extra>\",\"legendgroup\":\"I-Bankers Securities\",\"marker\":{\"color\":\"#FF6692\",\"symbol\":\"circle\"},\"mode\":\"markers\",\"name\":\"I-Bankers Securities\",\"orientation\":\"v\",\"showlegend\":true,\"x\":[-0.855],\"xaxis\":\"x\",\"y\":[2.7874729694753198],\"yaxis\":\"y\",\"type\":\"scatter\"},{\"hovertemplate\":\"manager=ING<br>returns=%{x}<br>risk=%{y}<extra></extra>\",\"legendgroup\":\"ING\",\"marker\":{\"color\":\"#B6E880\",\"symbol\":\"circle\"},\"mode\":\"markers\",\"name\":\"ING\",\"orientation\":\"v\",\"showlegend\":true,\"x\":[5.013388429752066],\"xaxis\":\"x\",\"y\":[17.462914158950245],\"yaxis\":\"y\",\"type\":\"scatter\"},{\"hovertemplate\":\"manager=Ita\\u00fa BBA<br>returns=%{x}<br>risk=%{y}<extra></extra>\",\"legendgroup\":\"Ita\\u00fa BBA\",\"marker\":{\"color\":\"#FF97FF\",\"symbol\":\"circle\"},\"mode\":\"markers\",\"name\":\"Ita\\u00fa BBA\",\"orientation\":\"v\",\"showlegend\":true,\"x\":[11.313636363636363],\"xaxis\":\"x\",\"y\":[15.279754757670212],\"yaxis\":\"y\",\"type\":\"scatter\"},{\"hovertemplate\":\"manager=J.P.Morgan<br>returns=%{x}<br>risk=%{y}<extra></extra>\",\"legendgroup\":\"J.P.Morgan\",\"marker\":{\"color\":\"#FECB52\",\"symbol\":\"circle\"},\"mode\":\"markers\",\"name\":\"J.P.Morgan\",\"orientation\":\"v\",\"showlegend\":true,\"x\":[16.184458015267175],\"xaxis\":\"x\",\"y\":[26.715183034382218],\"yaxis\":\"y\",\"type\":\"scatter\"},{\"hovertemplate\":\"manager=JMP Securities<br>returns=%{x}<br>risk=%{y}<extra></extra>\",\"legendgroup\":\"JMP Securities\",\"marker\":{\"color\":\"#636efa\",\"symbol\":\"circle\"},\"mode\":\"markers\",\"name\":\"JMP Securities\",\"orientation\":\"v\",\"showlegend\":true,\"x\":[2.358181818181818],\"xaxis\":\"x\",\"y\":[10.592628899993949],\"yaxis\":\"y\",\"type\":\"scatter\"},{\"hovertemplate\":\"manager=Jefferirs<br>returns=%{x}<br>risk=%{y}<extra></extra>\",\"legendgroup\":\"Jefferirs\",\"marker\":{\"color\":\"#EF553B\",\"symbol\":\"circle\"},\"mode\":\"markers\",\"name\":\"Jefferirs\",\"orientation\":\"v\",\"showlegend\":true,\"x\":[17.05672932330827],\"xaxis\":\"x\",\"y\":[33.94930433913725],\"yaxis\":\"y\",\"type\":\"scatter\"},{\"hovertemplate\":\"manager=Joseph Gunnar & Co<br>returns=%{x}<br>risk=%{y}<extra></extra>\",\"legendgroup\":\"Joseph Gunnar & Co\",\"marker\":{\"color\":\"#00cc96\",\"symbol\":\"circle\"},\"mode\":\"markers\",\"name\":\"Joseph Gunnar & Co\",\"orientation\":\"v\",\"showlegend\":true,\"x\":[1.6366666666666667],\"xaxis\":\"x\",\"y\":[14.6038031576253],\"yaxis\":\"y\",\"type\":\"scatter\"},{\"hovertemplate\":\"manager=KKR<br>returns=%{x}<br>risk=%{y}<extra></extra>\",\"legendgroup\":\"KKR\",\"marker\":{\"color\":\"#ab63fa\",\"symbol\":\"circle\"},\"mode\":\"markers\",\"name\":\"KKR\",\"orientation\":\"v\",\"showlegend\":true,\"x\":[12.339],\"xaxis\":\"x\",\"y\":[19.726785766228282],\"yaxis\":\"y\",\"type\":\"scatter\"},{\"hovertemplate\":\"manager=Keefe, Bruyette & Woods, Inc.<br>returns=%{x}<br>risk=%{y}<extra></extra>\",\"legendgroup\":\"Keefe, Bruyette & Woods, Inc.\",\"marker\":{\"color\":\"#FFA15A\",\"symbol\":\"circle\"},\"mode\":\"markers\",\"name\":\"Keefe, Bruyette & Woods, Inc.\",\"orientation\":\"v\",\"showlegend\":true,\"x\":[5.555483870967742],\"xaxis\":\"x\",\"y\":[8.778257169983034],\"yaxis\":\"y\",\"type\":\"scatter\"},{\"hovertemplate\":\"manager=KeyBanc Capital Market<br>returns=%{x}<br>risk=%{y}<extra></extra>\",\"legendgroup\":\"KeyBanc Capital Market\",\"marker\":{\"color\":\"#19d3f3\",\"symbol\":\"circle\"},\"mode\":\"markers\",\"name\":\"KeyBanc Capital Market\",\"orientation\":\"v\",\"showlegend\":true,\"x\":[43.60666666666667],\"xaxis\":\"x\",\"y\":[66.99812488491926],\"yaxis\":\"y\",\"type\":\"scatter\"},{\"hovertemplate\":\"manager=Ladenberg Thalmann<br>returns=%{x}<br>risk=%{y}<extra></extra>\",\"legendgroup\":\"Ladenberg Thalmann\",\"marker\":{\"color\":\"#FF6692\",\"symbol\":\"circle\"},\"mode\":\"markers\",\"name\":\"Ladenberg Thalmann\",\"orientation\":\"v\",\"showlegend\":true,\"x\":[0.2510714285714286],\"xaxis\":\"x\",\"y\":[5.622556647466369],\"yaxis\":\"y\",\"type\":\"scatter\"},{\"hovertemplate\":\"manager=Lazard<br>returns=%{x}<br>risk=%{y}<extra></extra>\",\"legendgroup\":\"Lazard\",\"marker\":{\"color\":\"#B6E880\",\"symbol\":\"circle\"},\"mode\":\"markers\",\"name\":\"Lazard\",\"orientation\":\"v\",\"showlegend\":true,\"x\":[6.944347826086957],\"xaxis\":\"x\",\"y\":[14.29697260582462],\"yaxis\":\"y\",\"type\":\"scatter\"},{\"hovertemplate\":\"manager=Leerink Partners<br>returns=%{x}<br>risk=%{y}<extra></extra>\",\"legendgroup\":\"Leerink Partners\",\"marker\":{\"color\":\"#FF97FF\",\"symbol\":\"circle\"},\"mode\":\"markers\",\"name\":\"Leerink Partners\",\"orientation\":\"v\",\"showlegend\":true,\"x\":[17.503425925925924],\"xaxis\":\"x\",\"y\":[33.77462073673588],\"yaxis\":\"y\",\"type\":\"scatter\"},{\"hovertemplate\":\"manager=Lehamn Brothers<br>returns=%{x}<br>risk=%{y}<extra></extra>\",\"legendgroup\":\"Lehamn Brothers\",\"marker\":{\"color\":\"#FECB52\",\"symbol\":\"circle\"},\"mode\":\"markers\",\"name\":\"Lehamn Brothers\",\"orientation\":\"v\",\"showlegend\":true,\"x\":[11.869005847953217],\"xaxis\":\"x\",\"y\":[20.854015882261447],\"yaxis\":\"y\",\"type\":\"scatter\"},{\"hovertemplate\":\"manager=Macquarie Capital<br>returns=%{x}<br>risk=%{y}<extra></extra>\",\"legendgroup\":\"Macquarie Capital\",\"marker\":{\"color\":\"#636efa\",\"symbol\":\"circle\"},\"mode\":\"markers\",\"name\":\"Macquarie Capital\",\"orientation\":\"v\",\"showlegend\":true,\"x\":[6.003636363636364],\"xaxis\":\"x\",\"y\":[15.854137171557003],\"yaxis\":\"y\",\"type\":\"scatter\"},{\"hovertemplate\":\"manager=Maxim Group LLC<br>returns=%{x}<br>risk=%{y}<extra></extra>\",\"legendgroup\":\"Maxim Group LLC\",\"marker\":{\"color\":\"#EF553B\",\"symbol\":\"circle\"},\"mode\":\"markers\",\"name\":\"Maxim Group LLC\",\"orientation\":\"v\",\"showlegend\":true,\"x\":[-0.6821276595744681],\"xaxis\":\"x\",\"y\":[8.824507853297767],\"yaxis\":\"y\",\"type\":\"scatter\"},{\"hovertemplate\":\"manager=Mizuho Securities<br>returns=%{x}<br>risk=%{y}<extra></extra>\",\"legendgroup\":\"Mizuho Securities\",\"marker\":{\"color\":\"#00cc96\",\"symbol\":\"circle\"},\"mode\":\"markers\",\"name\":\"Mizuho Securities\",\"orientation\":\"v\",\"showlegend\":true,\"x\":[19.865833333333335],\"xaxis\":\"x\",\"y\":[49.97103678556452],\"yaxis\":\"y\",\"type\":\"scatter\"},{\"hovertemplate\":\"manager=Morgan Joseph<br>returns=%{x}<br>risk=%{y}<extra></extra>\",\"legendgroup\":\"Morgan Joseph\",\"marker\":{\"color\":\"#ab63fa\",\"symbol\":\"circle\"},\"mode\":\"markers\",\"name\":\"Morgan Joseph\",\"orientation\":\"v\",\"showlegend\":true,\"x\":[1.395],\"xaxis\":\"x\",\"y\":[1.785243214056094],\"yaxis\":\"y\",\"type\":\"scatter\"},{\"hovertemplate\":\"manager=Morgan Stanlet Dean Witter<br>returns=%{x}<br>risk=%{y}<extra></extra>\",\"legendgroup\":\"Morgan Stanlet Dean Witter\",\"marker\":{\"color\":\"#FFA15A\",\"symbol\":\"circle\"},\"mode\":\"markers\",\"name\":\"Morgan Stanlet Dean Witter\",\"orientation\":\"v\",\"showlegend\":true,\"x\":[18.41868148148148],\"xaxis\":\"x\",\"y\":[29.413220395182947],\"yaxis\":\"y\",\"type\":\"scatter\"},{\"hovertemplate\":\"manager=National Securities Corporation<br>returns=%{x}<br>risk=%{y}<extra></extra>\",\"legendgroup\":\"National Securities Corporation\",\"marker\":{\"color\":\"#19d3f3\",\"symbol\":\"circle\"},\"mode\":\"markers\",\"name\":\"National Securities Corporation\",\"orientation\":\"v\",\"showlegend\":true,\"x\":[9.718],\"xaxis\":\"x\",\"y\":[16.032631862686937],\"yaxis\":\"y\",\"type\":\"scatter\"},{\"hovertemplate\":\"manager=Needham & Company<br>returns=%{x}<br>risk=%{y}<extra></extra>\",\"legendgroup\":\"Needham & Company\",\"marker\":{\"color\":\"#FF6692\",\"symbol\":\"circle\"},\"mode\":\"markers\",\"name\":\"Needham & Company\",\"orientation\":\"v\",\"showlegend\":true,\"x\":[8.590833333333334],\"xaxis\":\"x\",\"y\":[19.1471409963298],\"yaxis\":\"y\",\"type\":\"scatter\"},{\"hovertemplate\":\"manager=Nomura<br>returns=%{x}<br>risk=%{y}<extra></extra>\",\"legendgroup\":\"Nomura\",\"marker\":{\"color\":\"#B6E880\",\"symbol\":\"circle\"},\"mode\":\"markers\",\"name\":\"Nomura\",\"orientation\":\"v\",\"showlegend\":true,\"x\":[5.97625],\"xaxis\":\"x\",\"y\":[10.066691806575356],\"yaxis\":\"y\",\"type\":\"scatter\"},{\"hovertemplate\":\"manager=Oppenheimer & Co<br>returns=%{x}<br>risk=%{y}<extra></extra>\",\"legendgroup\":\"Oppenheimer & Co\",\"marker\":{\"color\":\"#FF97FF\",\"symbol\":\"circle\"},\"mode\":\"markers\",\"name\":\"Oppenheimer & Co\",\"orientation\":\"v\",\"showlegend\":true,\"x\":[2.62969696969697],\"xaxis\":\"x\",\"y\":[12.258721253878932],\"yaxis\":\"y\",\"type\":\"scatter\"},{\"hovertemplate\":\"manager=Pacific Crest Securities<br>returns=%{x}<br>risk=%{y}<extra></extra>\",\"legendgroup\":\"Pacific Crest Securities\",\"marker\":{\"color\":\"#FECB52\",\"symbol\":\"circle\"},\"mode\":\"markers\",\"name\":\"Pacific Crest Securities\",\"orientation\":\"v\",\"showlegend\":true,\"x\":[9.22888888888889],\"xaxis\":\"x\",\"y\":[14.371559974863937],\"yaxis\":\"y\",\"type\":\"scatter\"},{\"hovertemplate\":\"manager=Paulson Investment<br>returns=%{x}<br>risk=%{y}<extra></extra>\",\"legendgroup\":\"Paulson Investment\",\"marker\":{\"color\":\"#636efa\",\"symbol\":\"circle\"},\"mode\":\"markers\",\"name\":\"Paulson Investment\",\"orientation\":\"v\",\"showlegend\":true,\"x\":[-0.46222222222222215],\"xaxis\":\"x\",\"y\":[7.404673824311537],\"yaxis\":\"y\",\"type\":\"scatter\"},{\"hovertemplate\":\"manager=Piper Sandler<br>returns=%{x}<br>risk=%{y}<extra></extra>\",\"legendgroup\":\"Piper Sandler\",\"marker\":{\"color\":\"#EF553B\",\"symbol\":\"circle\"},\"mode\":\"markers\",\"name\":\"Piper Sandler\",\"orientation\":\"v\",\"showlegend\":true,\"x\":[17.317],\"xaxis\":\"x\",\"y\":[25.649890949177504],\"yaxis\":\"y\",\"type\":\"scatter\"},{\"hovertemplate\":\"manager=RBC Capital Markets<br>returns=%{x}<br>risk=%{y}<extra></extra>\",\"legendgroup\":\"RBC Capital Markets\",\"marker\":{\"color\":\"#00cc96\",\"symbol\":\"circle\"},\"mode\":\"markers\",\"name\":\"RBC Capital Markets\",\"orientation\":\"v\",\"showlegend\":true,\"x\":[14.4375],\"xaxis\":\"x\",\"y\":[26.54494849587874],\"yaxis\":\"y\",\"type\":\"scatter\"},{\"hovertemplate\":\"manager=Raymond James<br>returns=%{x}<br>risk=%{y}<extra></extra>\",\"legendgroup\":\"Raymond James\",\"marker\":{\"color\":\"#ab63fa\",\"symbol\":\"circle\"},\"mode\":\"markers\",\"name\":\"Raymond James\",\"orientation\":\"v\",\"showlegend\":true,\"x\":[8.397424242424242],\"xaxis\":\"x\",\"y\":[19.984264680039264],\"yaxis\":\"y\",\"type\":\"scatter\"},{\"hovertemplate\":\"manager=Robertson Stephens<br>returns=%{x}<br>risk=%{y}<extra></extra>\",\"legendgroup\":\"Robertson Stephens\",\"marker\":{\"color\":\"#FFA15A\",\"symbol\":\"circle\"},\"mode\":\"markers\",\"name\":\"Robertson Stephens\",\"orientation\":\"v\",\"showlegend\":true,\"x\":[47.63928571428571],\"xaxis\":\"x\",\"y\":[47.83925978078702],\"yaxis\":\"y\",\"type\":\"scatter\"},{\"hovertemplate\":\"manager=Rodman & Renshaw<br>returns=%{x}<br>risk=%{y}<extra></extra>\",\"legendgroup\":\"Rodman & Renshaw\",\"marker\":{\"color\":\"#19d3f3\",\"symbol\":\"circle\"},\"mode\":\"markers\",\"name\":\"Rodman & Renshaw\",\"orientation\":\"v\",\"showlegend\":true,\"x\":[-0.5878571428571429],\"xaxis\":\"x\",\"y\":[7.3806411839158175],\"yaxis\":\"y\",\"type\":\"scatter\"},{\"hovertemplate\":\"manager=Roth Capital Partners\\u200b<br>returns=%{x}<br>risk=%{y}<extra></extra>\",\"legendgroup\":\"Roth Capital Partners\\u200b\",\"marker\":{\"color\":\"#FF6692\",\"symbol\":\"circle\"},\"mode\":\"markers\",\"name\":\"Roth Capital Partners\\u200b\",\"orientation\":\"v\",\"showlegend\":true,\"x\":[9.270285714285714],\"xaxis\":\"x\",\"y\":[18.923201054558938],\"yaxis\":\"y\",\"type\":\"scatter\"},{\"hovertemplate\":\"manager=SG Cowen<br>returns=%{x}<br>risk=%{y}<extra></extra>\",\"legendgroup\":\"SG Cowen\",\"marker\":{\"color\":\"#B6E880\",\"symbol\":\"circle\"},\"mode\":\"markers\",\"name\":\"SG Cowen\",\"orientation\":\"v\",\"showlegend\":true,\"x\":[19.012857142857143],\"xaxis\":\"x\",\"y\":[29.07809750477762],\"yaxis\":\"y\",\"type\":\"scatter\"},{\"hovertemplate\":\"manager=Salomon Smith Barney<br>returns=%{x}<br>risk=%{y}<extra></extra>\",\"legendgroup\":\"Salomon Smith Barney\",\"marker\":{\"color\":\"#FF97FF\",\"symbol\":\"circle\"},\"mode\":\"markers\",\"name\":\"Salomon Smith Barney\",\"orientation\":\"v\",\"showlegend\":true,\"x\":[17.64302564102564],\"xaxis\":\"x\",\"y\":[32.31255680926467],\"yaxis\":\"y\",\"type\":\"scatter\"},{\"hovertemplate\":\"manager=Sandler ONeill & Partners<br>returns=%{x}<br>risk=%{y}<extra></extra>\",\"legendgroup\":\"Sandler ONeill & Partners\",\"marker\":{\"color\":\"#FECB52\",\"symbol\":\"circle\"},\"mode\":\"markers\",\"name\":\"Sandler ONeill & Partners\",\"orientation\":\"v\",\"showlegend\":true,\"x\":[4.972941176470588],\"xaxis\":\"x\",\"y\":[7.026391603528222],\"yaxis\":\"y\",\"type\":\"scatter\"},{\"hovertemplate\":\"manager=Stephens<br>returns=%{x}<br>risk=%{y}<extra></extra>\",\"legendgroup\":\"Stephens\",\"marker\":{\"color\":\"#636efa\",\"symbol\":\"circle\"},\"mode\":\"markers\",\"name\":\"Stephens\",\"orientation\":\"v\",\"showlegend\":true,\"x\":[7.270416666666667],\"xaxis\":\"x\",\"y\":[8.939394726697671],\"yaxis\":\"y\",\"type\":\"scatter\"},{\"hovertemplate\":\"manager=Stifel<br>returns=%{x}<br>risk=%{y}<extra></extra>\",\"legendgroup\":\"Stifel\",\"marker\":{\"color\":\"#EF553B\",\"symbol\":\"circle\"},\"mode\":\"markers\",\"name\":\"Stifel\",\"orientation\":\"v\",\"showlegend\":true,\"x\":[13.705135135135135],\"xaxis\":\"x\",\"y\":[34.27885295004093],\"yaxis\":\"y\",\"type\":\"scatter\"},{\"hovertemplate\":\"manager=Stifel Nicolaus Weisel<br>returns=%{x}<br>risk=%{y}<extra></extra>\",\"legendgroup\":\"Stifel Nicolaus Weisel\",\"marker\":{\"color\":\"#00cc96\",\"symbol\":\"circle\"},\"mode\":\"markers\",\"name\":\"Stifel Nicolaus Weisel\",\"orientation\":\"v\",\"showlegend\":true,\"x\":[6.862631578947369],\"xaxis\":\"x\",\"y\":[11.677546280554957],\"yaxis\":\"y\",\"type\":\"scatter\"},{\"hovertemplate\":\"manager=SunTrust Robinson Humphrey<br>returns=%{x}<br>risk=%{y}<extra></extra>\",\"legendgroup\":\"SunTrust Robinson Humphrey\",\"marker\":{\"color\":\"#ab63fa\",\"symbol\":\"circle\"},\"mode\":\"markers\",\"name\":\"SunTrust Robinson Humphrey\",\"orientation\":\"v\",\"showlegend\":true,\"x\":[14.83],\"xaxis\":\"x\",\"y\":[40.02104804920183],\"yaxis\":\"y\",\"type\":\"scatter\"},{\"hovertemplate\":\"manager=ThinkEquity<br>returns=%{x}<br>risk=%{y}<extra></extra>\",\"legendgroup\":\"ThinkEquity\",\"marker\":{\"color\":\"#FFA15A\",\"symbol\":\"circle\"},\"mode\":\"markers\",\"name\":\"ThinkEquity\",\"orientation\":\"v\",\"showlegend\":true,\"x\":[14.635],\"xaxis\":\"x\",\"y\":[21.761496648062522],\"yaxis\":\"y\",\"type\":\"scatter\"},{\"hovertemplate\":\"manager=Thomas Weisel<br>returns=%{x}<br>risk=%{y}<extra></extra>\",\"legendgroup\":\"Thomas Weisel\",\"marker\":{\"color\":\"#19d3f3\",\"symbol\":\"circle\"},\"mode\":\"markers\",\"name\":\"Thomas Weisel\",\"orientation\":\"v\",\"showlegend\":true,\"x\":[19.173928571428572],\"xaxis\":\"x\",\"y\":[22.156199590430784],\"yaxis\":\"y\",\"type\":\"scatter\"},{\"hovertemplate\":\"manager=UBS Securitie<br>returns=%{x}<br>risk=%{y}<extra></extra>\",\"legendgroup\":\"UBS Securitie\",\"marker\":{\"color\":\"#FF6692\",\"symbol\":\"circle\"},\"mode\":\"markers\",\"name\":\"UBS Securitie\",\"orientation\":\"v\",\"showlegend\":true,\"x\":[17.521176470588234],\"xaxis\":\"x\",\"y\":[29.596254594617406],\"yaxis\":\"y\",\"type\":\"scatter\"},{\"hovertemplate\":\"manager=UBS Warburg<br>returns=%{x}<br>risk=%{y}<extra></extra>\",\"legendgroup\":\"UBS Warburg\",\"marker\":{\"color\":\"#B6E880\",\"symbol\":\"circle\"},\"mode\":\"markers\",\"name\":\"UBS Warburg\",\"orientation\":\"v\",\"showlegend\":true,\"x\":[16.792380952380952],\"xaxis\":\"x\",\"y\":[24.553154971359973],\"yaxis\":\"y\",\"type\":\"scatter\"},{\"hovertemplate\":\"manager=US Bancorp Piper Jaffray<br>returns=%{x}<br>risk=%{y}<extra></extra>\",\"legendgroup\":\"US Bancorp Piper Jaffray\",\"marker\":{\"color\":\"#FF97FF\",\"symbol\":\"circle\"},\"mode\":\"markers\",\"name\":\"US Bancorp Piper Jaffray\",\"orientation\":\"v\",\"showlegend\":true,\"x\":[13.414444444444445],\"xaxis\":\"x\",\"y\":[13.488229230620963],\"yaxis\":\"y\",\"type\":\"scatter\"},{\"hovertemplate\":\"manager=ViewTrade Securities<br>returns=%{x}<br>risk=%{y}<extra></extra>\",\"legendgroup\":\"ViewTrade Securities\",\"marker\":{\"color\":\"#FECB52\",\"symbol\":\"circle\"},\"mode\":\"markers\",\"name\":\"ViewTrade Securities\",\"orientation\":\"v\",\"showlegend\":true,\"x\":[45.38],\"xaxis\":\"x\",\"y\":[37.10838488228003],\"yaxis\":\"y\",\"type\":\"scatter\"},{\"hovertemplate\":\"manager=WR Hambrecht+Co<br>returns=%{x}<br>risk=%{y}<extra></extra>\",\"legendgroup\":\"WR Hambrecht+Co\",\"marker\":{\"color\":\"#636efa\",\"symbol\":\"circle\"},\"mode\":\"markers\",\"name\":\"WR Hambrecht+Co\",\"orientation\":\"v\",\"showlegend\":true,\"x\":[0.5090476190476192],\"xaxis\":\"x\",\"y\":[7.721685635120032],\"yaxis\":\"y\",\"type\":\"scatter\"},{\"hovertemplate\":\"manager=Wachovia<br>returns=%{x}<br>risk=%{y}<extra></extra>\",\"legendgroup\":\"Wachovia\",\"marker\":{\"color\":\"#EF553B\",\"symbol\":\"circle\"},\"mode\":\"markers\",\"name\":\"Wachovia\",\"orientation\":\"v\",\"showlegend\":true,\"x\":[12.685],\"xaxis\":\"x\",\"y\":[16.787068237187814],\"yaxis\":\"y\",\"type\":\"scatter\"},{\"hovertemplate\":\"manager=Wells Fargo Securities<br>returns=%{x}<br>risk=%{y}<extra></extra>\",\"legendgroup\":\"Wells Fargo Securities\",\"marker\":{\"color\":\"#00cc96\",\"symbol\":\"circle\"},\"mode\":\"markers\",\"name\":\"Wells Fargo Securities\",\"orientation\":\"v\",\"showlegend\":true,\"x\":[9.270821917808219],\"xaxis\":\"x\",\"y\":[21.683880251653946],\"yaxis\":\"y\",\"type\":\"scatter\"},{\"hovertemplate\":\"manager=Wm Blair<br>returns=%{x}<br>risk=%{y}<extra></extra>\",\"legendgroup\":\"Wm Blair\",\"marker\":{\"color\":\"#ab63fa\",\"symbol\":\"circle\"},\"mode\":\"markers\",\"name\":\"Wm Blair\",\"orientation\":\"v\",\"showlegend\":true,\"x\":[19.243492063492063],\"xaxis\":\"x\",\"y\":[19.286437417365818],\"yaxis\":\"y\",\"type\":\"scatter\"},{\"hovertemplate\":\"manager=Wunderlich Securities<br>returns=%{x}<br>risk=%{y}<extra></extra>\",\"legendgroup\":\"Wunderlich Securities\",\"marker\":{\"color\":\"#FFA15A\",\"symbol\":\"circle\"},\"mode\":\"markers\",\"name\":\"Wunderlich Securities\",\"orientation\":\"v\",\"showlegend\":true,\"x\":[-1.017],\"xaxis\":\"x\",\"y\":[5.753466684433732],\"yaxis\":\"y\",\"type\":\"scatter\"}],                        {\"template\":{\"data\":{\"bar\":[{\"error_x\":{\"color\":\"#2a3f5f\"},\"error_y\":{\"color\":\"#2a3f5f\"},\"marker\":{\"line\":{\"color\":\"#E5ECF6\",\"width\":0.5},\"pattern\":{\"fillmode\":\"overlay\",\"size\":10,\"solidity\":0.2}},\"type\":\"bar\"}],\"barpolar\":[{\"marker\":{\"line\":{\"color\":\"#E5ECF6\",\"width\":0.5},\"pattern\":{\"fillmode\":\"overlay\",\"size\":10,\"solidity\":0.2}},\"type\":\"barpolar\"}],\"carpet\":[{\"aaxis\":{\"endlinecolor\":\"#2a3f5f\",\"gridcolor\":\"white\",\"linecolor\":\"white\",\"minorgridcolor\":\"white\",\"startlinecolor\":\"#2a3f5f\"},\"baxis\":{\"endlinecolor\":\"#2a3f5f\",\"gridcolor\":\"white\",\"linecolor\":\"white\",\"minorgridcolor\":\"white\",\"startlinecolor\":\"#2a3f5f\"},\"type\":\"carpet\"}],\"choropleth\":[{\"colorbar\":{\"outlinewidth\":0,\"ticks\":\"\"},\"type\":\"choropleth\"}],\"contour\":[{\"colorbar\":{\"outlinewidth\":0,\"ticks\":\"\"},\"colorscale\":[[0.0,\"#0d0887\"],[0.1111111111111111,\"#46039f\"],[0.2222222222222222,\"#7201a8\"],[0.3333333333333333,\"#9c179e\"],[0.4444444444444444,\"#bd3786\"],[0.5555555555555556,\"#d8576b\"],[0.6666666666666666,\"#ed7953\"],[0.7777777777777778,\"#fb9f3a\"],[0.8888888888888888,\"#fdca26\"],[1.0,\"#f0f921\"]],\"type\":\"contour\"}],\"contourcarpet\":[{\"colorbar\":{\"outlinewidth\":0,\"ticks\":\"\"},\"type\":\"contourcarpet\"}],\"heatmap\":[{\"colorbar\":{\"outlinewidth\":0,\"ticks\":\"\"},\"colorscale\":[[0.0,\"#0d0887\"],[0.1111111111111111,\"#46039f\"],[0.2222222222222222,\"#7201a8\"],[0.3333333333333333,\"#9c179e\"],[0.4444444444444444,\"#bd3786\"],[0.5555555555555556,\"#d8576b\"],[0.6666666666666666,\"#ed7953\"],[0.7777777777777778,\"#fb9f3a\"],[0.8888888888888888,\"#fdca26\"],[1.0,\"#f0f921\"]],\"type\":\"heatmap\"}],\"heatmapgl\":[{\"colorbar\":{\"outlinewidth\":0,\"ticks\":\"\"},\"colorscale\":[[0.0,\"#0d0887\"],[0.1111111111111111,\"#46039f\"],[0.2222222222222222,\"#7201a8\"],[0.3333333333333333,\"#9c179e\"],[0.4444444444444444,\"#bd3786\"],[0.5555555555555556,\"#d8576b\"],[0.6666666666666666,\"#ed7953\"],[0.7777777777777778,\"#fb9f3a\"],[0.8888888888888888,\"#fdca26\"],[1.0,\"#f0f921\"]],\"type\":\"heatmapgl\"}],\"histogram\":[{\"marker\":{\"pattern\":{\"fillmode\":\"overlay\",\"size\":10,\"solidity\":0.2}},\"type\":\"histogram\"}],\"histogram2d\":[{\"colorbar\":{\"outlinewidth\":0,\"ticks\":\"\"},\"colorscale\":[[0.0,\"#0d0887\"],[0.1111111111111111,\"#46039f\"],[0.2222222222222222,\"#7201a8\"],[0.3333333333333333,\"#9c179e\"],[0.4444444444444444,\"#bd3786\"],[0.5555555555555556,\"#d8576b\"],[0.6666666666666666,\"#ed7953\"],[0.7777777777777778,\"#fb9f3a\"],[0.8888888888888888,\"#fdca26\"],[1.0,\"#f0f921\"]],\"type\":\"histogram2d\"}],\"histogram2dcontour\":[{\"colorbar\":{\"outlinewidth\":0,\"ticks\":\"\"},\"colorscale\":[[0.0,\"#0d0887\"],[0.1111111111111111,\"#46039f\"],[0.2222222222222222,\"#7201a8\"],[0.3333333333333333,\"#9c179e\"],[0.4444444444444444,\"#bd3786\"],[0.5555555555555556,\"#d8576b\"],[0.6666666666666666,\"#ed7953\"],[0.7777777777777778,\"#fb9f3a\"],[0.8888888888888888,\"#fdca26\"],[1.0,\"#f0f921\"]],\"type\":\"histogram2dcontour\"}],\"mesh3d\":[{\"colorbar\":{\"outlinewidth\":0,\"ticks\":\"\"},\"type\":\"mesh3d\"}],\"parcoords\":[{\"line\":{\"colorbar\":{\"outlinewidth\":0,\"ticks\":\"\"}},\"type\":\"parcoords\"}],\"pie\":[{\"automargin\":true,\"type\":\"pie\"}],\"scatter\":[{\"marker\":{\"colorbar\":{\"outlinewidth\":0,\"ticks\":\"\"}},\"type\":\"scatter\"}],\"scatter3d\":[{\"line\":{\"colorbar\":{\"outlinewidth\":0,\"ticks\":\"\"}},\"marker\":{\"colorbar\":{\"outlinewidth\":0,\"ticks\":\"\"}},\"type\":\"scatter3d\"}],\"scattercarpet\":[{\"marker\":{\"colorbar\":{\"outlinewidth\":0,\"ticks\":\"\"}},\"type\":\"scattercarpet\"}],\"scattergeo\":[{\"marker\":{\"colorbar\":{\"outlinewidth\":0,\"ticks\":\"\"}},\"type\":\"scattergeo\"}],\"scattergl\":[{\"marker\":{\"colorbar\":{\"outlinewidth\":0,\"ticks\":\"\"}},\"type\":\"scattergl\"}],\"scattermapbox\":[{\"marker\":{\"colorbar\":{\"outlinewidth\":0,\"ticks\":\"\"}},\"type\":\"scattermapbox\"}],\"scatterpolar\":[{\"marker\":{\"colorbar\":{\"outlinewidth\":0,\"ticks\":\"\"}},\"type\":\"scatterpolar\"}],\"scatterpolargl\":[{\"marker\":{\"colorbar\":{\"outlinewidth\":0,\"ticks\":\"\"}},\"type\":\"scatterpolargl\"}],\"scatterternary\":[{\"marker\":{\"colorbar\":{\"outlinewidth\":0,\"ticks\":\"\"}},\"type\":\"scatterternary\"}],\"surface\":[{\"colorbar\":{\"outlinewidth\":0,\"ticks\":\"\"},\"colorscale\":[[0.0,\"#0d0887\"],[0.1111111111111111,\"#46039f\"],[0.2222222222222222,\"#7201a8\"],[0.3333333333333333,\"#9c179e\"],[0.4444444444444444,\"#bd3786\"],[0.5555555555555556,\"#d8576b\"],[0.6666666666666666,\"#ed7953\"],[0.7777777777777778,\"#fb9f3a\"],[0.8888888888888888,\"#fdca26\"],[1.0,\"#f0f921\"]],\"type\":\"surface\"}],\"table\":[{\"cells\":{\"fill\":{\"color\":\"#EBF0F8\"},\"line\":{\"color\":\"white\"}},\"header\":{\"fill\":{\"color\":\"#C8D4E3\"},\"line\":{\"color\":\"white\"}},\"type\":\"table\"}]},\"layout\":{\"annotationdefaults\":{\"arrowcolor\":\"#2a3f5f\",\"arrowhead\":0,\"arrowwidth\":1},\"autotypenumbers\":\"strict\",\"coloraxis\":{\"colorbar\":{\"outlinewidth\":0,\"ticks\":\"\"}},\"colorscale\":{\"diverging\":[[0,\"#8e0152\"],[0.1,\"#c51b7d\"],[0.2,\"#de77ae\"],[0.3,\"#f1b6da\"],[0.4,\"#fde0ef\"],[0.5,\"#f7f7f7\"],[0.6,\"#e6f5d0\"],[0.7,\"#b8e186\"],[0.8,\"#7fbc41\"],[0.9,\"#4d9221\"],[1,\"#276419\"]],\"sequential\":[[0.0,\"#0d0887\"],[0.1111111111111111,\"#46039f\"],[0.2222222222222222,\"#7201a8\"],[0.3333333333333333,\"#9c179e\"],[0.4444444444444444,\"#bd3786\"],[0.5555555555555556,\"#d8576b\"],[0.6666666666666666,\"#ed7953\"],[0.7777777777777778,\"#fb9f3a\"],[0.8888888888888888,\"#fdca26\"],[1.0,\"#f0f921\"]],\"sequentialminus\":[[0.0,\"#0d0887\"],[0.1111111111111111,\"#46039f\"],[0.2222222222222222,\"#7201a8\"],[0.3333333333333333,\"#9c179e\"],[0.4444444444444444,\"#bd3786\"],[0.5555555555555556,\"#d8576b\"],[0.6666666666666666,\"#ed7953\"],[0.7777777777777778,\"#fb9f3a\"],[0.8888888888888888,\"#fdca26\"],[1.0,\"#f0f921\"]]},\"colorway\":[\"#636efa\",\"#EF553B\",\"#00cc96\",\"#ab63fa\",\"#FFA15A\",\"#19d3f3\",\"#FF6692\",\"#B6E880\",\"#FF97FF\",\"#FECB52\"],\"font\":{\"color\":\"#2a3f5f\"},\"geo\":{\"bgcolor\":\"white\",\"lakecolor\":\"white\",\"landcolor\":\"#E5ECF6\",\"showlakes\":true,\"showland\":true,\"subunitcolor\":\"white\"},\"hoverlabel\":{\"align\":\"left\"},\"hovermode\":\"closest\",\"mapbox\":{\"style\":\"light\"},\"paper_bgcolor\":\"white\",\"plot_bgcolor\":\"#E5ECF6\",\"polar\":{\"angularaxis\":{\"gridcolor\":\"white\",\"linecolor\":\"white\",\"ticks\":\"\"},\"bgcolor\":\"#E5ECF6\",\"radialaxis\":{\"gridcolor\":\"white\",\"linecolor\":\"white\",\"ticks\":\"\"}},\"scene\":{\"xaxis\":{\"backgroundcolor\":\"#E5ECF6\",\"gridcolor\":\"white\",\"gridwidth\":2,\"linecolor\":\"white\",\"showbackground\":true,\"ticks\":\"\",\"zerolinecolor\":\"white\"},\"yaxis\":{\"backgroundcolor\":\"#E5ECF6\",\"gridcolor\":\"white\",\"gridwidth\":2,\"linecolor\":\"white\",\"showbackground\":true,\"ticks\":\"\",\"zerolinecolor\":\"white\"},\"zaxis\":{\"backgroundcolor\":\"#E5ECF6\",\"gridcolor\":\"white\",\"gridwidth\":2,\"linecolor\":\"white\",\"showbackground\":true,\"ticks\":\"\",\"zerolinecolor\":\"white\"}},\"shapedefaults\":{\"line\":{\"color\":\"#2a3f5f\"}},\"ternary\":{\"aaxis\":{\"gridcolor\":\"white\",\"linecolor\":\"white\",\"ticks\":\"\"},\"baxis\":{\"gridcolor\":\"white\",\"linecolor\":\"white\",\"ticks\":\"\"},\"bgcolor\":\"#E5ECF6\",\"caxis\":{\"gridcolor\":\"white\",\"linecolor\":\"white\",\"ticks\":\"\"}},\"title\":{\"x\":0.05},\"xaxis\":{\"automargin\":true,\"gridcolor\":\"white\",\"linecolor\":\"white\",\"ticks\":\"\",\"title\":{\"standoff\":15},\"zerolinecolor\":\"white\",\"zerolinewidth\":2},\"yaxis\":{\"automargin\":true,\"gridcolor\":\"white\",\"linecolor\":\"white\",\"ticks\":\"\",\"title\":{\"standoff\":15},\"zerolinecolor\":\"white\",\"zerolinewidth\":2}}},\"xaxis\":{\"anchor\":\"y\",\"domain\":[0.0,1.0],\"title\":{\"text\":\"returns\"}},\"yaxis\":{\"anchor\":\"x\",\"domain\":[0.0,1.0],\"title\":{\"text\":\"risk\"}},\"legend\":{\"title\":{\"text\":\"manager\"},\"tracegroupgap\":0},\"title\":{\"text\":\"Risk vs Returns by Manager\"}},                        {\"responsive\": true}                    ).then(function(){\n",
       "                            \n",
       "var gd = document.getElementById('b69dcc4c-fbdc-4e2f-9652-bd1f07fbeab1');\n",
       "var x = new MutationObserver(function (mutations, observer) {{\n",
       "        var display = window.getComputedStyle(gd).display;\n",
       "        if (!display || display === 'none') {{\n",
       "            console.log([gd, 'removed!']);\n",
       "            Plotly.purge(gd);\n",
       "            observer.disconnect();\n",
       "        }}\n",
       "}});\n",
       "\n",
       "// Listen for the removal of the full notebook cells\n",
       "var notebookContainer = gd.closest('#notebook-container');\n",
       "if (notebookContainer) {{\n",
       "    x.observe(notebookContainer, {childList: true});\n",
       "}}\n",
       "\n",
       "// Listen for the clearing of the current output cell\n",
       "var outputEl = gd.closest('.output');\n",
       "if (outputEl) {{\n",
       "    x.observe(outputEl, {childList: true});\n",
       "}}\n",
       "\n",
       "                        })                };                });            </script>        </div>"
      ]
     },
     "metadata": {},
     "output_type": "display_data"
    }
   ],
   "source": [
    "fig = px.scatter(df, x='returns', y='risk', color='manager', title=\"Risk vs Returns by Manager\")\n",
    "fig.show()"
   ]
  },
  {
   "cell_type": "markdown",
   "id": "38992547",
   "metadata": {},
   "source": [
    "**Analysis by popularity**"
   ]
  },
  {
   "cell_type": "code",
   "execution_count": 879,
   "id": "fce3b65a",
   "metadata": {},
   "outputs": [],
   "source": [
    "company_df2['1st Day %change'] = company_df2.apply(lambda x:float(x['Return']/x['Offer Price']), axis=1)"
   ]
  },
  {
   "cell_type": "code",
   "execution_count": 880,
   "id": "ca75237c",
   "metadata": {},
   "outputs": [],
   "source": [
    "x = company_df2.sort_values(by=['popularity'])\n",
    "x = pd.DataFrame(x.groupby('popularity')['1st Day %change'].mean())\n",
    "x.reset_index(level=-1, inplace=True)"
   ]
  },
  {
   "cell_type": "code",
   "execution_count": 881,
   "id": "542395d7",
   "metadata": {},
   "outputs": [
    {
     "data": {
      "image/png": "[encoded data removed]",
      "text/plain": [
       "<Figure size 432x288 with 1 Axes>"
      ]
     },
     "metadata": {
      "needs_background": "light"
     },
     "output_type": "display_data"
    }
   ],
   "source": [
    "plt.plot(x['popularity'], x['1st Day %change'])\n",
    "plt.show()"
   ]
  },
  {
   "cell_type": "markdown",
   "id": "6bddf156",
   "metadata": {},
   "source": [
    "We can see that there is no correlation between the popularity index and returns before popularity index<6. This maybe due to 2 reasons:\n",
    "    - For companies that had very low search volume or those that were not detected by Google Trends api, the default value is 0. Hence, the huge surge of IPOs with popularity=0.\n",
    "    - The relation between the popularity index and avg returns is clearly defined only for companies with popularity index>6. "
   ]
  },
  {
   "cell_type": "markdown",
   "id": "c06407e0",
   "metadata": {},
   "source": [
    "# SECTION 5: Model Training and Evaluation"
   ]
  },
  {
   "cell_type": "markdown",
   "id": "d6e128a8",
   "metadata": {},
   "source": [
    "We will use the most recent 12 months data to build and test our model, as we have company information only for this data. \n",
    "\n",
    "**We will be building a classifier model, which predicts the score/ranking of an IPO**\n",
    "\n",
    "The ranking of the IPO is defined the following way (logic borrowed from external sources like IPO Scoop):\n",
    "\n",
    "- Rank 1: $0 - $0.49 per share\n",
    "- Rank 2: $0.5 - $1 per share\n",
    "- Rank 3: $1 - $3 per share\n",
    "- Rank 4: $4 or more (but less than the double of the Offer Price), per share\n",
    "- Rank 5: Double of the offer price or more, per share\n",
    "\n",
    "\n",
    "Step 1: Add 'Score' variable to our dataset\n",
    "\n",
    "Step 2: Removing columns that would not be available for new IPOs (e.g. '1st Day Close') before the launch date. Our main goal is to predict the performance of IPOs, hence, we will only use variables that can be obtained before the IPO launch, in our model.\n",
    "\n",
    "Step 3: Handling categorical variables\n",
    "\n",
    "Step 4: Checking the distribution of our class variable\n",
    "\n",
    "   - Imbalanced dataset would make the model biased, hence, depending on the distribution of our class variable, we need to oversample/undersample our dataset so that we have uniform distribution of all classes.\n",
    "\n",
    "Step 5: Model Training\n",
    "\n",
    "- We will train the following models and then choose the best amongst them for our analysis:\n",
    "\n",
    "    - Random Forest\n",
    "    - Naive Bayes\n",
    "    - SVM\n",
    "    - Gradient Boosting Tree\n",
    "\n",
    "- We will perform cross-validation as we have a relatively small dataset (only 300+ rows)\n",
    "\n",
    "Step 6: Model Evaluation and Selection\n",
    "\n",
    "- We will use RMSE and R-squared values to evaluate the model. RMSE will indicate the accuracy of the model and R-squared value would indicate the fit of the model (how much it is able to explain the variances observed in the outcome variable).\n",
    "\n",
    "Step 7: Interpreting the results"
   ]
  },
  {
   "cell_type": "markdown",
   "id": "7c5411f0",
   "metadata": {},
   "source": [
    "**Step 1: Add 'Score' variable to the dataset**"
   ]
  },
  {
   "cell_type": "code",
   "execution_count": 882,
   "id": "ceb24ece",
   "metadata": {},
   "outputs": [],
   "source": [
    "company_df3 = company_df2\n",
    "\n",
    "def score_ipo(close_price, offer_price):\n",
    "    profit = close_price - offer_price\n",
    "    score = 0\n",
    "    if(profit>=(2*offer_price)):\n",
    "        score = 5\n",
    "    elif(profit<=0.49):\n",
    "        score = 1\n",
    "    elif((profit>=0.5) and (profit<1)):\n",
    "        score = 2\n",
    "    elif((profit>=1) and (profit<=3)):\n",
    "        score = 3\n",
    "    else:\n",
    "        score = 4\n",
    "    return score\n",
    "\n",
    "company_df3['Score'] = company_df3.apply(lambda x:score_ipo(x['1st Day Close'], x['Offer Price']), axis=1)"
   ]
  },
  {
   "cell_type": "markdown",
   "id": "8a8ec742",
   "metadata": {},
   "source": [
    "**Step 2: Remove variables that would not be available for new IPOs (not yet launched)** "
   ]
  },
  {
   "cell_type": "code",
   "execution_count": 883,
   "id": "8531ae62",
   "metadata": {},
   "outputs": [],
   "source": [
    "company_df3 = company_df3.drop(['1st Day %change', '1st Day Close', 'Return'], axis=1)"
   ]
  },
  {
   "cell_type": "markdown",
   "id": "2d19f53a",
   "metadata": {},
   "source": [
    "We can also remove some other variables that do not contribute much information to the model"
   ]
  },
  {
   "cell_type": "code",
   "execution_count": 884,
   "id": "cc346226",
   "metadata": {},
   "outputs": [],
   "source": [
    "company_df3.drop(['Company', 'Symbol', 'Offer Date', 'Year', 'Date', 'Month', 'Quarter', 'Day'], axis=1, inplace=True)"
   ]
  },
  {
   "cell_type": "markdown",
   "id": "20a41f90",
   "metadata": {},
   "source": [
    "**Step 3: Handling Categorical variables**"
   ]
  },
  {
   "cell_type": "markdown",
   "id": "67d531ea",
   "metadata": {},
   "source": [
    "One-hot encoding for all categorical variables (Except manager name):"
   ]
  },
  {
   "cell_type": "code",
   "execution_count": 885,
   "id": "2203849b",
   "metadata": {},
   "outputs": [],
   "source": [
    "temp_df = pd.get_dummies(company_df3[['Industry', 'Exchange']], prefix=['Industry', 'Exchange'])\n",
    "company_df3.drop(['Industry', 'Exchange'], axis=1, inplace=True)\n",
    "company_df3 = pd.concat([company_df3, temp_df], axis=1)"
   ]
  },
  {
   "cell_type": "markdown",
   "id": "6c12e2a1",
   "metadata": {},
   "source": [
    "Vectorizing manager name (similar to one-hot encoding, as it just indicates the presence of a specific manager in an IPO with 0/1 value)"
   ]
  },
  {
   "cell_type": "code",
   "execution_count": 886,
   "id": "b4aa5660",
   "metadata": {},
   "outputs": [],
   "source": [
    "vectorizer = CountVectorizer(analyzer=lambda x:x)\n",
    "X = vectorizer.fit_transform(company_df3['Managers']).toarray()\n",
    "manager_col_names = vectorizer.get_feature_names()\n",
    "manager_df = pd.DataFrame(X, columns=manager_col_names)\n",
    "\n",
    "company_df3 = pd.concat([company_df3, manager_df], axis=1)\n",
    "company_df3.drop(['Managers'], axis=1, inplace=True)"
   ]
  },
  {
   "cell_type": "markdown",
   "id": "b7efaa72",
   "metadata": {},
   "source": [
    "**Step 4: Checking the distribution of the class variable 'Score'**"
   ]
  },
  {
   "cell_type": "code",
   "execution_count": 887,
   "id": "c97f34a7",
   "metadata": {},
   "outputs": [
    {
     "data": {
      "text/plain": [
       "(array([143.,   0.,  16.,   0.,   0.,  47.,   0., 109.,   0.,   8.]),\n",
       " array([1. , 1.4, 1.8, 2.2, 2.6, 3. , 3.4, 3.8, 4.2, 4.6, 5. ]),\n",
       " <BarContainer object of 10 artists>)"
      ]
     },
     "execution_count": 887,
     "metadata": {},
     "output_type": "execute_result"
    },
    {
     "data": {
      "image/png": "[encoded data removed]",
      "text/plain": [
       "<Figure size 432x288 with 1 Axes>"
      ]
     },
     "metadata": {
      "needs_background": "light"
     },
     "output_type": "display_data"
    }
   ],
   "source": [
    "plt.hist(company_df2['Score'])"
   ]
  },
  {
   "cell_type": "markdown",
   "id": "b7d35362",
   "metadata": {},
   "source": [
    "The data is clearly imbalanced, with IPOs having rating=1 and 4 having exceptionally high number of records than the other classes. This would make the model biased. Hence, we need to over-sample the minority classes in order to balance this dataset. We use the SMOTE method to over-sample the dataset."
   ]
  },
  {
   "cell_type": "code",
   "execution_count": 945,
   "id": "420283c2",
   "metadata": {},
   "outputs": [],
   "source": [
    "X = company_df3.drop(['Score'], axis=1)\n",
    "y = company_df3['Score']\n",
    "X_train, X_test, y_train, y_test = train_test_split(X, y, test_size=0.2, random_state=4)"
   ]
  },
  {
   "cell_type": "code",
   "execution_count": 946,
   "id": "2cfd4dd8",
   "metadata": {},
   "outputs": [],
   "source": [
    "import imblearn\n",
    "from imblearn.over_sampling import SMOTE\n",
    "oversample = SMOTE()\n",
    "X_train, y_train = oversample.fit_resample(X_train, y_train)"
   ]
  },
  {
   "cell_type": "markdown",
   "id": "5f8ff487",
   "metadata": {},
   "source": [
    "The distribution is highly imbalanced. It contains many outliers, which need to be removed. Since our data is skewed, we use the IQR approach to detect and remove the outliers."
   ]
  },
  {
   "cell_type": "code",
   "execution_count": 947,
   "id": "02f6e2e0",
   "metadata": {},
   "outputs": [
    {
     "data": {
      "text/plain": [
       "(array([116.,   0., 116.,   0.,   0., 116.,   0., 116.,   0., 116.]),\n",
       " array([1. , 1.4, 1.8, 2.2, 2.6, 3. , 3.4, 3.8, 4.2, 4.6, 5. ]),\n",
       " <BarContainer object of 10 artists>)"
      ]
     },
     "execution_count": 947,
     "metadata": {},
     "output_type": "execute_result"
    },
    {
     "data": {
      "image/png": "[encoded data removed]",
      "text/plain": [
       "<Figure size 432x288 with 1 Axes>"
      ]
     },
     "metadata": {
      "needs_background": "light"
     },
     "output_type": "display_data"
    }
   ],
   "source": [
    "plt.hist(y_train)"
   ]
  },
  {
   "cell_type": "markdown",
   "id": "23b0ce60",
   "metadata": {},
   "source": [
    "The data is now balanced and we have equal number of records for all classes/scores."
   ]
  },
  {
   "cell_type": "markdown",
   "id": "9f818f3f",
   "metadata": {},
   "source": [
    "**Step 5: Normalization**"
   ]
  },
  {
   "cell_type": "code",
   "execution_count": 948,
   "id": "aae198ff",
   "metadata": {},
   "outputs": [],
   "source": [
    "X_train, X_test, y_train, y_test = train_test_split(X, y, test_size=0.2, random_state=4)"
   ]
  },
  {
   "cell_type": "code",
   "execution_count": 949,
   "id": "f0afb1b8",
   "metadata": {},
   "outputs": [],
   "source": [
    "sc = StandardScaler()\n",
    "# from sklearn import preprocessing\n",
    "\n",
    "# sc = preprocessing.MinMaxScaler()\n",
    "X_train = sc.fit_transform(X_train)\n",
    "X_test = sc.transform(X_test)"
   ]
  },
  {
   "cell_type": "code",
   "execution_count": 950,
   "id": "3ef635e2",
   "metadata": {},
   "outputs": [],
   "source": [
    "pca = PCA(n_components=150)\n",
    "X_train = pca.fit_transform(X_train)\n",
    "X_test = pca.transform(X_test)"
   ]
  },
  {
   "cell_type": "markdown",
   "id": "237ea347",
   "metadata": {},
   "source": [
    "**Step 5: Model Training**"
   ]
  },
  {
   "cell_type": "markdown",
   "id": "a0b403d7",
   "metadata": {},
   "source": [
    "*Model 1: Random Forest*"
   ]
  },
  {
   "cell_type": "code",
   "execution_count": 951,
   "id": "9c0c6c9a",
   "metadata": {},
   "outputs": [],
   "source": [
    "from sklearn.ensemble import RandomForestClassifier\n",
    "\n",
    "rf_model = RandomForestClassifier(n_estimators = 1000, random_state = 42)\n",
    "cv = KFold(n_splits=5, random_state=42, shuffle=True)\n",
    "n_scores = cross_validate(rf_model, X_train, y_train, scoring='accuracy' , cv=cv, n_jobs=-1, error_score='raise')"
   ]
  },
  {
   "cell_type": "code",
   "execution_count": 952,
   "id": "45cfe334",
   "metadata": {},
   "outputs": [
    {
     "name": "stdout",
     "output_type": "stream",
     "text": [
      "Accuracy (train data): 0.47\n"
     ]
    }
   ],
   "source": [
    "print('Accuracy (train data): ' + str(round(mean(n_scores['test_score']), 2)))"
   ]
  },
  {
   "cell_type": "markdown",
   "id": "e0fb047c",
   "metadata": {},
   "source": [
    "*Model 2: Naive Bayes*"
   ]
  },
  {
   "cell_type": "code",
   "execution_count": 953,
   "id": "decd99ba",
   "metadata": {},
   "outputs": [],
   "source": [
    "from sklearn.naive_bayes import GaussianNB\n",
    "gnb = GaussianNB()\n",
    "cv = KFold(n_splits=5, random_state=42, shuffle=True)\n",
    "n_scores = cross_validate(gnb, X_train, y_train, scoring='accuracy' , cv=cv, n_jobs=-1, error_score='raise')"
   ]
  },
  {
   "cell_type": "code",
   "execution_count": 954,
   "id": "94c6ad68",
   "metadata": {},
   "outputs": [
    {
     "name": "stdout",
     "output_type": "stream",
     "text": [
      "Accuracy (train data): 0.38\n"
     ]
    }
   ],
   "source": [
    "print('Accuracy (train data): ' + str(round(mean(n_scores['test_score']), 2)))"
   ]
  },
  {
   "cell_type": "markdown",
   "id": "56681e36",
   "metadata": {},
   "source": [
    "*Model 3: SVM*"
   ]
  },
  {
   "cell_type": "code",
   "execution_count": 955,
   "id": "87ff2b88",
   "metadata": {},
   "outputs": [],
   "source": [
    "from sklearn.svm import SVC\n",
    "svc = SVC(gamma='auto')\n",
    "cv = KFold(n_splits=5, random_state=42, shuffle=True)\n",
    "n_scores = cross_validate(svc, X_train, y_train, scoring='accuracy' , cv=cv, n_jobs=-1, error_score='raise')"
   ]
  },
  {
   "cell_type": "code",
   "execution_count": 956,
   "id": "bf04e5a0",
   "metadata": {},
   "outputs": [
    {
     "name": "stdout",
     "output_type": "stream",
     "text": [
      "Accuracy (train data): 0.51\n"
     ]
    }
   ],
   "source": [
    "print('Accuracy (train data): ' + str(round(mean(n_scores['test_score']), 2)))"
   ]
  },
  {
   "cell_type": "markdown",
   "id": "ebd92294",
   "metadata": {},
   "source": [
    "*Model 4: Gradient Boosting Tree*"
   ]
  },
  {
   "cell_type": "code",
   "execution_count": 957,
   "id": "27e523d4",
   "metadata": {},
   "outputs": [],
   "source": [
    "import xgboost as xgb\n",
    "xgb_reg = xgb.XGBClassifier()\n",
    "cv = KFold(n_splits=5, random_state=42, shuffle=True)\n",
    "n_scores = cross_validate(xgb_reg, X_train, y_train, scoring='accuracy' , cv=cv, n_jobs=-1, error_score='raise')"
   ]
  },
  {
   "cell_type": "code",
   "execution_count": 958,
   "id": "2e5ab332",
   "metadata": {},
   "outputs": [
    {
     "name": "stdout",
     "output_type": "stream",
     "text": [
      "Accuracy (train data): 0.42\n"
     ]
    }
   ],
   "source": [
    "print('Accuracy (train data): ' + str(round(mean(n_scores['test_score']), 2)))"
   ]
  },
  {
   "cell_type": "markdown",
   "id": "18d1779e",
   "metadata": {},
   "source": [
    "**Step 6: Model Evaluation and selection**"
   ]
  },
  {
   "cell_type": "markdown",
   "id": "e273d736",
   "metadata": {},
   "source": [
    "We choose the SVM model as it has the highest accuracy."
   ]
  },
  {
   "cell_type": "code",
   "execution_count": 959,
   "id": "1747b0b7",
   "metadata": {},
   "outputs": [],
   "source": [
    "model = SVC(gamma='auto')\n",
    "model = model.fit(X_train, y_train)"
   ]
  },
  {
   "cell_type": "code",
   "execution_count": 960,
   "id": "0a6dac86",
   "metadata": {},
   "outputs": [],
   "source": [
    "y_pred = model.predict(X_test)"
   ]
  },
  {
   "cell_type": "code",
   "execution_count": 961,
   "id": "62531606",
   "metadata": {},
   "outputs": [],
   "source": [
    "cm = confusion_matrix(y_test, y_pred)"
   ]
  },
  {
   "cell_type": "code",
   "execution_count": 962,
   "id": "fb130412",
   "metadata": {},
   "outputs": [
    {
     "data": {
      "text/plain": [
       "array([[23,  0,  0,  3,  1],\n",
       "       [ 5,  0,  0,  0,  0],\n",
       "       [ 8,  0,  0,  3,  1],\n",
       "       [13,  0,  0,  8,  0],\n",
       "       [ 0,  0,  0,  0,  0]])"
      ]
     },
     "execution_count": 962,
     "metadata": {},
     "output_type": "execute_result"
    }
   ],
   "source": [
    "cm"
   ]
  },
  {
   "cell_type": "code",
   "execution_count": 963,
   "id": "37e07cd1",
   "metadata": {},
   "outputs": [
    {
     "data": {
      "image/png": "[encoded data removed]",
      "text/plain": [
       "<Figure size 432x288 with 2 Axes>"
      ]
     },
     "metadata": {
      "needs_background": "light"
     },
     "output_type": "display_data"
    }
   ],
   "source": [
    "ax= plt.subplot()\n",
    "sns.heatmap(cm, annot=True, fmt='g', ax=ax);  \n",
    "\n",
    "ax.set_xlabel('Predicted labels');ax.set_ylabel('True labels'); \n",
    "ax.set_title('Confusion Matrix'); \n",
    "ax.xaxis.set_ticklabels(['Score:1', 'Score:2', 'Score:3', 'Score:4', 'Score:5']); ax.yaxis.set_ticklabels(['Score:1', 'Score:2', 'Score:3', 'Score:4', 'Score:5']);\n"
   ]
  },
  {
   "cell_type": "markdown",
   "id": "b5d080fe",
   "metadata": {},
   "source": [
    "Observations for the test data predictions:\n",
    "- Only Score=1, 4 and 5 classes have records being predicted correctly\n",
    "- Most of the records get classified under Score=1 or 13"
   ]
  },
  {
   "cell_type": "code",
   "execution_count": 966,
   "id": "71314f6c",
   "metadata": {},
   "outputs": [
    {
     "name": "stdout",
     "output_type": "stream",
     "text": [
      "Accuracy (test data): 0.47692307692307695\n"
     ]
    }
   ],
   "source": [
    "accuracy = (cm.diagonal().sum())/len(y_test)\n",
    "print(\"Accuracy (test data): \" + str(accuracy))"
   ]
  }
 ],
 "metadata": {
  "kernelspec": {
   "display_name": "conda_python3",
   "language": "python",
   "name": "conda_python3"
  },
  "language_info": {
   "codemirror_mode": {
    "name": "ipython",
    "version": 3
   },
   "file_extension": ".py",
   "mimetype": "text/x-python",
   "name": "python",
   "nbconvert_exporter": "python",
   "pygments_lexer": "ipython3",
   "version": "3.6.13"
  }
 },
 "nbformat": 4,
 "nbformat_minor": 5
}
